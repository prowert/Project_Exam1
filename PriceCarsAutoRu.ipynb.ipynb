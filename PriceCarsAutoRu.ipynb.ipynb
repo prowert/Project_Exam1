{
 "cells": [
  {
   "cell_type": "markdown",
   "metadata": {
    "papermill": {
     "duration": 0.057543,
     "end_time": "2021-12-15T18:58:37.192977",
     "exception": false,
     "start_time": "2021-12-15T18:58:37.135434",
     "status": "completed"
    },
    "tags": []
   },
   "source": [
    "<img src=\"https://whatcar.vn/media/2018/09/car-lot-940x470.jpg\"/>\n",
    "\n",
    "# Прогнозирование стоимости автомобиля по характеристикам\n",
    "\n",
    "## Цель проекта\n",
    "Создать модель, которая будет предсказывать стоимость автомобиля по его характеристикам и поможет быстро выявлять выгодные предложения (когда желаемая цена продавца ниже предсказанной рыночной цены)\n",
    "\n",
    "## Задачи проекта\n",
    "1. Собрать датасет с данными для обучения модели с помощью парсера;\n",
    "2. Провести первичную обработку данных. Написать вспомогательные функции;\n",
    "3. Провести анализ основных переменных, оцените их важность и вклад для модели, сгенерировать новые признаки;\n",
    "4. Составить отчёт по результатам анализа данных;\n",
    "5. Обучить несколько различных моделей, сравнить результаты и выбрать лучшую.\n",
    "\n",
    "Для оценки качества модели используется метрика МАРЕ."
   ]
  },
  {
   "cell_type": "code",
   "execution_count": 1,
   "metadata": {
    "_cell_guid": "b1076dfc-b9ad-4769-8c92-a6c4dae69d19",
    "_uuid": "8f2839f25d086af736a60e9eeb907d3b93b6e0e5",
    "execution": {
     "iopub.execute_input": "2021-12-15T18:58:37.310588Z",
     "iopub.status.busy": "2021-12-15T18:58:37.309859Z",
     "iopub.status.idle": "2021-12-15T18:58:40.728388Z",
     "shell.execute_reply": "2021-12-15T18:58:40.727589Z"
    },
    "papermill": {
     "duration": 3.478056,
     "end_time": "2021-12-15T18:58:40.728530",
     "exception": false,
     "start_time": "2021-12-15T18:58:37.250474",
     "status": "completed"
    },
    "tags": []
   },
   "outputs": [],
   "source": [
    "# импортируем необходимые библиотеки\n",
    "import numpy as np\n",
    "import pandas as pd\n",
    "import sys\n",
    "import random\n",
    "import time\n",
    "\n",
    "from sklearn.model_selection import train_test_split, KFold,StratifiedKFold, RandomizedSearchCV, cross_val_score,GridSearchCV\n",
    "from sklearn.ensemble import RandomForestRegressor, BaggingRegressor, ExtraTreesRegressor, AdaBoostRegressor, GradientBoostingRegressor, StackingRegressor,BaggingClassifier\n",
    "from sklearn.preprocessing import LabelEncoder, OneHotEncoder, StandardScaler, PolynomialFeatures\n",
    "from sklearn.feature_selection import f_regression, mutual_info_regression,f_classif\n",
    "from sklearn.linear_model import LinearRegression\n",
    "\n",
    "from tqdm.notebook import tqdm\n",
    "\n",
    "from catboost import CatBoostRegressor\n",
    "import xgboost as xgb\n",
    "\n",
    "\n",
    "import pandas_profiling\n",
    "import seaborn as sns\n",
    "import matplotlib.pyplot as plt\n",
    "\n",
    "import warnings\n",
    "warnings.simplefilter('ignore')"
   ]
  },
  {
   "cell_type": "code",
   "execution_count": 2,
   "metadata": {
    "_kg_hide-input": true,
    "execution": {
     "iopub.execute_input": "2021-12-15T18:58:40.849938Z",
     "iopub.status.busy": "2021-12-15T18:58:40.849230Z",
     "iopub.status.idle": "2021-12-15T18:58:40.856386Z",
     "shell.execute_reply": "2021-12-15T18:58:40.857093Z"
    },
    "papermill": {
     "duration": 0.073189,
     "end_time": "2021-12-15T18:58:40.857253",
     "exception": false,
     "start_time": "2021-12-15T18:58:40.784064",
     "status": "completed"
    },
    "tags": []
   },
   "outputs": [
    {
     "name": "stdout",
     "output_type": "stream",
     "text": [
      "Python       : 3.7.6 | packaged by conda-forge | (default, Mar 23 2020, 23:03:20) \n",
      "Numpy        : 1.18.5\n"
     ]
    }
   ],
   "source": [
    "print('Python       :', sys.version.split('\\n')[0])\n",
    "print('Numpy        :', np.__version__)"
   ]
  },
  {
   "cell_type": "code",
   "execution_count": 3,
   "metadata": {
    "_kg_hide-input": true,
    "execution": {
     "iopub.execute_input": "2021-12-15T18:58:40.978433Z",
     "iopub.status.busy": "2021-12-15T18:58:40.977708Z",
     "iopub.status.idle": "2021-12-15T18:58:44.152149Z",
     "shell.execute_reply": "2021-12-15T18:58:44.151509Z"
    },
    "papermill": {
     "duration": 3.23564,
     "end_time": "2021-12-15T18:58:44.152281",
     "exception": false,
     "start_time": "2021-12-15T18:58:40.916641",
     "status": "completed"
    },
    "tags": []
   },
   "outputs": [],
   "source": [
    "# зафиксируем версию пакетов, чтобы эксперименты были воспроизводимы:\n",
    "!pip freeze > requirements.txt"
   ]
  },
  {
   "cell_type": "code",
   "execution_count": 4,
   "metadata": {
    "execution": {
     "iopub.execute_input": "2021-12-15T18:58:44.274480Z",
     "iopub.status.busy": "2021-12-15T18:58:44.273722Z",
     "iopub.status.idle": "2021-12-15T18:58:44.277334Z",
     "shell.execute_reply": "2021-12-15T18:58:44.276636Z"
    },
    "papermill": {
     "duration": 0.066843,
     "end_time": "2021-12-15T18:58:44.277461",
     "exception": false,
     "start_time": "2021-12-15T18:58:44.210618",
     "status": "completed"
    },
    "tags": []
   },
   "outputs": [],
   "source": [
    "# всегда фиксируйте RANDOM_SEED, чтобы ваши эксперименты были воспроизводимы!\n",
    "RANDOM_SEED = 42\n",
    "\n",
    "# создадим словарь для хранения показателей моделей\n",
    "SUBMISSION_DICT = {}"
   ]
  },
  {
   "cell_type": "code",
   "execution_count": 5,
   "metadata": {
    "_kg_hide-input": true,
    "execution": {
     "iopub.execute_input": "2021-12-15T18:58:44.404865Z",
     "iopub.status.busy": "2021-12-15T18:58:44.404010Z",
     "iopub.status.idle": "2021-12-15T18:58:44.420094Z",
     "shell.execute_reply": "2021-12-15T18:58:44.419486Z"
    },
    "papermill": {
     "duration": 0.083678,
     "end_time": "2021-12-15T18:58:44.420216",
     "exception": false,
     "start_time": "2021-12-15T18:58:44.336538",
     "status": "completed"
    },
    "tags": []
   },
   "outputs": [],
   "source": [
    "def mape(y_true, y_pred):\n",
    "    '''Функция для расчета метрики МАРЕ'''\n",
    "    return np.mean(np.abs((y_pred-y_true)/y_true))\n",
    "\n",
    "def fill_na_values(column, data):\n",
    "    '''Функция для заполнения пустых значений в зависимости от типа данных в столбце. \n",
    "    Если данные числовые, то пропуск будет заполнен медианой, \n",
    "    а остальные будут заполнены рандомно с учетом вероятности.\n",
    "    '''\n",
    "    if data.loc[:, column].dtypes == np.dtype('O'):\n",
    "        values = data[column].value_counts()\n",
    "        index = data[data[column].isna() == True].index\n",
    "        new_value = pd.Series(random.choices(\n",
    "            values.index, values, k=data[column].isna().sum()))\n",
    "        new_value.index = index\n",
    "        return data[column].fillna(new_value)\n",
    "    else:\n",
    "        return data[column].fillna(data[column].median())\n",
    "    \n",
    "def parsing_all_columns_data(data):\n",
    "    '''Функция для анализа всех столбцов на количество \n",
    "    уникальных значений и количество пропусков'''\n",
    "    \n",
    "    for col in data.columns:\n",
    "        unique_values = len(data[col].value_counts())\n",
    "        empty_values = data[col].isna().sum()\n",
    "        print(\n",
    "            f\"В столбце '{col}' уникальных значений = {unique_values} ,а количество пропусков = {empty_values}.\")\n",
    "        print(\n",
    "            f'Процент пропусков = {round(empty_values*100/data.shape[0],1)}%')       \n",
    "        \n",
    "def cols_to_drop(data):\n",
    "    '''Функция для определения столбцов, \n",
    "    не влияющих на целевую переменную'''\n",
    "\n",
    "    # Поиск колонок с большим количеством пропусков, более 90%\n",
    "    many_null_cols = [\n",
    "        col for col in data.columns if data[col].isnull().sum() / data.shape[0] > 0.9]\n",
    "    # Поиск колонок в которых одно из значений встречается > 95%\n",
    "    big_top_value_cols = [col for col in data.columns if data[col].value_counts(\n",
    "        dropna=False, normalize=True).values[0] > 0.95]\n",
    "    # Поиск колонок в которых только одно значение\n",
    "    one_value_cols = [col for col in data.columns if data[col].nunique() <= 1]\n",
    "\n",
    "    return list(set(many_null_cols + big_top_value_cols + one_value_cols))\n",
    "\n",
    "def output_submission(model, name, score, time):\n",
    "    predict_submission = np.exp(model.predict(X_sub))\n",
    "    sample_submission['price'] = predict_submission\n",
    "    \n",
    "    SUBMISSION_DICT.update({name: f'{score}% with time {time}'})\n",
    "    \n",
    "    sample_submission.to_csv(f'submission_{name}_v{VERSION}.csv', index=False)\n",
    "    print(f'{name} - sample submission')\n",
    "    display(sample_submission.head(10))"
   ]
  },
  {
   "cell_type": "markdown",
   "metadata": {
    "papermill": {
     "duration": 0.056452,
     "end_time": "2021-12-15T18:58:44.535014",
     "exception": false,
     "start_time": "2021-12-15T18:58:44.478562",
     "status": "completed"
    },
    "tags": []
   },
   "source": [
    "# Setup"
   ]
  },
  {
   "cell_type": "code",
   "execution_count": 6,
   "metadata": {
    "execution": {
     "iopub.execute_input": "2021-12-15T18:58:44.659740Z",
     "iopub.status.busy": "2021-12-15T18:58:44.659015Z",
     "iopub.status.idle": "2021-12-15T18:58:44.662030Z",
     "shell.execute_reply": "2021-12-15T18:58:44.661496Z"
    },
    "papermill": {
     "duration": 0.068021,
     "end_time": "2021-12-15T18:58:44.662162",
     "exception": false,
     "start_time": "2021-12-15T18:58:44.594141",
     "status": "completed"
    },
    "tags": []
   },
   "outputs": [],
   "source": [
    "VERSION    = 18\n",
    "DIR_TRAIN  = '../input/parsing-all-moscow-auto-ru-09-09-2020/' # подключил к ноутбуку внешний датасет\n",
    "DIR_TEST   = '../input/sf-dst-car-price-prediction/'\n",
    "VAL_SIZE   = 0.20   # 20%"
   ]
  },
  {
   "cell_type": "markdown",
   "metadata": {
    "papermill": {
     "duration": 0.059663,
     "end_time": "2021-12-15T18:58:44.779736",
     "exception": false,
     "start_time": "2021-12-15T18:58:44.720073",
     "status": "completed"
    },
    "tags": []
   },
   "source": [
    "# Data"
   ]
  },
  {
   "cell_type": "code",
   "execution_count": 7,
   "metadata": {
    "execution": {
     "iopub.execute_input": "2021-12-15T18:58:44.907228Z",
     "iopub.status.busy": "2021-12-15T18:58:44.906336Z",
     "iopub.status.idle": "2021-12-15T18:58:45.681166Z",
     "shell.execute_reply": "2021-12-15T18:58:45.681677Z"
    },
    "papermill": {
     "duration": 0.842589,
     "end_time": "2021-12-15T18:58:45.681844",
     "exception": false,
     "start_time": "2021-12-15T18:58:44.839255",
     "status": "completed"
    },
    "tags": []
   },
   "outputs": [
    {
     "name": "stdout",
     "output_type": "stream",
     "text": [
      "parsing-all-moscow-auto-ru-09-09-2020  sf-dst-car-price-prediction\r\n"
     ]
    }
   ],
   "source": [
    "!ls '../input'"
   ]
  },
  {
   "cell_type": "code",
   "execution_count": 8,
   "metadata": {
    "_cell_guid": "79c7e3d0-c299-4dcb-8224-4455121ee9b0",
    "_uuid": "d629ff2d2480ee46fbb7e2d37f6b5fab8052498a",
    "execution": {
     "iopub.execute_input": "2021-12-15T18:58:45.818080Z",
     "iopub.status.busy": "2021-12-15T18:58:45.817364Z",
     "iopub.status.idle": "2021-12-15T18:58:56.667814Z",
     "shell.execute_reply": "2021-12-15T18:58:56.667177Z"
    },
    "papermill": {
     "duration": 10.928379,
     "end_time": "2021-12-15T18:58:56.667945",
     "exception": false,
     "start_time": "2021-12-15T18:58:45.739566",
     "status": "completed"
    },
    "tags": []
   },
   "outputs": [],
   "source": [
    "train = pd.read_csv(DIR_TRAIN+'all_auto_ru_09_09_2020.csv') # датасет для обучения модели\n",
    "test = pd.read_csv(DIR_TEST+'test.csv')\n",
    "sample_submission = pd.read_csv(DIR_TEST+'sample_submission.csv')"
   ]
  },
  {
   "cell_type": "markdown",
   "metadata": {
    "papermill": {
     "duration": 0.065697,
     "end_time": "2021-12-15T18:58:56.796431",
     "exception": false,
     "start_time": "2021-12-15T18:58:56.730734",
     "status": "completed"
    },
    "tags": []
   },
   "source": [
    "Нами был написан парсер, который собирает данные с сайта auto.ru\n",
    "C его помощью мы собрали датасет из записей (парсер my_pars.rar можно посмотреть в папке проекта на GitHub).\n",
    "\n",
    "Однако данный датасет не был использован при обучении модели по нескольким причинам:\n",
    "1) не удалось обойти блокировку, парсер постоянно банили и удалось собрать очень мало данных;\n",
    "\n",
    "2) данные, собранные парсером, ухудшали качество модели. Это можно объяснить значительным ростом цен на автомобили с пробегом за последний год. Данный факт подтверждают и статистические данные.\n",
    "\n",
    "Вот, например, инфографика с сайта аналитического агентства Автостат:\n",
    "\n",
    "<img src=\"https://www.autostat.ru/application/includes/blocks/big_photo/images/original/f2a/8c2/366853b406d0c5a564298e0c31.jpg\"/>\n",
    "\n",
    "\n",
    "\n",
    "\n"
   ]
  },
  {
   "cell_type": "markdown",
   "metadata": {
    "papermill": {
     "duration": 0.06083,
     "end_time": "2021-12-15T18:58:56.917881",
     "exception": false,
     "start_time": "2021-12-15T18:58:56.857051",
     "status": "completed"
    },
    "tags": []
   },
   "source": [
    "Можно отметить резкий значительный рост цен на подержанные автомобили в 2021 году. Именно поэтому собранные нами данные не эффективны для обучения, поскольку тестируются на ценах 2020 года.\n",
    "\n",
    "Обучение модели было проведено на базовом датасете."
   ]
  },
  {
   "cell_type": "code",
   "execution_count": 9,
   "metadata": {
    "execution": {
     "iopub.execute_input": "2021-12-15T18:58:57.076678Z",
     "iopub.status.busy": "2021-12-15T18:58:57.075674Z",
     "iopub.status.idle": "2021-12-15T18:58:57.103337Z",
     "shell.execute_reply": "2021-12-15T18:58:57.102562Z"
    },
    "papermill": {
     "duration": 0.126707,
     "end_time": "2021-12-15T18:58:57.103476",
     "exception": false,
     "start_time": "2021-12-15T18:58:56.976769",
     "status": "completed"
    },
    "tags": []
   },
   "outputs": [
    {
     "data": {
      "text/html": [
       "<div>\n",
       "<style scoped>\n",
       "    .dataframe tbody tr th:only-of-type {\n",
       "        vertical-align: middle;\n",
       "    }\n",
       "\n",
       "    .dataframe tbody tr th {\n",
       "        vertical-align: top;\n",
       "    }\n",
       "\n",
       "    .dataframe thead th {\n",
       "        text-align: right;\n",
       "    }\n",
       "</style>\n",
       "<table border=\"1\" class=\"dataframe\">\n",
       "  <thead>\n",
       "    <tr style=\"text-align: right;\">\n",
       "      <th></th>\n",
       "      <th>bodyType</th>\n",
       "      <th>brand</th>\n",
       "      <th>color</th>\n",
       "      <th>fuelType</th>\n",
       "      <th>modelDate</th>\n",
       "      <th>name</th>\n",
       "      <th>numberOfDoors</th>\n",
       "      <th>productionDate</th>\n",
       "      <th>vehicleConfiguration</th>\n",
       "      <th>vehicleTransmission</th>\n",
       "      <th>engineDisplacement</th>\n",
       "      <th>enginePower</th>\n",
       "      <th>description</th>\n",
       "      <th>mileage</th>\n",
       "      <th>Комплектация</th>\n",
       "      <th>Привод</th>\n",
       "      <th>Руль</th>\n",
       "      <th>Состояние</th>\n",
       "      <th>Владельцы</th>\n",
       "      <th>ПТС</th>\n",
       "      <th>Таможня</th>\n",
       "      <th>Владение</th>\n",
       "      <th>price</th>\n",
       "      <th>start_date</th>\n",
       "      <th>hidden</th>\n",
       "      <th>model</th>\n",
       "    </tr>\n",
       "  </thead>\n",
       "  <tbody>\n",
       "    <tr>\n",
       "      <th>0</th>\n",
       "      <td>Седан</td>\n",
       "      <td>AUDI</td>\n",
       "      <td>040001</td>\n",
       "      <td>бензин</td>\n",
       "      <td>1990.0</td>\n",
       "      <td>2.8 MT (174 л.с.) 4WD</td>\n",
       "      <td>4.0</td>\n",
       "      <td>1991</td>\n",
       "      <td>SEDAN MECHANICAL 2.8</td>\n",
       "      <td>MECHANICAL</td>\n",
       "      <td>2.8</td>\n",
       "      <td>174.0</td>\n",
       "      <td>Машина  в приличном состоянии ,не гнилая не р...</td>\n",
       "      <td>350000</td>\n",
       "      <td>{'id': '0'}</td>\n",
       "      <td>полный</td>\n",
       "      <td>LEFT</td>\n",
       "      <td>NaN</td>\n",
       "      <td>3.0</td>\n",
       "      <td>ORIGINAL</td>\n",
       "      <td>True</td>\n",
       "      <td>NaN</td>\n",
       "      <td>200000.0</td>\n",
       "      <td>2019-10-03T08:09:11Z</td>\n",
       "      <td>NaN</td>\n",
       "      <td>100</td>\n",
       "    </tr>\n",
       "    <tr>\n",
       "      <th>1</th>\n",
       "      <td>Седан</td>\n",
       "      <td>AUDI</td>\n",
       "      <td>EE1D19</td>\n",
       "      <td>бензин</td>\n",
       "      <td>1982.0</td>\n",
       "      <td>1.8 MT (90 л.с.)</td>\n",
       "      <td>4.0</td>\n",
       "      <td>1986</td>\n",
       "      <td>SEDAN MECHANICAL 1.8</td>\n",
       "      <td>MECHANICAL</td>\n",
       "      <td>1.8</td>\n",
       "      <td>90.0</td>\n",
       "      <td>Машина в оригинале не гнилая все вопросы по те...</td>\n",
       "      <td>173424</td>\n",
       "      <td>{'id': '0'}</td>\n",
       "      <td>передний</td>\n",
       "      <td>LEFT</td>\n",
       "      <td>NaN</td>\n",
       "      <td>3.0</td>\n",
       "      <td>ORIGINAL</td>\n",
       "      <td>True</td>\n",
       "      <td>NaN</td>\n",
       "      <td>60000.0</td>\n",
       "      <td>2020-09-06T06:49:40Z</td>\n",
       "      <td>NaN</td>\n",
       "      <td>100</td>\n",
       "    </tr>\n",
       "    <tr>\n",
       "      <th>2</th>\n",
       "      <td>Универсал 5 дв.</td>\n",
       "      <td>AUDI</td>\n",
       "      <td>0000CC</td>\n",
       "      <td>бензин</td>\n",
       "      <td>1988.0</td>\n",
       "      <td>2.3 MT (136 л.с.) 4WD</td>\n",
       "      <td>5.0</td>\n",
       "      <td>1989</td>\n",
       "      <td>WAGON_5_DOORS MECHANICAL 2.3</td>\n",
       "      <td>MECHANICAL</td>\n",
       "      <td>2.3</td>\n",
       "      <td>136.0</td>\n",
       "      <td>ПТС Оригинал!\\nПолный комплект ключей!\\nПо рез...</td>\n",
       "      <td>230000</td>\n",
       "      <td>{'id': '0'}</td>\n",
       "      <td>полный</td>\n",
       "      <td>LEFT</td>\n",
       "      <td>NaN</td>\n",
       "      <td>3.0</td>\n",
       "      <td>ORIGINAL</td>\n",
       "      <td>True</td>\n",
       "      <td>NaN</td>\n",
       "      <td>99000.0</td>\n",
       "      <td>2020-09-02T14:04:21Z</td>\n",
       "      <td>NaN</td>\n",
       "      <td>100</td>\n",
       "    </tr>\n",
       "    <tr>\n",
       "      <th>3</th>\n",
       "      <td>Седан</td>\n",
       "      <td>AUDI</td>\n",
       "      <td>CACECB</td>\n",
       "      <td>бензин</td>\n",
       "      <td>1988.0</td>\n",
       "      <td>1.8 MT (90 л.с.)</td>\n",
       "      <td>4.0</td>\n",
       "      <td>1989</td>\n",
       "      <td>SEDAN MECHANICAL 1.8</td>\n",
       "      <td>MECHANICAL</td>\n",
       "      <td>1.8</td>\n",
       "      <td>90.0</td>\n",
       "      <td>NaN</td>\n",
       "      <td>240000</td>\n",
       "      <td>{'id': '0'}</td>\n",
       "      <td>передний</td>\n",
       "      <td>LEFT</td>\n",
       "      <td>NaN</td>\n",
       "      <td>3.0</td>\n",
       "      <td>ORIGINAL</td>\n",
       "      <td>True</td>\n",
       "      <td>NaN</td>\n",
       "      <td>65000.0</td>\n",
       "      <td>2020-08-23T17:40:09Z</td>\n",
       "      <td>NaN</td>\n",
       "      <td>100</td>\n",
       "    </tr>\n",
       "    <tr>\n",
       "      <th>4</th>\n",
       "      <td>Седан</td>\n",
       "      <td>AUDI</td>\n",
       "      <td>040001</td>\n",
       "      <td>бензин</td>\n",
       "      <td>1990.0</td>\n",
       "      <td>2.0 MT (101 л.с.)</td>\n",
       "      <td>4.0</td>\n",
       "      <td>1991</td>\n",
       "      <td>SEDAN MECHANICAL 2.0</td>\n",
       "      <td>MECHANICAL</td>\n",
       "      <td>2.0</td>\n",
       "      <td>101.0</td>\n",
       "      <td>Машина не гнилая, дыр нет, днище целое, даже в...</td>\n",
       "      <td>300000</td>\n",
       "      <td>{'id': '0'}</td>\n",
       "      <td>передний</td>\n",
       "      <td>LEFT</td>\n",
       "      <td>NaN</td>\n",
       "      <td>3.0</td>\n",
       "      <td>DUPLICATE</td>\n",
       "      <td>True</td>\n",
       "      <td>NaN</td>\n",
       "      <td>100000.0</td>\n",
       "      <td>2020-09-08T09:22:07Z</td>\n",
       "      <td>NaN</td>\n",
       "      <td>100</td>\n",
       "    </tr>\n",
       "  </tbody>\n",
       "</table>\n",
       "</div>"
      ],
      "text/plain": [
       "          bodyType brand   color fuelType  modelDate                   name  \\\n",
       "0            Седан  AUDI  040001   бензин     1990.0  2.8 MT (174 л.с.) 4WD   \n",
       "1            Седан  AUDI  EE1D19   бензин     1982.0       1.8 MT (90 л.с.)   \n",
       "2  Универсал 5 дв.  AUDI  0000CC   бензин     1988.0  2.3 MT (136 л.с.) 4WD   \n",
       "3            Седан  AUDI  CACECB   бензин     1988.0       1.8 MT (90 л.с.)   \n",
       "4            Седан  AUDI  040001   бензин     1990.0      2.0 MT (101 л.с.)   \n",
       "\n",
       "   numberOfDoors  productionDate          vehicleConfiguration  \\\n",
       "0            4.0            1991          SEDAN MECHANICAL 2.8   \n",
       "1            4.0            1986          SEDAN MECHANICAL 1.8   \n",
       "2            5.0            1989  WAGON_5_DOORS MECHANICAL 2.3   \n",
       "3            4.0            1989          SEDAN MECHANICAL 1.8   \n",
       "4            4.0            1991          SEDAN MECHANICAL 2.0   \n",
       "\n",
       "  vehicleTransmission engineDisplacement  enginePower  \\\n",
       "0          MECHANICAL                2.8        174.0   \n",
       "1          MECHANICAL                1.8         90.0   \n",
       "2          MECHANICAL                2.3        136.0   \n",
       "3          MECHANICAL                1.8         90.0   \n",
       "4          MECHANICAL                2.0        101.0   \n",
       "\n",
       "                                         description  mileage Комплектация  \\\n",
       "0   Машина  в приличном состоянии ,не гнилая не р...   350000  {'id': '0'}   \n",
       "1  Машина в оригинале не гнилая все вопросы по те...   173424  {'id': '0'}   \n",
       "2  ПТС Оригинал!\\nПолный комплект ключей!\\nПо рез...   230000  {'id': '0'}   \n",
       "3                                                NaN   240000  {'id': '0'}   \n",
       "4  Машина не гнилая, дыр нет, днище целое, даже в...   300000  {'id': '0'}   \n",
       "\n",
       "     Привод  Руль  Состояние  Владельцы        ПТС  Таможня Владение  \\\n",
       "0    полный  LEFT        NaN        3.0   ORIGINAL     True      NaN   \n",
       "1  передний  LEFT        NaN        3.0   ORIGINAL     True      NaN   \n",
       "2    полный  LEFT        NaN        3.0   ORIGINAL     True      NaN   \n",
       "3  передний  LEFT        NaN        3.0   ORIGINAL     True      NaN   \n",
       "4  передний  LEFT        NaN        3.0  DUPLICATE     True      NaN   \n",
       "\n",
       "      price            start_date  hidden model  \n",
       "0  200000.0  2019-10-03T08:09:11Z     NaN   100  \n",
       "1   60000.0  2020-09-06T06:49:40Z     NaN   100  \n",
       "2   99000.0  2020-09-02T14:04:21Z     NaN   100  \n",
       "3   65000.0  2020-08-23T17:40:09Z     NaN   100  \n",
       "4  100000.0  2020-09-08T09:22:07Z     NaN   100  "
      ]
     },
     "execution_count": 9,
     "metadata": {},
     "output_type": "execute_result"
    }
   ],
   "source": [
    "pd.set_option('display.max_columns', 32)\n",
    "train.head(5)"
   ]
  },
  {
   "cell_type": "code",
   "execution_count": 10,
   "metadata": {
    "execution": {
     "iopub.execute_input": "2021-12-15T18:58:57.234793Z",
     "iopub.status.busy": "2021-12-15T18:58:57.233608Z",
     "iopub.status.idle": "2021-12-15T18:58:57.524253Z",
     "shell.execute_reply": "2021-12-15T18:58:57.523463Z"
    },
    "papermill": {
     "duration": 0.35795,
     "end_time": "2021-12-15T18:58:57.524390",
     "exception": false,
     "start_time": "2021-12-15T18:58:57.166440",
     "status": "completed"
    },
    "tags": []
   },
   "outputs": [
    {
     "name": "stdout",
     "output_type": "stream",
     "text": [
      "<class 'pandas.core.frame.DataFrame'>\n",
      "RangeIndex: 89378 entries, 0 to 89377\n",
      "Data columns (total 26 columns):\n",
      " #   Column                Non-Null Count  Dtype  \n",
      "---  ------                --------------  -----  \n",
      " 0   bodyType              89377 non-null  object \n",
      " 1   brand                 89378 non-null  object \n",
      " 2   color                 89378 non-null  object \n",
      " 3   fuelType              89378 non-null  object \n",
      " 4   modelDate             89377 non-null  float64\n",
      " 5   name                  89377 non-null  object \n",
      " 6   numberOfDoors         89377 non-null  float64\n",
      " 7   productionDate        89378 non-null  int64  \n",
      " 8   vehicleConfiguration  89377 non-null  object \n",
      " 9   vehicleTransmission   89377 non-null  object \n",
      " 10  engineDisplacement    89377 non-null  object \n",
      " 11  enginePower           89377 non-null  float64\n",
      " 12  description           86124 non-null  object \n",
      " 13  mileage               89378 non-null  int64  \n",
      " 14  Комплектация          89378 non-null  object \n",
      " 15  Привод                89377 non-null  object \n",
      " 16  Руль                  89378 non-null  object \n",
      " 17  Состояние             0 non-null      float64\n",
      " 18  Владельцы             75790 non-null  float64\n",
      " 19  ПТС                   89017 non-null  object \n",
      " 20  Таможня               89378 non-null  bool   \n",
      " 21  Владение              29201 non-null  object \n",
      " 22  price                 88968 non-null  float64\n",
      " 23  start_date            89378 non-null  object \n",
      " 24  hidden                0 non-null      float64\n",
      " 25  model                 89378 non-null  object \n",
      "dtypes: bool(1), float64(7), int64(2), object(16)\n",
      "memory usage: 17.1+ MB\n"
     ]
    }
   ],
   "source": [
    "train.info()"
   ]
  },
  {
   "cell_type": "code",
   "execution_count": 11,
   "metadata": {
    "execution": {
     "iopub.execute_input": "2021-12-15T18:58:57.679243Z",
     "iopub.status.busy": "2021-12-15T18:58:57.678208Z",
     "iopub.status.idle": "2021-12-15T18:58:57.684759Z",
     "shell.execute_reply": "2021-12-15T18:58:57.684216Z"
    },
    "papermill": {
     "duration": 0.100021,
     "end_time": "2021-12-15T18:58:57.684880",
     "exception": false,
     "start_time": "2021-12-15T18:58:57.584859",
     "status": "completed"
    },
    "tags": []
   },
   "outputs": [
    {
     "data": {
      "text/html": [
       "<div>\n",
       "<style scoped>\n",
       "    .dataframe tbody tr th:only-of-type {\n",
       "        vertical-align: middle;\n",
       "    }\n",
       "\n",
       "    .dataframe tbody tr th {\n",
       "        vertical-align: top;\n",
       "    }\n",
       "\n",
       "    .dataframe thead th {\n",
       "        text-align: right;\n",
       "    }\n",
       "</style>\n",
       "<table border=\"1\" class=\"dataframe\">\n",
       "  <thead>\n",
       "    <tr style=\"text-align: right;\">\n",
       "      <th></th>\n",
       "      <th>bodyType</th>\n",
       "      <th>brand</th>\n",
       "      <th>car_url</th>\n",
       "      <th>color</th>\n",
       "      <th>complectation_dict</th>\n",
       "      <th>description</th>\n",
       "      <th>engineDisplacement</th>\n",
       "      <th>enginePower</th>\n",
       "      <th>equipment_dict</th>\n",
       "      <th>fuelType</th>\n",
       "      <th>image</th>\n",
       "      <th>mileage</th>\n",
       "      <th>modelDate</th>\n",
       "      <th>model_info</th>\n",
       "      <th>model_name</th>\n",
       "      <th>name</th>\n",
       "      <th>numberOfDoors</th>\n",
       "      <th>parsing_unixtime</th>\n",
       "      <th>priceCurrency</th>\n",
       "      <th>productionDate</th>\n",
       "      <th>sell_id</th>\n",
       "      <th>super_gen</th>\n",
       "      <th>vehicleConfiguration</th>\n",
       "      <th>vehicleTransmission</th>\n",
       "      <th>vendor</th>\n",
       "      <th>Владельцы</th>\n",
       "      <th>Владение</th>\n",
       "      <th>ПТС</th>\n",
       "      <th>Привод</th>\n",
       "      <th>Руль</th>\n",
       "      <th>Состояние</th>\n",
       "      <th>Таможня</th>\n",
       "    </tr>\n",
       "  </thead>\n",
       "  <tbody>\n",
       "    <tr>\n",
       "      <th>0</th>\n",
       "      <td>лифтбек</td>\n",
       "      <td>SKODA</td>\n",
       "      <td>https://auto.ru/cars/used/sale/skoda/octavia/1...</td>\n",
       "      <td>синий</td>\n",
       "      <td>NaN</td>\n",
       "      <td>Все автомобили, представленные в продаже, прох...</td>\n",
       "      <td>1.2 LTR</td>\n",
       "      <td>105 N12</td>\n",
       "      <td>{\"engine-proof\":true,\"tinted-glass\":true,\"airb...</td>\n",
       "      <td>бензин</td>\n",
       "      <td>https://autoru.naydex.net/o9DBXQ270/5ac010hAY0...</td>\n",
       "      <td>74000</td>\n",
       "      <td>2013</td>\n",
       "      <td>{\"code\":\"OCTAVIA\",\"name\":\"Octavia\",\"ru_name\":\"...</td>\n",
       "      <td>OCTAVIA</td>\n",
       "      <td>1.2 AMT (105 л.с.)</td>\n",
       "      <td>5</td>\n",
       "      <td>1603226273</td>\n",
       "      <td>RUB</td>\n",
       "      <td>2014</td>\n",
       "      <td>1100575026</td>\n",
       "      <td>{\"id\":\"10373605\",\"displacement\":1197,\"engine_t...</td>\n",
       "      <td>LIFTBACK ROBOT 1.2</td>\n",
       "      <td>роботизированная</td>\n",
       "      <td>EUROPEAN</td>\n",
       "      <td>3 или более</td>\n",
       "      <td>NaN</td>\n",
       "      <td>Оригинал</td>\n",
       "      <td>передний</td>\n",
       "      <td>Левый</td>\n",
       "      <td>Не требует ремонта</td>\n",
       "      <td>Растаможен</td>\n",
       "    </tr>\n",
       "    <tr>\n",
       "      <th>1</th>\n",
       "      <td>лифтбек</td>\n",
       "      <td>SKODA</td>\n",
       "      <td>https://auto.ru/cars/used/sale/skoda/octavia/1...</td>\n",
       "      <td>чёрный</td>\n",
       "      <td>NaN</td>\n",
       "      <td>ЛОТ: 01217195\\nАвтопрага Север\\nДанный автомоб...</td>\n",
       "      <td>1.6 LTR</td>\n",
       "      <td>110 N12</td>\n",
       "      <td>{\"cruise-control\":true,\"asr\":true,\"esp\":true,\"...</td>\n",
       "      <td>бензин</td>\n",
       "      <td>https://autoru.naydex.net/o9DBXQ270/5ac010hAY0...</td>\n",
       "      <td>60563</td>\n",
       "      <td>2017</td>\n",
       "      <td>{\"code\":\"OCTAVIA\",\"name\":\"Octavia\",\"ru_name\":\"...</td>\n",
       "      <td>OCTAVIA</td>\n",
       "      <td>1.6 MT (110 л.с.)</td>\n",
       "      <td>5</td>\n",
       "      <td>1603226277</td>\n",
       "      <td>RUB</td>\n",
       "      <td>2017</td>\n",
       "      <td>1100549428</td>\n",
       "      <td>{\"id\":\"20913311\",\"displacement\":1598,\"engine_t...</td>\n",
       "      <td>LIFTBACK MECHANICAL 1.6</td>\n",
       "      <td>механическая</td>\n",
       "      <td>EUROPEAN</td>\n",
       "      <td>1 владелец</td>\n",
       "      <td>NaN</td>\n",
       "      <td>Оригинал</td>\n",
       "      <td>передний</td>\n",
       "      <td>Левый</td>\n",
       "      <td>Не требует ремонта</td>\n",
       "      <td>Растаможен</td>\n",
       "    </tr>\n",
       "    <tr>\n",
       "      <th>2</th>\n",
       "      <td>лифтбек</td>\n",
       "      <td>SKODA</td>\n",
       "      <td>https://auto.ru/cars/used/sale/skoda/superb/11...</td>\n",
       "      <td>серый</td>\n",
       "      <td>{\"id\":\"20026336\",\"name\":\"Ambition\",\"available_...</td>\n",
       "      <td>Все автомобили, представленные в продаже, прох...</td>\n",
       "      <td>1.8 LTR</td>\n",
       "      <td>152 N12</td>\n",
       "      <td>{\"cruise-control\":true,\"tinted-glass\":true,\"es...</td>\n",
       "      <td>бензин</td>\n",
       "      <td>https://avatars.mds.yandex.net/get-autoru-vos/...</td>\n",
       "      <td>88000</td>\n",
       "      <td>2013</td>\n",
       "      <td>{\"code\":\"SUPERB\",\"name\":\"Superb\",\"ru_name\":\"Су...</td>\n",
       "      <td>SUPERB</td>\n",
       "      <td>DSG 1.8 AMT (152 л.с.)</td>\n",
       "      <td>5</td>\n",
       "      <td>1603226280</td>\n",
       "      <td>RUB</td>\n",
       "      <td>2014</td>\n",
       "      <td>1100658222</td>\n",
       "      <td>{\"id\":\"20026323\",\"nameplate\":\"DSG\",\"displaceme...</td>\n",
       "      <td>LIFTBACK ROBOT 1.8</td>\n",
       "      <td>роботизированная</td>\n",
       "      <td>EUROPEAN</td>\n",
       "      <td>1 владелец</td>\n",
       "      <td>NaN</td>\n",
       "      <td>Оригинал</td>\n",
       "      <td>передний</td>\n",
       "      <td>Левый</td>\n",
       "      <td>Не требует ремонта</td>\n",
       "      <td>Растаможен</td>\n",
       "    </tr>\n",
       "    <tr>\n",
       "      <th>3</th>\n",
       "      <td>лифтбек</td>\n",
       "      <td>SKODA</td>\n",
       "      <td>https://auto.ru/cars/used/sale/skoda/octavia/1...</td>\n",
       "      <td>коричневый</td>\n",
       "      <td>{\"id\":\"20803582\",\"name\":\"Ambition\",\"available_...</td>\n",
       "      <td>КОМПЛЕКТ ЗИМНЕЙ (ЛЕТНЕЙ) РЕЗИНЫ ПО СЕЗОНУ В ПО...</td>\n",
       "      <td>1.6 LTR</td>\n",
       "      <td>110 N12</td>\n",
       "      <td>{\"cruise-control\":true,\"roller-blind-for-rear-...</td>\n",
       "      <td>бензин</td>\n",
       "      <td>https://autoru.naydex.net/o9DBXQ270/5ac010hAY0...</td>\n",
       "      <td>95000</td>\n",
       "      <td>2013</td>\n",
       "      <td>{\"code\":\"OCTAVIA\",\"name\":\"Octavia\",\"ru_name\":\"...</td>\n",
       "      <td>OCTAVIA</td>\n",
       "      <td>1.6 AT (110 л.с.)</td>\n",
       "      <td>5</td>\n",
       "      <td>1603226284</td>\n",
       "      <td>RUB</td>\n",
       "      <td>2014</td>\n",
       "      <td>1100937408</td>\n",
       "      <td>{\"id\":\"20105521\",\"displacement\":1598,\"engine_t...</td>\n",
       "      <td>LIFTBACK AUTOMATIC 1.6</td>\n",
       "      <td>автоматическая</td>\n",
       "      <td>EUROPEAN</td>\n",
       "      <td>1 владелец</td>\n",
       "      <td>NaN</td>\n",
       "      <td>Оригинал</td>\n",
       "      <td>передний</td>\n",
       "      <td>Левый</td>\n",
       "      <td>Не требует ремонта</td>\n",
       "      <td>Растаможен</td>\n",
       "    </tr>\n",
       "    <tr>\n",
       "      <th>4</th>\n",
       "      <td>лифтбек</td>\n",
       "      <td>SKODA</td>\n",
       "      <td>https://auto.ru/cars/used/sale/skoda/octavia/1...</td>\n",
       "      <td>белый</td>\n",
       "      <td>NaN</td>\n",
       "      <td>ЛОТ: 01220889\\nАвтопрага Север\\n\\nВы можете по...</td>\n",
       "      <td>1.8 LTR</td>\n",
       "      <td>152 N12</td>\n",
       "      <td>{\"cruise-control\":true,\"asr\":true,\"esp\":true,\"...</td>\n",
       "      <td>бензин</td>\n",
       "      <td>https://autoru.naydex.net/o9DBXQ270/5ac010hAY0...</td>\n",
       "      <td>58536</td>\n",
       "      <td>2008</td>\n",
       "      <td>{\"code\":\"OCTAVIA\",\"name\":\"Octavia\",\"ru_name\":\"...</td>\n",
       "      <td>OCTAVIA</td>\n",
       "      <td>1.8 AT (152 л.с.)</td>\n",
       "      <td>5</td>\n",
       "      <td>1603226288</td>\n",
       "      <td>RUB</td>\n",
       "      <td>2012</td>\n",
       "      <td>1101037972</td>\n",
       "      <td>{\"id\":\"4561004\",\"displacement\":1798,\"engine_ty...</td>\n",
       "      <td>LIFTBACK AUTOMATIC 1.8</td>\n",
       "      <td>автоматическая</td>\n",
       "      <td>EUROPEAN</td>\n",
       "      <td>1 владелец</td>\n",
       "      <td>NaN</td>\n",
       "      <td>Оригинал</td>\n",
       "      <td>передний</td>\n",
       "      <td>Левый</td>\n",
       "      <td>Не требует ремонта</td>\n",
       "      <td>Растаможен</td>\n",
       "    </tr>\n",
       "  </tbody>\n",
       "</table>\n",
       "</div>"
      ],
      "text/plain": [
       "  bodyType  brand                                            car_url  \\\n",
       "0  лифтбек  SKODA  https://auto.ru/cars/used/sale/skoda/octavia/1...   \n",
       "1  лифтбек  SKODA  https://auto.ru/cars/used/sale/skoda/octavia/1...   \n",
       "2  лифтбек  SKODA  https://auto.ru/cars/used/sale/skoda/superb/11...   \n",
       "3  лифтбек  SKODA  https://auto.ru/cars/used/sale/skoda/octavia/1...   \n",
       "4  лифтбек  SKODA  https://auto.ru/cars/used/sale/skoda/octavia/1...   \n",
       "\n",
       "        color                                 complectation_dict  \\\n",
       "0       синий                                                NaN   \n",
       "1      чёрный                                                NaN   \n",
       "2       серый  {\"id\":\"20026336\",\"name\":\"Ambition\",\"available_...   \n",
       "3  коричневый  {\"id\":\"20803582\",\"name\":\"Ambition\",\"available_...   \n",
       "4       белый                                                NaN   \n",
       "\n",
       "                                         description engineDisplacement  \\\n",
       "0  Все автомобили, представленные в продаже, прох...            1.2 LTR   \n",
       "1  ЛОТ: 01217195\\nАвтопрага Север\\nДанный автомоб...            1.6 LTR   \n",
       "2  Все автомобили, представленные в продаже, прох...            1.8 LTR   \n",
       "3  КОМПЛЕКТ ЗИМНЕЙ (ЛЕТНЕЙ) РЕЗИНЫ ПО СЕЗОНУ В ПО...            1.6 LTR   \n",
       "4  ЛОТ: 01220889\\nАвтопрага Север\\n\\nВы можете по...            1.8 LTR   \n",
       "\n",
       "  enginePower                                     equipment_dict fuelType  \\\n",
       "0     105 N12  {\"engine-proof\":true,\"tinted-glass\":true,\"airb...   бензин   \n",
       "1     110 N12  {\"cruise-control\":true,\"asr\":true,\"esp\":true,\"...   бензин   \n",
       "2     152 N12  {\"cruise-control\":true,\"tinted-glass\":true,\"es...   бензин   \n",
       "3     110 N12  {\"cruise-control\":true,\"roller-blind-for-rear-...   бензин   \n",
       "4     152 N12  {\"cruise-control\":true,\"asr\":true,\"esp\":true,\"...   бензин   \n",
       "\n",
       "                                               image  mileage  modelDate  \\\n",
       "0  https://autoru.naydex.net/o9DBXQ270/5ac010hAY0...    74000       2013   \n",
       "1  https://autoru.naydex.net/o9DBXQ270/5ac010hAY0...    60563       2017   \n",
       "2  https://avatars.mds.yandex.net/get-autoru-vos/...    88000       2013   \n",
       "3  https://autoru.naydex.net/o9DBXQ270/5ac010hAY0...    95000       2013   \n",
       "4  https://autoru.naydex.net/o9DBXQ270/5ac010hAY0...    58536       2008   \n",
       "\n",
       "                                          model_info model_name  \\\n",
       "0  {\"code\":\"OCTAVIA\",\"name\":\"Octavia\",\"ru_name\":\"...    OCTAVIA   \n",
       "1  {\"code\":\"OCTAVIA\",\"name\":\"Octavia\",\"ru_name\":\"...    OCTAVIA   \n",
       "2  {\"code\":\"SUPERB\",\"name\":\"Superb\",\"ru_name\":\"Су...     SUPERB   \n",
       "3  {\"code\":\"OCTAVIA\",\"name\":\"Octavia\",\"ru_name\":\"...    OCTAVIA   \n",
       "4  {\"code\":\"OCTAVIA\",\"name\":\"Octavia\",\"ru_name\":\"...    OCTAVIA   \n",
       "\n",
       "                     name  numberOfDoors  parsing_unixtime priceCurrency  \\\n",
       "0      1.2 AMT (105 л.с.)              5        1603226273           RUB   \n",
       "1       1.6 MT (110 л.с.)              5        1603226277           RUB   \n",
       "2  DSG 1.8 AMT (152 л.с.)              5        1603226280           RUB   \n",
       "3       1.6 AT (110 л.с.)              5        1603226284           RUB   \n",
       "4       1.8 AT (152 л.с.)              5        1603226288           RUB   \n",
       "\n",
       "   productionDate     sell_id  \\\n",
       "0            2014  1100575026   \n",
       "1            2017  1100549428   \n",
       "2            2014  1100658222   \n",
       "3            2014  1100937408   \n",
       "4            2012  1101037972   \n",
       "\n",
       "                                           super_gen     vehicleConfiguration  \\\n",
       "0  {\"id\":\"10373605\",\"displacement\":1197,\"engine_t...       LIFTBACK ROBOT 1.2   \n",
       "1  {\"id\":\"20913311\",\"displacement\":1598,\"engine_t...  LIFTBACK MECHANICAL 1.6   \n",
       "2  {\"id\":\"20026323\",\"nameplate\":\"DSG\",\"displaceme...       LIFTBACK ROBOT 1.8   \n",
       "3  {\"id\":\"20105521\",\"displacement\":1598,\"engine_t...   LIFTBACK AUTOMATIC 1.6   \n",
       "4  {\"id\":\"4561004\",\"displacement\":1798,\"engine_ty...   LIFTBACK AUTOMATIC 1.8   \n",
       "\n",
       "  vehicleTransmission    vendor    Владельцы Владение       ПТС    Привод  \\\n",
       "0    роботизированная  EUROPEAN  3 или более      NaN  Оригинал  передний   \n",
       "1        механическая  EUROPEAN   1 владелец      NaN  Оригинал  передний   \n",
       "2    роботизированная  EUROPEAN   1 владелец      NaN  Оригинал  передний   \n",
       "3      автоматическая  EUROPEAN   1 владелец      NaN  Оригинал  передний   \n",
       "4      автоматическая  EUROPEAN   1 владелец      NaN  Оригинал  передний   \n",
       "\n",
       "    Руль           Состояние     Таможня  \n",
       "0  Левый  Не требует ремонта  Растаможен  \n",
       "1  Левый  Не требует ремонта  Растаможен  \n",
       "2  Левый  Не требует ремонта  Растаможен  \n",
       "3  Левый  Не требует ремонта  Растаможен  \n",
       "4  Левый  Не требует ремонта  Растаможен  "
      ]
     },
     "execution_count": 11,
     "metadata": {},
     "output_type": "execute_result"
    }
   ],
   "source": [
    "test.head(5)"
   ]
  },
  {
   "cell_type": "code",
   "execution_count": 12,
   "metadata": {
    "execution": {
     "iopub.execute_input": "2021-12-15T18:58:57.909663Z",
     "iopub.status.busy": "2021-12-15T18:58:57.908277Z",
     "iopub.status.idle": "2021-12-15T18:58:57.926294Z",
     "shell.execute_reply": "2021-12-15T18:58:57.925499Z"
    },
    "papermill": {
     "duration": 0.18092,
     "end_time": "2021-12-15T18:58:57.926435",
     "exception": false,
     "start_time": "2021-12-15T18:58:57.745515",
     "status": "completed"
    },
    "tags": []
   },
   "outputs": [
    {
     "name": "stdout",
     "output_type": "stream",
     "text": [
      "<class 'pandas.core.frame.DataFrame'>\n",
      "RangeIndex: 34686 entries, 0 to 34685\n",
      "Data columns (total 32 columns):\n",
      " #   Column                Non-Null Count  Dtype \n",
      "---  ------                --------------  ----- \n",
      " 0   bodyType              34686 non-null  object\n",
      " 1   brand                 34686 non-null  object\n",
      " 2   car_url               34686 non-null  object\n",
      " 3   color                 34686 non-null  object\n",
      " 4   complectation_dict    6418 non-null   object\n",
      " 5   description           34686 non-null  object\n",
      " 6   engineDisplacement    34686 non-null  object\n",
      " 7   enginePower           34686 non-null  object\n",
      " 8   equipment_dict        24690 non-null  object\n",
      " 9   fuelType              34686 non-null  object\n",
      " 10  image                 34686 non-null  object\n",
      " 11  mileage               34686 non-null  int64 \n",
      " 12  modelDate             34686 non-null  int64 \n",
      " 13  model_info            34686 non-null  object\n",
      " 14  model_name            34686 non-null  object\n",
      " 15  name                  34686 non-null  object\n",
      " 16  numberOfDoors         34686 non-null  int64 \n",
      " 17  parsing_unixtime      34686 non-null  int64 \n",
      " 18  priceCurrency         34686 non-null  object\n",
      " 19  productionDate        34686 non-null  int64 \n",
      " 20  sell_id               34686 non-null  int64 \n",
      " 21  super_gen             34686 non-null  object\n",
      " 22  vehicleConfiguration  34686 non-null  object\n",
      " 23  vehicleTransmission   34686 non-null  object\n",
      " 24  vendor                34686 non-null  object\n",
      " 25  Владельцы             34686 non-null  object\n",
      " 26  Владение              11995 non-null  object\n",
      " 27  ПТС                   34685 non-null  object\n",
      " 28  Привод                34686 non-null  object\n",
      " 29  Руль                  34686 non-null  object\n",
      " 30  Состояние             34686 non-null  object\n",
      " 31  Таможня               34686 non-null  object\n",
      "dtypes: int64(6), object(26)\n",
      "memory usage: 8.5+ MB\n"
     ]
    }
   ],
   "source": [
    "test.info()"
   ]
  },
  {
   "cell_type": "code",
   "execution_count": 13,
   "metadata": {
    "execution": {
     "iopub.execute_input": "2021-12-15T18:58:58.057079Z",
     "iopub.status.busy": "2021-12-15T18:58:58.056005Z",
     "iopub.status.idle": "2021-12-15T18:58:58.059850Z",
     "shell.execute_reply": "2021-12-15T18:58:58.060432Z"
    },
    "papermill": {
     "duration": 0.071947,
     "end_time": "2021-12-15T18:58:58.060589",
     "exception": false,
     "start_time": "2021-12-15T18:58:57.988642",
     "status": "completed"
    },
    "tags": []
   },
   "outputs": [
    {
     "name": "stdout",
     "output_type": "stream",
     "text": [
      "В тестовой выборке нет  {'start_date', 'hidden', 'Комплектация', 'price', 'model'}\n",
      "В тренировочной выборке нет  {'model_name', 'vendor', 'equipment_dict', 'complectation_dict', 'parsing_unixtime', 'model_info', 'priceCurrency', 'image', 'car_url', 'sell_id', 'super_gen'}\n"
     ]
    }
   ],
   "source": [
    "#очевидно, что тестовая и тренировочная выборка сильно отличаются по своей структуре - выясним,каких признаков нет в тестовой выборке, а каких в тренировочной\n",
    "print('В тестовой выборке нет ', set(train.columns) - set(test.columns))\n",
    "print('В тренировочной выборке нет ', set(test.columns) - set(train.columns))"
   ]
  },
  {
   "cell_type": "code",
   "execution_count": 14,
   "metadata": {
    "execution": {
     "iopub.execute_input": "2021-12-15T18:58:58.210299Z",
     "iopub.status.busy": "2021-12-15T18:58:58.194745Z",
     "iopub.status.idle": "2021-12-15T18:58:58.218166Z",
     "shell.execute_reply": "2021-12-15T18:58:58.217520Z"
    },
    "papermill": {
     "duration": 0.095573,
     "end_time": "2021-12-15T18:58:58.218312",
     "exception": false,
     "start_time": "2021-12-15T18:58:58.122739",
     "status": "completed"
    },
    "tags": []
   },
   "outputs": [],
   "source": [
    "# Переименуем названия колонок, которые называются по-разному, но обозначают один и тот же признак\n",
    "col_rename = {'model': 'model_name','Комплектация': 'complectation_dict'}\n",
    "train.rename(columns=col_rename, inplace=True)\n",
    "\n",
    "# Удалим лишние столбцы в train\n",
    "train.drop(['start_date', 'hidden', 'Таможня','Состояние', 'name'], inplace=True, axis=1)"
   ]
  },
  {
   "cell_type": "code",
   "execution_count": 15,
   "metadata": {
    "execution": {
     "iopub.execute_input": "2021-12-15T18:58:58.351015Z",
     "iopub.status.busy": "2021-12-15T18:58:58.350325Z",
     "iopub.status.idle": "2021-12-15T18:58:58.353325Z",
     "shell.execute_reply": "2021-12-15T18:58:58.353844Z"
    },
    "papermill": {
     "duration": 0.073293,
     "end_time": "2021-12-15T18:58:58.354018",
     "exception": false,
     "start_time": "2021-12-15T18:58:58.280725",
     "status": "completed"
    },
    "tags": []
   },
   "outputs": [],
   "source": [
    "# удаляем дубликаты train\n",
    "#train.drop_duplicates(inplace=True,keep='first')"
   ]
  },
  {
   "cell_type": "code",
   "execution_count": 16,
   "metadata": {
    "execution": {
     "iopub.execute_input": "2021-12-15T18:58:58.489399Z",
     "iopub.status.busy": "2021-12-15T18:58:58.488617Z",
     "iopub.status.idle": "2021-12-15T18:58:58.497115Z",
     "shell.execute_reply": "2021-12-15T18:58:58.497666Z"
    },
    "papermill": {
     "duration": 0.076703,
     "end_time": "2021-12-15T18:58:58.497833",
     "exception": false,
     "start_time": "2021-12-15T18:58:58.421130",
     "status": "completed"
    },
    "tags": []
   },
   "outputs": [
    {
     "data": {
      "text/plain": [
       "array(['EUROPEAN', 'JAPANESE'], dtype=object)"
      ]
     },
     "execution_count": 16,
     "metadata": {},
     "output_type": "execute_result"
    }
   ],
   "source": [
    "# посмотрим на некоторые признаки поближе, чтобы понять, какие из них можно удалить\n",
    "test.vendor.unique()"
   ]
  },
  {
   "cell_type": "code",
   "execution_count": 17,
   "metadata": {
    "execution": {
     "iopub.execute_input": "2021-12-15T18:58:58.630861Z",
     "iopub.status.busy": "2021-12-15T18:58:58.630153Z",
     "iopub.status.idle": "2021-12-15T18:58:58.638747Z",
     "shell.execute_reply": "2021-12-15T18:58:58.639321Z"
    },
    "papermill": {
     "duration": 0.075062,
     "end_time": "2021-12-15T18:58:58.639476",
     "exception": false,
     "start_time": "2021-12-15T18:58:58.564414",
     "status": "completed"
    },
    "tags": []
   },
   "outputs": [
    {
     "data": {
      "text/plain": [
       "741      {\"code\":\"FABIA\",\"name\":\"Fabia\",\"ru_name\":\"Фаби...\n",
       "24565    {\"code\":\"MULTIVAN\",\"name\":\"Multivan\",\"ru_name\"...\n",
       "24510    {\"code\":\"TOUAREG\",\"name\":\"Touareg\",\"ru_name\":\"...\n",
       "15013    {\"code\":\"FX\",\"name\":\"FX\",\"ru_name\":\"FX\",\"morph...\n",
       "1298     {\"code\":\"OCTAVIA\",\"name\":\"Octavia\",\"ru_name\":\"...\n",
       "Name: model_info, dtype: object"
      ]
     },
     "execution_count": 17,
     "metadata": {},
     "output_type": "execute_result"
    }
   ],
   "source": [
    "# данные представлены в виде словарей, частично дублирующих инфрмацию из других колонок\n",
    "test.model_info.sample(5)"
   ]
  },
  {
   "cell_type": "code",
   "execution_count": 18,
   "metadata": {
    "execution": {
     "iopub.execute_input": "2021-12-15T18:58:58.769596Z",
     "iopub.status.busy": "2021-12-15T18:58:58.768806Z",
     "iopub.status.idle": "2021-12-15T18:58:58.777228Z",
     "shell.execute_reply": "2021-12-15T18:58:58.777781Z"
    },
    "papermill": {
     "duration": 0.07509,
     "end_time": "2021-12-15T18:58:58.777934",
     "exception": false,
     "start_time": "2021-12-15T18:58:58.702844",
     "status": "completed"
    },
    "tags": []
   },
   "outputs": [
    {
     "data": {
      "text/plain": [
       "17503    {\"id\":\"20747351\",\"name\":\"111 CDI\",\"nameplate\":...\n",
       "4136     {\"id\":\"20246115\",\"displacement\":2995,\"engine_t...\n",
       "17062    {\"id\":\"8333084\",\"name\":\"65 AMG\",\"nameplate\":\"6...\n",
       "12350    {\"id\":\"4602027\",\"displacement\":1497,\"engine_ty...\n",
       "16202    {\"id\":\"21464366\",\"name\":\"4-Door Coupe\",\"namepl...\n",
       "Name: super_gen, dtype: object"
      ]
     },
     "execution_count": 18,
     "metadata": {},
     "output_type": "execute_result"
    }
   ],
   "source": [
    "# данные также представлены в виде словарей, имеют разную структуру, что может усложнить анализ\n",
    "test.super_gen.sample(5)"
   ]
  },
  {
   "cell_type": "code",
   "execution_count": 19,
   "metadata": {
    "execution": {
     "iopub.execute_input": "2021-12-15T18:58:58.909158Z",
     "iopub.status.busy": "2021-12-15T18:58:58.908390Z",
     "iopub.status.idle": "2021-12-15T18:58:58.918249Z",
     "shell.execute_reply": "2021-12-15T18:58:58.917614Z"
    },
    "papermill": {
     "duration": 0.076204,
     "end_time": "2021-12-15T18:58:58.918379",
     "exception": false,
     "start_time": "2021-12-15T18:58:58.842175",
     "status": "completed"
    },
    "tags": []
   },
   "outputs": [
    {
     "data": {
      "text/plain": [
       "1"
      ]
     },
     "execution_count": 19,
     "metadata": {},
     "output_type": "execute_result"
    }
   ],
   "source": [
    "# всего 1 уникальное значение у параметра Таможня\n",
    "test['Таможня'].nunique()"
   ]
  },
  {
   "cell_type": "code",
   "execution_count": 20,
   "metadata": {
    "execution": {
     "iopub.execute_input": "2021-12-15T18:58:59.059285Z",
     "iopub.status.busy": "2021-12-15T18:58:59.058514Z",
     "iopub.status.idle": "2021-12-15T18:58:59.066622Z",
     "shell.execute_reply": "2021-12-15T18:58:59.067253Z"
    },
    "papermill": {
     "duration": 0.084263,
     "end_time": "2021-12-15T18:58:59.067414",
     "exception": false,
     "start_time": "2021-12-15T18:58:58.983151",
     "status": "completed"
    },
    "tags": []
   },
   "outputs": [
    {
     "data": {
      "text/plain": [
       "1"
      ]
     },
     "execution_count": 20,
     "metadata": {},
     "output_type": "execute_result"
    }
   ],
   "source": [
    "# всего 1 уникальное значение у параметра Состояние\n",
    "test['Состояние'].nunique()"
   ]
  },
  {
   "cell_type": "code",
   "execution_count": 21,
   "metadata": {
    "execution": {
     "iopub.execute_input": "2021-12-15T18:58:59.203545Z",
     "iopub.status.busy": "2021-12-15T18:58:59.202621Z",
     "iopub.status.idle": "2021-12-15T18:59:00.160386Z",
     "shell.execute_reply": "2021-12-15T18:59:00.160923Z"
    },
    "papermill": {
     "duration": 1.026261,
     "end_time": "2021-12-15T18:59:00.161117",
     "exception": false,
     "start_time": "2021-12-15T18:58:59.134856",
     "status": "completed"
    },
    "tags": []
   },
   "outputs": [
    {
     "name": "stdout",
     "output_type": "stream",
     "text": [
      "['Таможня', 'Руль', 'priceCurrency', 'Состояние']\n"
     ]
    }
   ],
   "source": [
    "# удалим параметры в test, которые не влияют на целевую переменную - посмотрим, что предложит удалить написанная нами функция\n",
    "print(cols_to_drop(test))\n",
    "\n",
    "\n",
    "# удалим предложенные столбцы, кроме переменной 'Руль', а также еще несколько столбцов\n",
    "test.drop(['priceCurrency', 'image', 'vendor', 'parsing_unixtime', 'sell_id',\n",
    "           'model_info', 'super_gen', 'car_url', 'Таможня','Состояние', 'name'], axis=1,inplace=True)\n",
    "\n",
    "# добавим переменную price в test\n",
    "test['price'] = 0.0"
   ]
  },
  {
   "cell_type": "markdown",
   "metadata": {
    "papermill": {
     "duration": 0.064578,
     "end_time": "2021-12-15T18:59:00.292237",
     "exception": false,
     "start_time": "2021-12-15T18:59:00.227659",
     "status": "completed"
    },
    "tags": []
   },
   "source": [
    "Столбцы, которые были удалены:\n",
    "- **priceCurrency** - параметр, обозначающий валюту продажи - одинаковый для всех авто в выборке;\n",
    "- **image** - ссылка на изображение, для анализа не нужна;\n",
    "- **car_url** - ссылка на объявление, аналогично предыдущему признаку, не нужна;\n",
    "- **vendor** - продавец (европейский или японский);\n",
    "- **parsing_unixtime** - дата и время парсинга данных в формате unixtime;\n",
    "- **sell_id** - данный параметр отсутствует в train;\n",
    "- **model_info** - содержит информацию, которая уже есть в других столбцах;\n",
    "- **super_gen** - словарь с данными, не представляющими интереса для нашей модели;\n",
    "- **name** -;\n",
    "- **Таможня** и **Состояние** - одно уникальное значение в каждом из столбцов."
   ]
  },
  {
   "cell_type": "code",
   "execution_count": 22,
   "metadata": {
    "execution": {
     "iopub.execute_input": "2021-12-15T18:59:00.426687Z",
     "iopub.status.busy": "2021-12-15T18:59:00.425992Z",
     "iopub.status.idle": "2021-12-15T18:59:00.589102Z",
     "shell.execute_reply": "2021-12-15T18:59:00.588241Z"
    },
    "papermill": {
     "duration": 0.231346,
     "end_time": "2021-12-15T18:59:00.589280",
     "exception": false,
     "start_time": "2021-12-15T18:59:00.357934",
     "status": "completed"
    },
    "tags": []
   },
   "outputs": [
    {
     "name": "stdout",
     "output_type": "stream",
     "text": [
      "train - (89378, 22),\n",
      "test - (34686, 23),\n",
      "df - (124064, 23)\n"
     ]
    }
   ],
   "source": [
    "train['sample'] = 1  # помечаем, где у нас трейн\n",
    "test['sample'] = 0  # помечаем, где у нас тест\n",
    "\n",
    "# Объединяем трейн и тест в один датасет для корректной обработки признаков\n",
    "df = pd.concat([test, train]).reset_index(drop=True)\n",
    "print(f'train - {train.shape},\\ntest - {test.shape},\\ndf - {df.shape}')"
   ]
  },
  {
   "cell_type": "code",
   "execution_count": 23,
   "metadata": {
    "execution": {
     "iopub.execute_input": "2021-12-15T18:59:00.728879Z",
     "iopub.status.busy": "2021-12-15T18:59:00.728057Z",
     "iopub.status.idle": "2021-12-15T18:59:01.034538Z",
     "shell.execute_reply": "2021-12-15T18:59:01.035125Z"
    },
    "papermill": {
     "duration": 0.379709,
     "end_time": "2021-12-15T18:59:01.035283",
     "exception": false,
     "start_time": "2021-12-15T18:59:00.655574",
     "status": "completed"
    },
    "tags": []
   },
   "outputs": [
    {
     "name": "stdout",
     "output_type": "stream",
     "text": [
      "<class 'pandas.core.frame.DataFrame'>\n",
      "RangeIndex: 124064 entries, 0 to 124063\n",
      "Data columns (total 23 columns):\n",
      " #   Column                Non-Null Count   Dtype  \n",
      "---  ------                --------------   -----  \n",
      " 0   bodyType              124063 non-null  object \n",
      " 1   brand                 124064 non-null  object \n",
      " 2   color                 124064 non-null  object \n",
      " 3   complectation_dict    95796 non-null   object \n",
      " 4   description           120810 non-null  object \n",
      " 5   engineDisplacement    124063 non-null  object \n",
      " 6   enginePower           124063 non-null  object \n",
      " 7   equipment_dict        24690 non-null   object \n",
      " 8   fuelType              124064 non-null  object \n",
      " 9   mileage               124064 non-null  int64  \n",
      " 10  modelDate             124063 non-null  float64\n",
      " 11  model_name            124064 non-null  object \n",
      " 12  numberOfDoors         124063 non-null  float64\n",
      " 13  productionDate        124064 non-null  int64  \n",
      " 14  vehicleConfiguration  124063 non-null  object \n",
      " 15  vehicleTransmission   124063 non-null  object \n",
      " 16  Владельцы             110476 non-null  object \n",
      " 17  Владение              41196 non-null   object \n",
      " 18  ПТС                   123702 non-null  object \n",
      " 19  Привод                124063 non-null  object \n",
      " 20  Руль                  124064 non-null  object \n",
      " 21  price                 123654 non-null  float64\n",
      " 22  sample                124064 non-null  int64  \n",
      "dtypes: float64(3), int64(3), object(17)\n",
      "memory usage: 21.8+ MB\n"
     ]
    }
   ],
   "source": [
    "df.info()"
   ]
  },
  {
   "cell_type": "code",
   "execution_count": 24,
   "metadata": {
    "execution": {
     "iopub.execute_input": "2021-12-15T18:59:01.168554Z",
     "iopub.status.busy": "2021-12-15T18:59:01.167886Z",
     "iopub.status.idle": "2021-12-15T18:59:01.175267Z",
     "shell.execute_reply": "2021-12-15T18:59:01.175786Z"
    },
    "papermill": {
     "duration": 0.075536,
     "end_time": "2021-12-15T18:59:01.175933",
     "exception": false,
     "start_time": "2021-12-15T18:59:01.100397",
     "status": "completed"
    },
    "tags": []
   },
   "outputs": [],
   "source": [
    "# приведём названия всех столбцов к стандартному виду:\n",
    "df.rename(columns={'bodyType': 'body_type',\n",
    "                   'engineDisplacement': 'engine_displacement',\n",
    "                   'enginePower': 'engine_power',\n",
    "                   'fuelType': 'fuel_type',\n",
    "                   'modelDate': 'model_date',\n",
    "                   'numberOfDoors': 'number_of_doors',\n",
    "                   'productionDate': 'production_date',\n",
    "                   'vehicleConfiguration': 'vehicle_configuration',\n",
    "                   'vehicleTransmission': 'vehicle_transmission',\n",
    "                   'Владельцы': 'owners',\n",
    "                   'Владение': 'ownership',\n",
    "                   'ПТС': 'licence',\n",
    "                   'Привод': 'type_of_drive',\n",
    "                   'Руль': 'wheel',\n",
    "                   }, inplace=True)"
   ]
  },
  {
   "cell_type": "code",
   "execution_count": 25,
   "metadata": {
    "execution": {
     "iopub.execute_input": "2021-12-15T18:59:01.310440Z",
     "iopub.status.busy": "2021-12-15T18:59:01.309688Z",
     "iopub.status.idle": "2021-12-15T18:59:01.337105Z",
     "shell.execute_reply": "2021-12-15T18:59:01.337646Z"
    },
    "papermill": {
     "duration": 0.095479,
     "end_time": "2021-12-15T18:59:01.337791",
     "exception": false,
     "start_time": "2021-12-15T18:59:01.242312",
     "status": "completed"
    },
    "tags": []
   },
   "outputs": [
    {
     "data": {
      "text/html": [
       "<div>\n",
       "<style scoped>\n",
       "    .dataframe tbody tr th:only-of-type {\n",
       "        vertical-align: middle;\n",
       "    }\n",
       "\n",
       "    .dataframe tbody tr th {\n",
       "        vertical-align: top;\n",
       "    }\n",
       "\n",
       "    .dataframe thead th {\n",
       "        text-align: right;\n",
       "    }\n",
       "</style>\n",
       "<table border=\"1\" class=\"dataframe\">\n",
       "  <thead>\n",
       "    <tr style=\"text-align: right;\">\n",
       "      <th></th>\n",
       "      <th>body_type</th>\n",
       "      <th>brand</th>\n",
       "      <th>color</th>\n",
       "      <th>complectation_dict</th>\n",
       "      <th>description</th>\n",
       "      <th>engine_displacement</th>\n",
       "      <th>engine_power</th>\n",
       "      <th>equipment_dict</th>\n",
       "      <th>fuel_type</th>\n",
       "      <th>mileage</th>\n",
       "      <th>model_date</th>\n",
       "      <th>model_name</th>\n",
       "      <th>number_of_doors</th>\n",
       "      <th>production_date</th>\n",
       "      <th>vehicle_configuration</th>\n",
       "      <th>vehicle_transmission</th>\n",
       "      <th>owners</th>\n",
       "      <th>ownership</th>\n",
       "      <th>licence</th>\n",
       "      <th>type_of_drive</th>\n",
       "      <th>wheel</th>\n",
       "      <th>price</th>\n",
       "      <th>sample</th>\n",
       "    </tr>\n",
       "  </thead>\n",
       "  <tbody>\n",
       "    <tr>\n",
       "      <th>0</th>\n",
       "      <td>лифтбек</td>\n",
       "      <td>SKODA</td>\n",
       "      <td>синий</td>\n",
       "      <td>NaN</td>\n",
       "      <td>Все автомобили, представленные в продаже, прох...</td>\n",
       "      <td>1.2 LTR</td>\n",
       "      <td>105 N12</td>\n",
       "      <td>{\"engine-proof\":true,\"tinted-glass\":true,\"airb...</td>\n",
       "      <td>бензин</td>\n",
       "      <td>74000</td>\n",
       "      <td>2013.0</td>\n",
       "      <td>OCTAVIA</td>\n",
       "      <td>5.0</td>\n",
       "      <td>2014</td>\n",
       "      <td>LIFTBACK ROBOT 1.2</td>\n",
       "      <td>роботизированная</td>\n",
       "      <td>3 или более</td>\n",
       "      <td>NaN</td>\n",
       "      <td>Оригинал</td>\n",
       "      <td>передний</td>\n",
       "      <td>Левый</td>\n",
       "      <td>0.0</td>\n",
       "      <td>0</td>\n",
       "    </tr>\n",
       "    <tr>\n",
       "      <th>1</th>\n",
       "      <td>лифтбек</td>\n",
       "      <td>SKODA</td>\n",
       "      <td>чёрный</td>\n",
       "      <td>NaN</td>\n",
       "      <td>ЛОТ: 01217195\\nАвтопрага Север\\nДанный автомоб...</td>\n",
       "      <td>1.6 LTR</td>\n",
       "      <td>110 N12</td>\n",
       "      <td>{\"cruise-control\":true,\"asr\":true,\"esp\":true,\"...</td>\n",
       "      <td>бензин</td>\n",
       "      <td>60563</td>\n",
       "      <td>2017.0</td>\n",
       "      <td>OCTAVIA</td>\n",
       "      <td>5.0</td>\n",
       "      <td>2017</td>\n",
       "      <td>LIFTBACK MECHANICAL 1.6</td>\n",
       "      <td>механическая</td>\n",
       "      <td>1 владелец</td>\n",
       "      <td>NaN</td>\n",
       "      <td>Оригинал</td>\n",
       "      <td>передний</td>\n",
       "      <td>Левый</td>\n",
       "      <td>0.0</td>\n",
       "      <td>0</td>\n",
       "    </tr>\n",
       "    <tr>\n",
       "      <th>2</th>\n",
       "      <td>лифтбек</td>\n",
       "      <td>SKODA</td>\n",
       "      <td>серый</td>\n",
       "      <td>{\"id\":\"20026336\",\"name\":\"Ambition\",\"available_...</td>\n",
       "      <td>Все автомобили, представленные в продаже, прох...</td>\n",
       "      <td>1.8 LTR</td>\n",
       "      <td>152 N12</td>\n",
       "      <td>{\"cruise-control\":true,\"tinted-glass\":true,\"es...</td>\n",
       "      <td>бензин</td>\n",
       "      <td>88000</td>\n",
       "      <td>2013.0</td>\n",
       "      <td>SUPERB</td>\n",
       "      <td>5.0</td>\n",
       "      <td>2014</td>\n",
       "      <td>LIFTBACK ROBOT 1.8</td>\n",
       "      <td>роботизированная</td>\n",
       "      <td>1 владелец</td>\n",
       "      <td>NaN</td>\n",
       "      <td>Оригинал</td>\n",
       "      <td>передний</td>\n",
       "      <td>Левый</td>\n",
       "      <td>0.0</td>\n",
       "      <td>0</td>\n",
       "    </tr>\n",
       "    <tr>\n",
       "      <th>3</th>\n",
       "      <td>лифтбек</td>\n",
       "      <td>SKODA</td>\n",
       "      <td>коричневый</td>\n",
       "      <td>{\"id\":\"20803582\",\"name\":\"Ambition\",\"available_...</td>\n",
       "      <td>КОМПЛЕКТ ЗИМНЕЙ (ЛЕТНЕЙ) РЕЗИНЫ ПО СЕЗОНУ В ПО...</td>\n",
       "      <td>1.6 LTR</td>\n",
       "      <td>110 N12</td>\n",
       "      <td>{\"cruise-control\":true,\"roller-blind-for-rear-...</td>\n",
       "      <td>бензин</td>\n",
       "      <td>95000</td>\n",
       "      <td>2013.0</td>\n",
       "      <td>OCTAVIA</td>\n",
       "      <td>5.0</td>\n",
       "      <td>2014</td>\n",
       "      <td>LIFTBACK AUTOMATIC 1.6</td>\n",
       "      <td>автоматическая</td>\n",
       "      <td>1 владелец</td>\n",
       "      <td>NaN</td>\n",
       "      <td>Оригинал</td>\n",
       "      <td>передний</td>\n",
       "      <td>Левый</td>\n",
       "      <td>0.0</td>\n",
       "      <td>0</td>\n",
       "    </tr>\n",
       "    <tr>\n",
       "      <th>4</th>\n",
       "      <td>лифтбек</td>\n",
       "      <td>SKODA</td>\n",
       "      <td>белый</td>\n",
       "      <td>NaN</td>\n",
       "      <td>ЛОТ: 01220889\\nАвтопрага Север\\n\\nВы можете по...</td>\n",
       "      <td>1.8 LTR</td>\n",
       "      <td>152 N12</td>\n",
       "      <td>{\"cruise-control\":true,\"asr\":true,\"esp\":true,\"...</td>\n",
       "      <td>бензин</td>\n",
       "      <td>58536</td>\n",
       "      <td>2008.0</td>\n",
       "      <td>OCTAVIA</td>\n",
       "      <td>5.0</td>\n",
       "      <td>2012</td>\n",
       "      <td>LIFTBACK AUTOMATIC 1.8</td>\n",
       "      <td>автоматическая</td>\n",
       "      <td>1 владелец</td>\n",
       "      <td>NaN</td>\n",
       "      <td>Оригинал</td>\n",
       "      <td>передний</td>\n",
       "      <td>Левый</td>\n",
       "      <td>0.0</td>\n",
       "      <td>0</td>\n",
       "    </tr>\n",
       "  </tbody>\n",
       "</table>\n",
       "</div>"
      ],
      "text/plain": [
       "  body_type  brand       color  \\\n",
       "0   лифтбек  SKODA       синий   \n",
       "1   лифтбек  SKODA      чёрный   \n",
       "2   лифтбек  SKODA       серый   \n",
       "3   лифтбек  SKODA  коричневый   \n",
       "4   лифтбек  SKODA       белый   \n",
       "\n",
       "                                  complectation_dict  \\\n",
       "0                                                NaN   \n",
       "1                                                NaN   \n",
       "2  {\"id\":\"20026336\",\"name\":\"Ambition\",\"available_...   \n",
       "3  {\"id\":\"20803582\",\"name\":\"Ambition\",\"available_...   \n",
       "4                                                NaN   \n",
       "\n",
       "                                         description engine_displacement  \\\n",
       "0  Все автомобили, представленные в продаже, прох...             1.2 LTR   \n",
       "1  ЛОТ: 01217195\\nАвтопрага Север\\nДанный автомоб...             1.6 LTR   \n",
       "2  Все автомобили, представленные в продаже, прох...             1.8 LTR   \n",
       "3  КОМПЛЕКТ ЗИМНЕЙ (ЛЕТНЕЙ) РЕЗИНЫ ПО СЕЗОНУ В ПО...             1.6 LTR   \n",
       "4  ЛОТ: 01220889\\nАвтопрага Север\\n\\nВы можете по...             1.8 LTR   \n",
       "\n",
       "  engine_power                                     equipment_dict fuel_type  \\\n",
       "0      105 N12  {\"engine-proof\":true,\"tinted-glass\":true,\"airb...    бензин   \n",
       "1      110 N12  {\"cruise-control\":true,\"asr\":true,\"esp\":true,\"...    бензин   \n",
       "2      152 N12  {\"cruise-control\":true,\"tinted-glass\":true,\"es...    бензин   \n",
       "3      110 N12  {\"cruise-control\":true,\"roller-blind-for-rear-...    бензин   \n",
       "4      152 N12  {\"cruise-control\":true,\"asr\":true,\"esp\":true,\"...    бензин   \n",
       "\n",
       "   mileage  model_date model_name  number_of_doors  production_date  \\\n",
       "0    74000      2013.0    OCTAVIA              5.0             2014   \n",
       "1    60563      2017.0    OCTAVIA              5.0             2017   \n",
       "2    88000      2013.0     SUPERB              5.0             2014   \n",
       "3    95000      2013.0    OCTAVIA              5.0             2014   \n",
       "4    58536      2008.0    OCTAVIA              5.0             2012   \n",
       "\n",
       "     vehicle_configuration vehicle_transmission       owners ownership  \\\n",
       "0       LIFTBACK ROBOT 1.2     роботизированная  3 или более       NaN   \n",
       "1  LIFTBACK MECHANICAL 1.6         механическая   1 владелец       NaN   \n",
       "2       LIFTBACK ROBOT 1.8     роботизированная   1 владелец       NaN   \n",
       "3   LIFTBACK AUTOMATIC 1.6       автоматическая   1 владелец       NaN   \n",
       "4   LIFTBACK AUTOMATIC 1.8       автоматическая   1 владелец       NaN   \n",
       "\n",
       "    licence type_of_drive  wheel  price  sample  \n",
       "0  Оригинал      передний  Левый    0.0       0  \n",
       "1  Оригинал      передний  Левый    0.0       0  \n",
       "2  Оригинал      передний  Левый    0.0       0  \n",
       "3  Оригинал      передний  Левый    0.0       0  \n",
       "4  Оригинал      передний  Левый    0.0       0  "
      ]
     },
     "execution_count": 25,
     "metadata": {},
     "output_type": "execute_result"
    }
   ],
   "source": [
    "df.head()"
   ]
  },
  {
   "cell_type": "markdown",
   "metadata": {
    "papermill": {
     "duration": 0.065723,
     "end_time": "2021-12-15T18:59:01.470131",
     "exception": false,
     "start_time": "2021-12-15T18:59:01.404408",
     "status": "completed"
    },
    "tags": []
   },
   "source": [
    "## Проводим EDA"
   ]
  },
  {
   "cell_type": "code",
   "execution_count": 26,
   "metadata": {
    "execution": {
     "iopub.execute_input": "2021-12-15T18:59:01.613668Z",
     "iopub.status.busy": "2021-12-15T18:59:01.612794Z",
     "iopub.status.idle": "2021-12-15T18:59:01.616100Z",
     "shell.execute_reply": "2021-12-15T18:59:01.616622Z"
    },
    "papermill": {
     "duration": 0.076288,
     "end_time": "2021-12-15T18:59:01.616769",
     "exception": false,
     "start_time": "2021-12-15T18:59:01.540481",
     "status": "completed"
    },
    "tags": []
   },
   "outputs": [],
   "source": [
    "# проведем первичный анализ данных\n",
    "#pandas_profiling.ProfileReport(df)"
   ]
  },
  {
   "cell_type": "markdown",
   "metadata": {
    "papermill": {
     "duration": 0.069438,
     "end_time": "2021-12-15T18:59:01.754918",
     "exception": false,
     "start_time": "2021-12-15T18:59:01.685480",
     "status": "completed"
    },
    "tags": []
   },
   "source": [
    "## ВЫВОДЫ:\n",
    "\n",
    "1. В нашем датасете есть 23 признака, 15 из которых категориальные, 5 - числовые, 2 признака не поддерживаются.\n",
    "2. В выборке есть 13 дубликатов, их необходимо удалить\n",
    "3. При анализе корреляционной матрицы можно заметить, что признак model_date имеет сильную корреляцию с признаком production_date\n",
    "4. В 8.8% признак mileage равен 0, то есть машины имеют нулевой пробег\n",
    "5. Часть признаков содержит пропуски в данных (в основном, незначительные - <= 0.1%), но есть признаки, в которых большое количество пропусков - это complectation_dict, equipment_dict и ownership (23.5%, 79.4% и 66% соответственно)\n",
    "6. Значения признаков body_type,color, engine_displacement,vehicle_transmission, license,wheel необходимо привести к единому стандартному виду для корректного отображения\n",
    "7. Неподдерживаемые ризнаки owners и engine_volume также надо привести в единый читаемый формат.\n"
   ]
  },
  {
   "cell_type": "code",
   "execution_count": 27,
   "metadata": {
    "execution": {
     "iopub.execute_input": "2021-12-15T18:59:01.895793Z",
     "iopub.status.busy": "2021-12-15T18:59:01.895063Z",
     "iopub.status.idle": "2021-12-15T18:59:01.922069Z",
     "shell.execute_reply": "2021-12-15T18:59:01.922618Z"
    },
    "papermill": {
     "duration": 0.098651,
     "end_time": "2021-12-15T18:59:01.922771",
     "exception": false,
     "start_time": "2021-12-15T18:59:01.824120",
     "status": "completed"
    },
    "tags": []
   },
   "outputs": [
    {
     "data": {
      "text/html": [
       "<div>\n",
       "<style scoped>\n",
       "    .dataframe tbody tr th:only-of-type {\n",
       "        vertical-align: middle;\n",
       "    }\n",
       "\n",
       "    .dataframe tbody tr th {\n",
       "        vertical-align: top;\n",
       "    }\n",
       "\n",
       "    .dataframe thead th {\n",
       "        text-align: right;\n",
       "    }\n",
       "</style>\n",
       "<table border=\"1\" class=\"dataframe\">\n",
       "  <thead>\n",
       "    <tr style=\"text-align: right;\">\n",
       "      <th></th>\n",
       "      <th>body_type</th>\n",
       "      <th>brand</th>\n",
       "      <th>color</th>\n",
       "      <th>complectation_dict</th>\n",
       "      <th>description</th>\n",
       "      <th>engine_displacement</th>\n",
       "      <th>engine_power</th>\n",
       "      <th>equipment_dict</th>\n",
       "      <th>fuel_type</th>\n",
       "      <th>mileage</th>\n",
       "      <th>model_date</th>\n",
       "      <th>model_name</th>\n",
       "      <th>number_of_doors</th>\n",
       "      <th>production_date</th>\n",
       "      <th>vehicle_configuration</th>\n",
       "      <th>vehicle_transmission</th>\n",
       "      <th>owners</th>\n",
       "      <th>ownership</th>\n",
       "      <th>licence</th>\n",
       "      <th>type_of_drive</th>\n",
       "      <th>wheel</th>\n",
       "      <th>price</th>\n",
       "      <th>sample</th>\n",
       "    </tr>\n",
       "  </thead>\n",
       "  <tbody>\n",
       "    <tr>\n",
       "      <th>0</th>\n",
       "      <td>лифтбек</td>\n",
       "      <td>SKODA</td>\n",
       "      <td>синий</td>\n",
       "      <td>NaN</td>\n",
       "      <td>Все автомобили, представленные в продаже, прох...</td>\n",
       "      <td>1.2 LTR</td>\n",
       "      <td>105 N12</td>\n",
       "      <td>{\"engine-proof\":true,\"tinted-glass\":true,\"airb...</td>\n",
       "      <td>бензин</td>\n",
       "      <td>74000</td>\n",
       "      <td>2013.0</td>\n",
       "      <td>OCTAVIA</td>\n",
       "      <td>5.0</td>\n",
       "      <td>2014</td>\n",
       "      <td>LIFTBACK ROBOT 1.2</td>\n",
       "      <td>роботизированная</td>\n",
       "      <td>3 или более</td>\n",
       "      <td>NaN</td>\n",
       "      <td>Оригинал</td>\n",
       "      <td>передний</td>\n",
       "      <td>Левый</td>\n",
       "      <td>0.0</td>\n",
       "      <td>0</td>\n",
       "    </tr>\n",
       "    <tr>\n",
       "      <th>1</th>\n",
       "      <td>лифтбек</td>\n",
       "      <td>SKODA</td>\n",
       "      <td>чёрный</td>\n",
       "      <td>NaN</td>\n",
       "      <td>ЛОТ: 01217195\\nАвтопрага Север\\nДанный автомоб...</td>\n",
       "      <td>1.6 LTR</td>\n",
       "      <td>110 N12</td>\n",
       "      <td>{\"cruise-control\":true,\"asr\":true,\"esp\":true,\"...</td>\n",
       "      <td>бензин</td>\n",
       "      <td>60563</td>\n",
       "      <td>2017.0</td>\n",
       "      <td>OCTAVIA</td>\n",
       "      <td>5.0</td>\n",
       "      <td>2017</td>\n",
       "      <td>LIFTBACK MECHANICAL 1.6</td>\n",
       "      <td>механическая</td>\n",
       "      <td>1 владелец</td>\n",
       "      <td>NaN</td>\n",
       "      <td>Оригинал</td>\n",
       "      <td>передний</td>\n",
       "      <td>Левый</td>\n",
       "      <td>0.0</td>\n",
       "      <td>0</td>\n",
       "    </tr>\n",
       "    <tr>\n",
       "      <th>2</th>\n",
       "      <td>лифтбек</td>\n",
       "      <td>SKODA</td>\n",
       "      <td>серый</td>\n",
       "      <td>{\"id\":\"20026336\",\"name\":\"Ambition\",\"available_...</td>\n",
       "      <td>Все автомобили, представленные в продаже, прох...</td>\n",
       "      <td>1.8 LTR</td>\n",
       "      <td>152 N12</td>\n",
       "      <td>{\"cruise-control\":true,\"tinted-glass\":true,\"es...</td>\n",
       "      <td>бензин</td>\n",
       "      <td>88000</td>\n",
       "      <td>2013.0</td>\n",
       "      <td>SUPERB</td>\n",
       "      <td>5.0</td>\n",
       "      <td>2014</td>\n",
       "      <td>LIFTBACK ROBOT 1.8</td>\n",
       "      <td>роботизированная</td>\n",
       "      <td>1 владелец</td>\n",
       "      <td>NaN</td>\n",
       "      <td>Оригинал</td>\n",
       "      <td>передний</td>\n",
       "      <td>Левый</td>\n",
       "      <td>0.0</td>\n",
       "      <td>0</td>\n",
       "    </tr>\n",
       "    <tr>\n",
       "      <th>3</th>\n",
       "      <td>лифтбек</td>\n",
       "      <td>SKODA</td>\n",
       "      <td>коричневый</td>\n",
       "      <td>{\"id\":\"20803582\",\"name\":\"Ambition\",\"available_...</td>\n",
       "      <td>КОМПЛЕКТ ЗИМНЕЙ (ЛЕТНЕЙ) РЕЗИНЫ ПО СЕЗОНУ В ПО...</td>\n",
       "      <td>1.6 LTR</td>\n",
       "      <td>110 N12</td>\n",
       "      <td>{\"cruise-control\":true,\"roller-blind-for-rear-...</td>\n",
       "      <td>бензин</td>\n",
       "      <td>95000</td>\n",
       "      <td>2013.0</td>\n",
       "      <td>OCTAVIA</td>\n",
       "      <td>5.0</td>\n",
       "      <td>2014</td>\n",
       "      <td>LIFTBACK AUTOMATIC 1.6</td>\n",
       "      <td>автоматическая</td>\n",
       "      <td>1 владелец</td>\n",
       "      <td>NaN</td>\n",
       "      <td>Оригинал</td>\n",
       "      <td>передний</td>\n",
       "      <td>Левый</td>\n",
       "      <td>0.0</td>\n",
       "      <td>0</td>\n",
       "    </tr>\n",
       "    <tr>\n",
       "      <th>4</th>\n",
       "      <td>лифтбек</td>\n",
       "      <td>SKODA</td>\n",
       "      <td>белый</td>\n",
       "      <td>NaN</td>\n",
       "      <td>ЛОТ: 01220889\\nАвтопрага Север\\n\\nВы можете по...</td>\n",
       "      <td>1.8 LTR</td>\n",
       "      <td>152 N12</td>\n",
       "      <td>{\"cruise-control\":true,\"asr\":true,\"esp\":true,\"...</td>\n",
       "      <td>бензин</td>\n",
       "      <td>58536</td>\n",
       "      <td>2008.0</td>\n",
       "      <td>OCTAVIA</td>\n",
       "      <td>5.0</td>\n",
       "      <td>2012</td>\n",
       "      <td>LIFTBACK AUTOMATIC 1.8</td>\n",
       "      <td>автоматическая</td>\n",
       "      <td>1 владелец</td>\n",
       "      <td>NaN</td>\n",
       "      <td>Оригинал</td>\n",
       "      <td>передний</td>\n",
       "      <td>Левый</td>\n",
       "      <td>0.0</td>\n",
       "      <td>0</td>\n",
       "    </tr>\n",
       "  </tbody>\n",
       "</table>\n",
       "</div>"
      ],
      "text/plain": [
       "  body_type  brand       color  \\\n",
       "0   лифтбек  SKODA       синий   \n",
       "1   лифтбек  SKODA      чёрный   \n",
       "2   лифтбек  SKODA       серый   \n",
       "3   лифтбек  SKODA  коричневый   \n",
       "4   лифтбек  SKODA       белый   \n",
       "\n",
       "                                  complectation_dict  \\\n",
       "0                                                NaN   \n",
       "1                                                NaN   \n",
       "2  {\"id\":\"20026336\",\"name\":\"Ambition\",\"available_...   \n",
       "3  {\"id\":\"20803582\",\"name\":\"Ambition\",\"available_...   \n",
       "4                                                NaN   \n",
       "\n",
       "                                         description engine_displacement  \\\n",
       "0  Все автомобили, представленные в продаже, прох...             1.2 LTR   \n",
       "1  ЛОТ: 01217195\\nАвтопрага Север\\nДанный автомоб...             1.6 LTR   \n",
       "2  Все автомобили, представленные в продаже, прох...             1.8 LTR   \n",
       "3  КОМПЛЕКТ ЗИМНЕЙ (ЛЕТНЕЙ) РЕЗИНЫ ПО СЕЗОНУ В ПО...             1.6 LTR   \n",
       "4  ЛОТ: 01220889\\nАвтопрага Север\\n\\nВы можете по...             1.8 LTR   \n",
       "\n",
       "  engine_power                                     equipment_dict fuel_type  \\\n",
       "0      105 N12  {\"engine-proof\":true,\"tinted-glass\":true,\"airb...    бензин   \n",
       "1      110 N12  {\"cruise-control\":true,\"asr\":true,\"esp\":true,\"...    бензин   \n",
       "2      152 N12  {\"cruise-control\":true,\"tinted-glass\":true,\"es...    бензин   \n",
       "3      110 N12  {\"cruise-control\":true,\"roller-blind-for-rear-...    бензин   \n",
       "4      152 N12  {\"cruise-control\":true,\"asr\":true,\"esp\":true,\"...    бензин   \n",
       "\n",
       "   mileage  model_date model_name  number_of_doors  production_date  \\\n",
       "0    74000      2013.0    OCTAVIA              5.0             2014   \n",
       "1    60563      2017.0    OCTAVIA              5.0             2017   \n",
       "2    88000      2013.0     SUPERB              5.0             2014   \n",
       "3    95000      2013.0    OCTAVIA              5.0             2014   \n",
       "4    58536      2008.0    OCTAVIA              5.0             2012   \n",
       "\n",
       "     vehicle_configuration vehicle_transmission       owners ownership  \\\n",
       "0       LIFTBACK ROBOT 1.2     роботизированная  3 или более       NaN   \n",
       "1  LIFTBACK MECHANICAL 1.6         механическая   1 владелец       NaN   \n",
       "2       LIFTBACK ROBOT 1.8     роботизированная   1 владелец       NaN   \n",
       "3   LIFTBACK AUTOMATIC 1.6       автоматическая   1 владелец       NaN   \n",
       "4   LIFTBACK AUTOMATIC 1.8       автоматическая   1 владелец       NaN   \n",
       "\n",
       "    licence type_of_drive  wheel  price  sample  \n",
       "0  Оригинал      передний  Левый    0.0       0  \n",
       "1  Оригинал      передний  Левый    0.0       0  \n",
       "2  Оригинал      передний  Левый    0.0       0  \n",
       "3  Оригинал      передний  Левый    0.0       0  \n",
       "4  Оригинал      передний  Левый    0.0       0  "
      ]
     },
     "execution_count": 27,
     "metadata": {},
     "output_type": "execute_result"
    }
   ],
   "source": [
    "df.head()"
   ]
  },
  {
   "cell_type": "markdown",
   "metadata": {
    "papermill": {
     "duration": 0.069233,
     "end_time": "2021-12-15T18:59:02.109614",
     "exception": false,
     "start_time": "2021-12-15T18:59:02.040381",
     "status": "completed"
    },
    "tags": []
   },
   "source": [
    "## Приведем признаки в единый формат"
   ]
  },
  {
   "cell_type": "code",
   "execution_count": 28,
   "metadata": {
    "execution": {
     "iopub.execute_input": "2021-12-15T18:59:02.247813Z",
     "iopub.status.busy": "2021-12-15T18:59:02.247059Z",
     "iopub.status.idle": "2021-12-15T18:59:10.364127Z",
     "shell.execute_reply": "2021-12-15T18:59:10.363117Z"
    },
    "papermill": {
     "duration": 8.187755,
     "end_time": "2021-12-15T18:59:10.364268",
     "exception": false,
     "start_time": "2021-12-15T18:59:02.176513",
     "status": "completed"
    },
    "tags": []
   },
   "outputs": [
    {
     "data": {
      "text/plain": [
       "<seaborn.axisgrid.JointGrid at 0x7f44c12510d0>"
      ]
     },
     "execution_count": 28,
     "metadata": {},
     "output_type": "execute_result"
    },
    {
     "data": {
      "image/png": "[encoded data removed]",
      "text/plain": [
       "<Figure size 432x432 with 3 Axes>"
      ]
     },
     "metadata": {},
     "output_type": "display_data"
    }
   ],
   "source": [
    "# Заменим неподходящие значения на единый стандарт\n",
    "rename_item = {'Оригинал': 'ORIGINAL',\n",
    "               'Дубликат': 'DUPLICATE',\n",
    "               'автоматическая': 'AUTOMATIC',\n",
    "               'механическая': 'MECHANICAL',\n",
    "               'вариатор': 'VARIATOR',\n",
    "               'роботизированная': 'ROBOT',\n",
    "               'Левый': 'LEFT',\n",
    "               'Правый': 'RIGHT',\n",
    "               '040001': 'чёрный',\n",
    "               'FAFBFB': 'белый',\n",
    "               'CACECB': 'серебристый',\n",
    "               '97948F': 'серый',\n",
    "               '0000CC': 'синий',\n",
    "               '200204': 'коричневый',\n",
    "               'EE1D19': 'красный',\n",
    "               '007F00': 'зеленый',\n",
    "               'C49648': 'бежевый',\n",
    "               '22A0F8': 'голубой',\n",
    "               '660099': 'пурпурный',\n",
    "               'DEA522': 'золотой',\n",
    "               '4A2197': 'фиолетовый',\n",
    "               'FFD600': 'желтый',\n",
    "               'FF8649': 'оранжевый',\n",
    "               'FFC0CB': 'розовый',\n",
    "               }\n",
    "# Проведем замену слов\n",
    "for column in ['body_type', 'vehicle_transmission', 'color', 'licence', 'wheel']:\n",
    "    df = df.replace({column: rename_item})  # заменим\n",
    "    df[column] = df[column].apply(lambda x: None if pd.isnull(\n",
    "        x) else x.lower())  # приведем все к нижнему регистру\n",
    "\n",
    "# Оставим только первое число в переменных 'owners'и'engine_power' и переведем их в числовой формат\n",
    "for column in ['owners', 'engine_power' ]:\n",
    "    df[column] = df[column].astype(str).apply(lambda x: x.split()[0])\n",
    "    df[column] = df[column].astype(float)\n",
    "\n",
    "# Приведём признак engine_displacement к строковому типу и оставим только числовые данные.\n",
    "df['engine_displacement'] = df['engine_displacement'].astype(str)\n",
    "df['engine_displacement'] = df['engine_displacement'].str.extract(\n",
    "    '(\\d.\\d)', expand=False).str.strip()\n",
    "# Заменим все некорректные числа(объём двигателя в литрах) более 10 на None\n",
    "df['engine_displacement'] = df['engine_displacement'].apply(\n",
    "    lambda x: None if float(x) > 10 else x).astype(float)\n",
    "\n",
    "sns.jointplot(x='engine_power', y='engine_displacement',\n",
    "              data=df, kind='reg')"
   ]
  },
  {
   "cell_type": "markdown",
   "metadata": {
    "papermill": {
     "duration": 0.070028,
     "end_time": "2021-12-15T18:59:10.503894",
     "exception": false,
     "start_time": "2021-12-15T18:59:10.433866",
     "status": "completed"
    },
    "tags": []
   },
   "source": [
    "## Заполним пустые значения"
   ]
  },
  {
   "cell_type": "code",
   "execution_count": 29,
   "metadata": {
    "execution": {
     "iopub.execute_input": "2021-12-15T18:59:10.644730Z",
     "iopub.status.busy": "2021-12-15T18:59:10.644107Z",
     "iopub.status.idle": "2021-12-15T18:59:11.466487Z",
     "shell.execute_reply": "2021-12-15T18:59:11.467015Z"
    },
    "papermill": {
     "duration": 0.894492,
     "end_time": "2021-12-15T18:59:11.467167",
     "exception": false,
     "start_time": "2021-12-15T18:59:10.572675",
     "status": "completed"
    },
    "tags": []
   },
   "outputs": [
    {
     "name": "stdout",
     "output_type": "stream",
     "text": [
      "body_type                    1\n",
      "brand                        0\n",
      "color                        0\n",
      "complectation_dict       28268\n",
      "description               3254\n",
      "engine_displacement      21124\n",
      "engine_power                 1\n",
      "equipment_dict           99374\n",
      "fuel_type                    0\n",
      "mileage                      0\n",
      "model_date                   1\n",
      "model_name                   0\n",
      "number_of_doors              1\n",
      "production_date              0\n",
      "vehicle_configuration        1\n",
      "vehicle_transmission         1\n",
      "owners                   13588\n",
      "ownership                82868\n",
      "licence                    362\n",
      "type_of_drive                1\n",
      "wheel                        0\n",
      "price                      410\n",
      "sample                       0\n",
      "dtype: int64\n"
     ]
    },
    {
     "data": {
      "text/plain": [
       "<matplotlib.axes._subplots.AxesSubplot at 0x7f44bcf1e790>"
      ]
     },
     "execution_count": 29,
     "metadata": {},
     "output_type": "execute_result"
    },
    {
     "data": {
      "image/png": "[encoded data removed]",
      "text/plain": [
       "<Figure size 576x432 with 2 Axes>"
      ]
     },
     "metadata": {},
     "output_type": "display_data"
    }
   ],
   "source": [
    "# посмотрим, где у нас пропуски и построим корреляционную матрицу для признаков\n",
    "\n",
    "print(df.isna().sum())\n",
    "fig, ax = plt.subplots(figsize=(8, 6))\n",
    "sns.heatmap(df.corr(), annot=True, fmt='.1g', center=0, ax=ax)"
   ]
  },
  {
   "cell_type": "code",
   "execution_count": 30,
   "metadata": {
    "execution": {
     "iopub.execute_input": "2021-12-15T18:59:11.644902Z",
     "iopub.status.busy": "2021-12-15T18:59:11.618981Z",
     "iopub.status.idle": "2021-12-15T18:59:11.665698Z",
     "shell.execute_reply": "2021-12-15T18:59:11.666418Z"
    },
    "papermill": {
     "duration": 0.125818,
     "end_time": "2021-12-15T18:59:11.666598",
     "exception": false,
     "start_time": "2021-12-15T18:59:11.540780",
     "status": "completed"
    },
    "tags": []
   },
   "outputs": [
    {
     "data": {
      "text/plain": [
       "внедорожник 5 дв.                  44113\n",
       "седан                              43740\n",
       "хэтчбек 5 дв.                      10792\n",
       "лифтбек                             5353\n",
       "универсал 5 дв.                     4661\n",
       "                                   ...  \n",
       "седан 120                              1\n",
       "пикап полуторная кабина rap cab        1\n",
       "пикап двойная кабина supercrew         1\n",
       "хэтчбек 5 дв. runx                     1\n",
       "седан lwb                              1\n",
       "Name: body_type, Length: 168, dtype: int64"
      ]
     },
     "execution_count": 30,
     "metadata": {},
     "output_type": "execute_result"
    }
   ],
   "source": [
    "# в признаке body_type есть данные с лишней информацией, приведем их к стандартному виду\n",
    "df.body_type.value_counts()"
   ]
  },
  {
   "cell_type": "code",
   "execution_count": 31,
   "metadata": {
    "execution": {
     "iopub.execute_input": "2021-12-15T18:59:11.822435Z",
     "iopub.status.busy": "2021-12-15T18:59:11.821703Z",
     "iopub.status.idle": "2021-12-15T18:59:12.021472Z",
     "shell.execute_reply": "2021-12-15T18:59:12.020003Z"
    },
    "papermill": {
     "duration": 0.278511,
     "end_time": "2021-12-15T18:59:12.021657",
     "exception": false,
     "start_time": "2021-12-15T18:59:11.743146",
     "status": "completed"
    },
    "tags": []
   },
   "outputs": [],
   "source": [
    "#удалим пропущенное значение\n",
    "#f.dropna(subset=['body_type'], inplace=True)\n",
    "\n",
    "# если убрать данные по количеству дверей, можно значительно уменьшить количество вариаций данного признака\n",
    "df['body_type'] = df['body_type'].astype(str).apply(lambda x: None if x.strip()=='' else x)\n",
    "df['body_type'] = df.body_type.apply(lambda x: x.split(' ')[0].lower())"
   ]
  },
  {
   "cell_type": "code",
   "execution_count": 32,
   "metadata": {
    "execution": {
     "iopub.execute_input": "2021-12-15T18:59:12.175156Z",
     "iopub.status.busy": "2021-12-15T18:59:12.174421Z",
     "iopub.status.idle": "2021-12-15T18:59:12.209998Z",
     "shell.execute_reply": "2021-12-15T18:59:12.209265Z"
    },
    "papermill": {
     "duration": 0.116095,
     "end_time": "2021-12-15T18:59:12.210137",
     "exception": false,
     "start_time": "2021-12-15T18:59:12.094042",
     "status": "completed"
    },
    "tags": []
   },
   "outputs": [
    {
     "data": {
      "text/plain": [
       "mileage\n",
       "(0, 10000]          1.0\n",
       "(10000, 20000]      1.0\n",
       "(20000, 30000]      1.0\n",
       "(30000, 40000]      1.0\n",
       "(40000, 50000]      1.0\n",
       "(50000, 60000]      1.0\n",
       "(60000, 70000]      2.0\n",
       "(70000, 80000]      2.0\n",
       "(80000, 90000]      2.0\n",
       "(90000, 100000]     2.0\n",
       "(100000, 110000]    2.0\n",
       "(110000, 120000]    2.0\n",
       "(120000, 130000]    2.0\n",
       "(130000, 140000]    2.0\n",
       "(140000, 150000]    3.0\n",
       "(150000, 160000]    3.0\n",
       "Name: owners, dtype: float64"
      ]
     },
     "execution_count": 32,
     "metadata": {},
     "output_type": "execute_result"
    }
   ],
   "source": [
    "# Учитывая хорошую корреляционную связь пробега и количество владельцев,\n",
    "# можно посчитать среднее значение владельцев в зависимости от пробега.\n",
    "# Отсюда можно выделить 3 переломных цифры,когда в среднем владелец меняется.\n",
    "bins = np.arange(0, 170000, 10000)\n",
    "df.groupby(pd.cut(df.mileage, bins)).owners.median()"
   ]
  },
  {
   "cell_type": "code",
   "execution_count": 33,
   "metadata": {
    "execution": {
     "iopub.execute_input": "2021-12-15T18:59:12.377489Z",
     "iopub.status.busy": "2021-12-15T18:59:12.376331Z",
     "iopub.status.idle": "2021-12-15T18:59:12.471168Z",
     "shell.execute_reply": "2021-12-15T18:59:12.470545Z"
    },
    "papermill": {
     "duration": 0.184774,
     "end_time": "2021-12-15T18:59:12.471304",
     "exception": false,
     "start_time": "2021-12-15T18:59:12.286530",
     "status": "completed"
    },
    "tags": []
   },
   "outputs": [],
   "source": [
    "change_owners = [0, 65000, 145000, 1e6]  # список км смены владельца\n",
    "labels = [1, 2, 3]\n",
    "df['mileage_owners'] = pd.cut(df['mileage'], bins=change_owners,\n",
    "                              labels=labels, include_lowest=True)  # добавим вспомогательное поле\n",
    "df['owners'] = df['owners'].fillna(\n",
    "    df['mileage_owners'])  # заполним пропуски\n",
    "df = df.drop('mileage_owners', axis=1)  # удалим вспомогательное поле"
   ]
  },
  {
   "cell_type": "code",
   "execution_count": 34,
   "metadata": {
    "execution": {
     "iopub.execute_input": "2021-12-15T18:59:12.642409Z",
     "iopub.status.busy": "2021-12-15T18:59:12.640113Z",
     "iopub.status.idle": "2021-12-15T18:59:12.681462Z",
     "shell.execute_reply": "2021-12-15T18:59:12.680839Z"
    },
    "papermill": {
     "duration": 0.13505,
     "end_time": "2021-12-15T18:59:12.681595",
     "exception": false,
     "start_time": "2021-12-15T18:59:12.546545",
     "status": "completed"
    },
    "tags": []
   },
   "outputs": [],
   "source": [
    "# Заменим модой пропуски в ПТС на \"дубликат\".\n",
    "df['licence'] = df['licence'].fillna('duplicate')\n",
    "\n",
    "# Заменим пропуски в description на \"без описания\"\n",
    "df['description'] = df['description'].fillna('без описания')"
   ]
  },
  {
   "cell_type": "code",
   "execution_count": 35,
   "metadata": {
    "execution": {
     "iopub.execute_input": "2021-12-15T18:59:12.838046Z",
     "iopub.status.busy": "2021-12-15T18:59:12.837328Z",
     "iopub.status.idle": "2021-12-15T18:59:12.865385Z",
     "shell.execute_reply": "2021-12-15T18:59:12.864692Z"
    },
    "papermill": {
     "duration": 0.109831,
     "end_time": "2021-12-15T18:59:12.865514",
     "exception": false,
     "start_time": "2021-12-15T18:59:12.755683",
     "status": "completed"
    },
    "tags": []
   },
   "outputs": [],
   "source": [
    "# признаки, в которых было большое число пропусков придется удалить, поскольку они представляют собой словари с разнородной информацией,\n",
    "# что затрудняет их представление в едином стандартном виде,хотя признак complectation_dict может довольно заметно влиять на целевую переменную, \n",
    "# в данном случае мы не можем использовать его для нашей модели\n",
    "df.drop(['complectation_dict','equipment_dict', 'ownership'], axis=1, inplace=True)"
   ]
  },
  {
   "cell_type": "code",
   "execution_count": 36,
   "metadata": {
    "execution": {
     "iopub.execute_input": "2021-12-15T18:59:13.020023Z",
     "iopub.status.busy": "2021-12-15T18:59:13.018811Z",
     "iopub.status.idle": "2021-12-15T18:59:15.957538Z",
     "shell.execute_reply": "2021-12-15T18:59:15.956748Z"
    },
    "papermill": {
     "duration": 3.0185,
     "end_time": "2021-12-15T18:59:15.957672",
     "exception": false,
     "start_time": "2021-12-15T18:59:12.939172",
     "status": "completed"
    },
    "tags": []
   },
   "outputs": [
    {
     "data": {
      "image/png": "[encoded data removed]",
      "text/plain": [
       "<Figure size 576x396 with 1 Axes>"
      ]
     },
     "metadata": {},
     "output_type": "display_data"
    },
    {
     "data": {
      "image/png": "[encoded data removed]",
      "text/plain": [
       "<Figure size 576x396 with 1 Axes>"
      ]
     },
     "metadata": {},
     "output_type": "display_data"
    },
    {
     "data": {
      "image/png": "[encoded data removed]",
      "text/plain": [
       "<Figure size 576x396 with 1 Axes>"
      ]
     },
     "metadata": {},
     "output_type": "display_data"
    },
    {
     "data": {
      "image/png": "[encoded data removed]",
      "text/plain": [
       "<Figure size 576x396 with 1 Axes>"
      ]
     },
     "metadata": {},
     "output_type": "display_data"
    },
    {
     "data": {
      "image/png": "[encoded data removed]",
      "text/plain": [
       "<Figure size 576x396 with 1 Axes>"
      ]
     },
     "metadata": {},
     "output_type": "display_data"
    },
    {
     "data": {
      "image/png": "[encoded data removed]",
      "text/plain": [
       "<Figure size 576x396 with 1 Axes>"
      ]
     },
     "metadata": {},
     "output_type": "display_data"
    },
    {
     "data": {
      "image/png": "[encoded data removed]",
      "text/plain": [
       "<Figure size 576x396 with 1 Axes>"
      ]
     },
     "metadata": {},
     "output_type": "display_data"
    }
   ],
   "source": [
    "num_cols = ['price',\n",
    "            'production_date',\n",
    "            'mileage',\n",
    "            'model_date',\n",
    "            'engine_power',\n",
    "            'number_of_doors',\n",
    "            'engine_displacement']\n",
    "\n",
    "for i in num_cols:\n",
    "    plt.figure()\n",
    "    sns.distplot(df[i], kde=False, rug=False)\n",
    "    plt.title(i)\n",
    "    plt.show()"
   ]
  },
  {
   "cell_type": "markdown",
   "metadata": {
    "papermill": {
     "duration": 0.080819,
     "end_time": "2021-12-15T18:59:16.118455",
     "exception": false,
     "start_time": "2021-12-15T18:59:16.037636",
     "status": "completed"
    },
    "tags": []
   },
   "source": [
    "Как видим, распределения признаков нормальные, но с тяжелым правым или левым хвостом, что может свидетельствовать о наличии выбросов в данных.\n"
   ]
  },
  {
   "cell_type": "code",
   "execution_count": 37,
   "metadata": {
    "execution": {
     "iopub.execute_input": "2021-12-15T18:59:16.295655Z",
     "iopub.status.busy": "2021-12-15T18:59:16.290814Z",
     "iopub.status.idle": "2021-12-15T18:59:16.345923Z",
     "shell.execute_reply": "2021-12-15T18:59:16.346599Z"
    },
    "papermill": {
     "duration": 0.14756,
     "end_time": "2021-12-15T18:59:16.346756",
     "exception": false,
     "start_time": "2021-12-15T18:59:16.199196",
     "status": "completed"
    },
    "tags": []
   },
   "outputs": [],
   "source": [
    "# в признаке number_of_doors - для некоторых авто количество дверей указано 0, что не может быть правдой\n",
    "# заменим нулевые значения на моду данного признака, т.е. 5\n",
    "df.number_of_doors = df.number_of_doors.apply(lambda x:x if x!=0 else 5)\n",
    "df.number_of_doors = df.number_of_doors.fillna(4.0)"
   ]
  },
  {
   "cell_type": "code",
   "execution_count": 38,
   "metadata": {
    "execution": {
     "iopub.execute_input": "2021-12-15T18:59:16.512197Z",
     "iopub.status.busy": "2021-12-15T18:59:16.511435Z",
     "iopub.status.idle": "2021-12-15T18:59:16.541745Z",
     "shell.execute_reply": "2021-12-15T18:59:16.542447Z"
    },
    "papermill": {
     "duration": 0.115223,
     "end_time": "2021-12-15T18:59:16.542603",
     "exception": false,
     "start_time": "2021-12-15T18:59:16.427380",
     "status": "completed"
    },
    "tags": []
   },
   "outputs": [
    {
     "data": {
      "text/html": [
       "<div>\n",
       "<style scoped>\n",
       "    .dataframe tbody tr th:only-of-type {\n",
       "        vertical-align: middle;\n",
       "    }\n",
       "\n",
       "    .dataframe tbody tr th {\n",
       "        vertical-align: top;\n",
       "    }\n",
       "\n",
       "    .dataframe thead th {\n",
       "        text-align: right;\n",
       "    }\n",
       "</style>\n",
       "<table border=\"1\" class=\"dataframe\">\n",
       "  <thead>\n",
       "    <tr style=\"text-align: right;\">\n",
       "      <th></th>\n",
       "      <th>body_type</th>\n",
       "      <th>brand</th>\n",
       "      <th>color</th>\n",
       "      <th>description</th>\n",
       "      <th>engine_displacement</th>\n",
       "      <th>engine_power</th>\n",
       "      <th>fuel_type</th>\n",
       "      <th>mileage</th>\n",
       "      <th>model_date</th>\n",
       "      <th>model_name</th>\n",
       "      <th>number_of_doors</th>\n",
       "      <th>production_date</th>\n",
       "      <th>vehicle_configuration</th>\n",
       "      <th>vehicle_transmission</th>\n",
       "      <th>owners</th>\n",
       "      <th>licence</th>\n",
       "      <th>type_of_drive</th>\n",
       "      <th>wheel</th>\n",
       "      <th>price</th>\n",
       "      <th>sample</th>\n",
       "    </tr>\n",
       "  </thead>\n",
       "  <tbody>\n",
       "    <tr>\n",
       "      <th>85987</th>\n",
       "      <td>внедорожник</td>\n",
       "      <td>NISSAN</td>\n",
       "      <td>серый</td>\n",
       "      <td>САЛОНЫ, АУКЦИОНЫ, ПЕРЕКУПЫ И ПРОЧАЯ НЕЧИСТЬ МИ...</td>\n",
       "      <td>2.5</td>\n",
       "      <td>169.0</td>\n",
       "      <td>бензин</td>\n",
       "      <td>227114</td>\n",
       "      <td>2007.0</td>\n",
       "      <td>X_TRAIL</td>\n",
       "      <td>5.0</td>\n",
       "      <td>2008</td>\n",
       "      <td>ALLROAD_5_DOORS VARIATOR 2.5</td>\n",
       "      <td>variator</td>\n",
       "      <td>3</td>\n",
       "      <td>original</td>\n",
       "      <td>полный</td>\n",
       "      <td>left</td>\n",
       "      <td>650000.0</td>\n",
       "      <td>1</td>\n",
       "    </tr>\n",
       "    <tr>\n",
       "      <th>89144</th>\n",
       "      <td>седан</td>\n",
       "      <td>OPEL</td>\n",
       "      <td>золотой</td>\n",
       "      <td>на полном ходу, вложений не требует, масло не ...</td>\n",
       "      <td>2.5</td>\n",
       "      <td>170.0</td>\n",
       "      <td>бензин</td>\n",
       "      <td>250000</td>\n",
       "      <td>1995.0</td>\n",
       "      <td>VECTRA</td>\n",
       "      <td>4.0</td>\n",
       "      <td>1998</td>\n",
       "      <td>SEDAN MECHANICAL 2.5</td>\n",
       "      <td>mechanical</td>\n",
       "      <td>3</td>\n",
       "      <td>duplicate</td>\n",
       "      <td>передний</td>\n",
       "      <td>left</td>\n",
       "      <td>110000.0</td>\n",
       "      <td>1</td>\n",
       "    </tr>\n",
       "    <tr>\n",
       "      <th>56390</th>\n",
       "      <td>седан</td>\n",
       "      <td>FORD</td>\n",
       "      <td>серый</td>\n",
       "      <td>ABS, бортовой компьютер, передние сиденья с по...</td>\n",
       "      <td>1.6</td>\n",
       "      <td>105.0</td>\n",
       "      <td>бензин</td>\n",
       "      <td>163000</td>\n",
       "      <td>2011.0</td>\n",
       "      <td>FOCUS</td>\n",
       "      <td>4.0</td>\n",
       "      <td>2012</td>\n",
       "      <td>SEDAN ROBOT 1.6</td>\n",
       "      <td>robot</td>\n",
       "      <td>2</td>\n",
       "      <td>original</td>\n",
       "      <td>передний</td>\n",
       "      <td>left</td>\n",
       "      <td>460000.0</td>\n",
       "      <td>1</td>\n",
       "    </tr>\n",
       "    <tr>\n",
       "      <th>54481</th>\n",
       "      <td>хэтчбек</td>\n",
       "      <td>FORD</td>\n",
       "      <td>красный</td>\n",
       "      <td>Состояние хорошее сели и поехали,богатая компл...</td>\n",
       "      <td>1.6</td>\n",
       "      <td>125.0</td>\n",
       "      <td>бензин</td>\n",
       "      <td>50000</td>\n",
       "      <td>2014.0</td>\n",
       "      <td>FOCUS</td>\n",
       "      <td>5.0</td>\n",
       "      <td>2016</td>\n",
       "      <td>HATCHBACK_5_DOORS ROBOT 1.6</td>\n",
       "      <td>robot</td>\n",
       "      <td>3</td>\n",
       "      <td>original</td>\n",
       "      <td>передний</td>\n",
       "      <td>left</td>\n",
       "      <td>575000.0</td>\n",
       "      <td>1</td>\n",
       "    </tr>\n",
       "    <tr>\n",
       "      <th>2141</th>\n",
       "      <td>лифтбек</td>\n",
       "      <td>SKODA</td>\n",
       "      <td>белый</td>\n",
       "      <td>Новый экономичный автомобиль. Комплектация Ста...</td>\n",
       "      <td>1.6</td>\n",
       "      <td>90.0</td>\n",
       "      <td>бензин</td>\n",
       "      <td>7645</td>\n",
       "      <td>2017.0</td>\n",
       "      <td>RAPID</td>\n",
       "      <td>5.0</td>\n",
       "      <td>2018</td>\n",
       "      <td>LIFTBACK MECHANICAL 1.6</td>\n",
       "      <td>mechanical</td>\n",
       "      <td>1</td>\n",
       "      <td>original</td>\n",
       "      <td>передний</td>\n",
       "      <td>left</td>\n",
       "      <td>0.0</td>\n",
       "      <td>0</td>\n",
       "    </tr>\n",
       "  </tbody>\n",
       "</table>\n",
       "</div>"
      ],
      "text/plain": [
       "         body_type   brand    color  \\\n",
       "85987  внедорожник  NISSAN    серый   \n",
       "89144        седан    OPEL  золотой   \n",
       "56390        седан    FORD    серый   \n",
       "54481      хэтчбек    FORD  красный   \n",
       "2141       лифтбек   SKODA    белый   \n",
       "\n",
       "                                             description  engine_displacement  \\\n",
       "85987  САЛОНЫ, АУКЦИОНЫ, ПЕРЕКУПЫ И ПРОЧАЯ НЕЧИСТЬ МИ...                  2.5   \n",
       "89144  на полном ходу, вложений не требует, масло не ...                  2.5   \n",
       "56390  ABS, бортовой компьютер, передние сиденья с по...                  1.6   \n",
       "54481  Состояние хорошее сели и поехали,богатая компл...                  1.6   \n",
       "2141   Новый экономичный автомобиль. Комплектация Ста...                  1.6   \n",
       "\n",
       "       engine_power fuel_type  mileage  model_date model_name  \\\n",
       "85987         169.0    бензин   227114      2007.0    X_TRAIL   \n",
       "89144         170.0    бензин   250000      1995.0     VECTRA   \n",
       "56390         105.0    бензин   163000      2011.0      FOCUS   \n",
       "54481         125.0    бензин    50000      2014.0      FOCUS   \n",
       "2141           90.0    бензин     7645      2017.0      RAPID   \n",
       "\n",
       "       number_of_doors  production_date         vehicle_configuration  \\\n",
       "85987              5.0             2008  ALLROAD_5_DOORS VARIATOR 2.5   \n",
       "89144              4.0             1998          SEDAN MECHANICAL 2.5   \n",
       "56390              4.0             2012               SEDAN ROBOT 1.6   \n",
       "54481              5.0             2016   HATCHBACK_5_DOORS ROBOT 1.6   \n",
       "2141               5.0             2018       LIFTBACK MECHANICAL 1.6   \n",
       "\n",
       "      vehicle_transmission owners    licence type_of_drive wheel     price  \\\n",
       "85987             variator      3   original        полный  left  650000.0   \n",
       "89144           mechanical      3  duplicate      передний  left  110000.0   \n",
       "56390                robot      2   original      передний  left  460000.0   \n",
       "54481                robot      3   original      передний  left  575000.0   \n",
       "2141            mechanical      1   original      передний  left       0.0   \n",
       "\n",
       "       sample  \n",
       "85987       1  \n",
       "89144       1  \n",
       "56390       1  \n",
       "54481       1  \n",
       "2141        0  "
      ]
     },
     "execution_count": 38,
     "metadata": {},
     "output_type": "execute_result"
    }
   ],
   "source": [
    "df.sample(5)"
   ]
  },
  {
   "cell_type": "code",
   "execution_count": 39,
   "metadata": {
    "execution": {
     "iopub.execute_input": "2021-12-15T18:59:16.711911Z",
     "iopub.status.busy": "2021-12-15T18:59:16.711149Z",
     "iopub.status.idle": "2021-12-15T18:59:16.716546Z",
     "shell.execute_reply": "2021-12-15T18:59:16.717121Z"
    },
    "papermill": {
     "duration": 0.092822,
     "end_time": "2021-12-15T18:59:16.717283",
     "exception": false,
     "start_time": "2021-12-15T18:59:16.624461",
     "status": "completed"
    },
    "tags": []
   },
   "outputs": [],
   "source": [
    "# заполним пропущенные значения в признаке engine_displacement значением моды данного признака, т.е 2.0\n",
    "df.engine_displacement = df.engine_displacement.fillna(2.0)"
   ]
  },
  {
   "cell_type": "markdown",
   "metadata": {
    "papermill": {
     "duration": 0.080104,
     "end_time": "2021-12-15T18:59:16.878410",
     "exception": false,
     "start_time": "2021-12-15T18:59:16.798306",
     "status": "completed"
    },
    "tags": []
   },
   "source": [
    "## Feature Engineering"
   ]
  },
  {
   "cell_type": "code",
   "execution_count": 40,
   "metadata": {
    "execution": {
     "iopub.execute_input": "2021-12-15T18:59:17.045554Z",
     "iopub.status.busy": "2021-12-15T18:59:17.044789Z",
     "iopub.status.idle": "2021-12-15T18:59:17.198901Z",
     "shell.execute_reply": "2021-12-15T18:59:17.199552Z"
    },
    "papermill": {
     "duration": 0.241484,
     "end_time": "2021-12-15T18:59:17.199719",
     "exception": false,
     "start_time": "2021-12-15T18:59:16.958235",
     "status": "completed"
    },
    "tags": []
   },
   "outputs": [],
   "source": [
    "# Налоговым кодексом РФ установлены следующие ставки транспортного налога на одну лошадиную силу:\n",
    "# до 100 л.с. — 2,5 рубля, от 100 до 150 л.с. включительно — 3,5 рубля, свыше 150 и до 200 л.с. включительно — 5 рублей,\n",
    "# свыше 200 и до 250 л.с. включительно — 7,5 рублей и свыше 250 л.с. — 15 рублей.\n",
    "# используя эту информацию, создадим новый признак tax_group\n",
    "\n",
    "def set_tax(x):\n",
    "    if x < 100:\n",
    "        return 1\n",
    "    elif 100 <= x <=150:\n",
    "        return 2\n",
    "    elif 150 < x <= 200:\n",
    "        return 3\n",
    "    elif 200 < x <= 250:\n",
    "        return 4\n",
    "    else:\n",
    "        return 5\n",
    "\n",
    "df['tax_group'] = df.engine_power.apply(lambda x:set_tax(x))\n"
   ]
  },
  {
   "cell_type": "code",
   "execution_count": 41,
   "metadata": {
    "execution": {
     "iopub.execute_input": "2021-12-15T18:59:17.370452Z",
     "iopub.status.busy": "2021-12-15T18:59:17.369684Z",
     "iopub.status.idle": "2021-12-15T18:59:17.381325Z",
     "shell.execute_reply": "2021-12-15T18:59:17.381890Z"
    },
    "papermill": {
     "duration": 0.09967,
     "end_time": "2021-12-15T18:59:17.382092",
     "exception": false,
     "start_time": "2021-12-15T18:59:17.282422",
     "status": "completed"
    },
    "tags": []
   },
   "outputs": [],
   "source": [
    "# создадим новый признак, отображающий средний годовой пробег авто - для этого разделим общий пробег на количество лет использования\n",
    "df['year_mileage'] = round(df.mileage / (2020 - df.production_date))\n",
    "#df['year_mileage'] = df.production_date / df.mileage\n",
    "df['year_mileage']=df['year_mileage'].replace([-np.Inf,np.NINF,np.Inf], 0)\n",
    "df['year_mileage'] = df['year_mileage'].fillna(0)"
   ]
  },
  {
   "cell_type": "code",
   "execution_count": 42,
   "metadata": {
    "execution": {
     "iopub.execute_input": "2021-12-15T18:59:17.553775Z",
     "iopub.status.busy": "2021-12-15T18:59:17.553145Z",
     "iopub.status.idle": "2021-12-15T18:59:17.727224Z",
     "shell.execute_reply": "2021-12-15T18:59:17.727763Z"
    },
    "papermill": {
     "duration": 0.262391,
     "end_time": "2021-12-15T18:59:17.727921",
     "exception": false,
     "start_time": "2021-12-15T18:59:17.465530",
     "status": "completed"
    },
    "tags": []
   },
   "outputs": [
    {
     "name": "stdout",
     "output_type": "stream",
     "text": [
      "<class 'pandas.core.frame.DataFrame'>\n",
      "RangeIndex: 124064 entries, 0 to 124063\n",
      "Data columns (total 22 columns):\n",
      " #   Column                 Non-Null Count   Dtype   \n",
      "---  ------                 --------------   -----   \n",
      " 0   body_type              124064 non-null  object  \n",
      " 1   brand                  124064 non-null  object  \n",
      " 2   color                  124064 non-null  object  \n",
      " 3   description            124064 non-null  object  \n",
      " 4   engine_displacement    124064 non-null  float64 \n",
      " 5   engine_power           124063 non-null  float64 \n",
      " 6   fuel_type              124064 non-null  object  \n",
      " 7   mileage                124064 non-null  int64   \n",
      " 8   model_date             124063 non-null  float64 \n",
      " 9   model_name             124064 non-null  object  \n",
      " 10  number_of_doors        124064 non-null  float64 \n",
      " 11  production_date        124064 non-null  int64   \n",
      " 12  vehicle_configuration  124063 non-null  object  \n",
      " 13  vehicle_transmission   124063 non-null  object  \n",
      " 14  owners                 124064 non-null  category\n",
      " 15  licence                124064 non-null  object  \n",
      " 16  type_of_drive          124063 non-null  object  \n",
      " 17  wheel                  124064 non-null  object  \n",
      " 18  price                  123654 non-null  float64 \n",
      " 19  sample                 124064 non-null  int64   \n",
      " 20  tax_group              124064 non-null  int64   \n",
      " 21  year_mileage           124064 non-null  float64 \n",
      "dtypes: category(1), float64(6), int64(4), object(11)\n",
      "memory usage: 20.0+ MB\n"
     ]
    }
   ],
   "source": [
    "df.info()"
   ]
  },
  {
   "cell_type": "code",
   "execution_count": 43,
   "metadata": {
    "execution": {
     "iopub.execute_input": "2021-12-15T18:59:17.928867Z",
     "iopub.status.busy": "2021-12-15T18:59:17.927906Z",
     "iopub.status.idle": "2021-12-15T18:59:17.933550Z",
     "shell.execute_reply": "2021-12-15T18:59:17.933028Z"
    },
    "papermill": {
     "duration": 0.122574,
     "end_time": "2021-12-15T18:59:17.933675",
     "exception": false,
     "start_time": "2021-12-15T18:59:17.811101",
     "status": "completed"
    },
    "tags": []
   },
   "outputs": [
    {
     "data": {
      "text/html": [
       "<div>\n",
       "<style scoped>\n",
       "    .dataframe tbody tr th:only-of-type {\n",
       "        vertical-align: middle;\n",
       "    }\n",
       "\n",
       "    .dataframe tbody tr th {\n",
       "        vertical-align: top;\n",
       "    }\n",
       "\n",
       "    .dataframe thead th {\n",
       "        text-align: right;\n",
       "    }\n",
       "</style>\n",
       "<table border=\"1\" class=\"dataframe\">\n",
       "  <thead>\n",
       "    <tr style=\"text-align: right;\">\n",
       "      <th></th>\n",
       "      <th>body_type</th>\n",
       "      <th>brand</th>\n",
       "      <th>color</th>\n",
       "      <th>description</th>\n",
       "      <th>engine_displacement</th>\n",
       "      <th>engine_power</th>\n",
       "      <th>fuel_type</th>\n",
       "      <th>mileage</th>\n",
       "      <th>model_date</th>\n",
       "      <th>model_name</th>\n",
       "      <th>number_of_doors</th>\n",
       "      <th>production_date</th>\n",
       "      <th>vehicle_configuration</th>\n",
       "      <th>vehicle_transmission</th>\n",
       "      <th>owners</th>\n",
       "      <th>licence</th>\n",
       "      <th>type_of_drive</th>\n",
       "      <th>wheel</th>\n",
       "      <th>price</th>\n",
       "      <th>sample</th>\n",
       "      <th>tax_group</th>\n",
       "      <th>year_mileage</th>\n",
       "    </tr>\n",
       "  </thead>\n",
       "  <tbody>\n",
       "    <tr>\n",
       "      <th>76158</th>\n",
       "      <td>внедорожник</td>\n",
       "      <td>MAZDA</td>\n",
       "      <td>серебристый</td>\n",
       "      <td>Сборка Япония. Авто в отличном состоянии. Не т...</td>\n",
       "      <td>2.3</td>\n",
       "      <td>238.0</td>\n",
       "      <td>бензин</td>\n",
       "      <td>155000</td>\n",
       "      <td>2006.0</td>\n",
       "      <td>CX_7</td>\n",
       "      <td>5.0</td>\n",
       "      <td>2008</td>\n",
       "      <td>ALLROAD_5_DOORS AUTOMATIC 2.3</td>\n",
       "      <td>automatic</td>\n",
       "      <td>2</td>\n",
       "      <td>original</td>\n",
       "      <td>полный</td>\n",
       "      <td>left</td>\n",
       "      <td>500000.0</td>\n",
       "      <td>1</td>\n",
       "      <td>4</td>\n",
       "      <td>12917.0</td>\n",
       "    </tr>\n",
       "    <tr>\n",
       "      <th>74377</th>\n",
       "      <td>седан</td>\n",
       "      <td>MAZDA</td>\n",
       "      <td>чёрный</td>\n",
       "      <td>Авто полностью в исправном состоянии, все что ...</td>\n",
       "      <td>1.6</td>\n",
       "      <td>105.0</td>\n",
       "      <td>бензин</td>\n",
       "      <td>220000</td>\n",
       "      <td>2011.0</td>\n",
       "      <td>3</td>\n",
       "      <td>4.0</td>\n",
       "      <td>2011</td>\n",
       "      <td>SEDAN AUTOMATIC 1.6</td>\n",
       "      <td>automatic</td>\n",
       "      <td>3</td>\n",
       "      <td>duplicate</td>\n",
       "      <td>передний</td>\n",
       "      <td>left</td>\n",
       "      <td>510000.0</td>\n",
       "      <td>1</td>\n",
       "      <td>2</td>\n",
       "      <td>24444.0</td>\n",
       "    </tr>\n",
       "    <tr>\n",
       "      <th>12861</th>\n",
       "      <td>внедорожник</td>\n",
       "      <td>NISSAN</td>\n",
       "      <td>серый</td>\n",
       "      <td>Ксеноновые фары, 4 WD, ABS, блютус телефон, EB...</td>\n",
       "      <td>2.0</td>\n",
       "      <td>141.0</td>\n",
       "      <td>бензин</td>\n",
       "      <td>126000</td>\n",
       "      <td>2006.0</td>\n",
       "      <td>QASHQAI</td>\n",
       "      <td>5.0</td>\n",
       "      <td>2007</td>\n",
       "      <td>ALLROAD_5_DOORS VARIATOR 2.0</td>\n",
       "      <td>variator</td>\n",
       "      <td>2</td>\n",
       "      <td>original</td>\n",
       "      <td>полный</td>\n",
       "      <td>left</td>\n",
       "      <td>0.0</td>\n",
       "      <td>0</td>\n",
       "      <td>2</td>\n",
       "      <td>9692.0</td>\n",
       "    </tr>\n",
       "    <tr>\n",
       "      <th>113474</th>\n",
       "      <td>внедорожник</td>\n",
       "      <td>GREAT_WALL</td>\n",
       "      <td>серый</td>\n",
       "      <td>Автомобиль в хорошем состоянии. Комплект зимне...</td>\n",
       "      <td>2.0</td>\n",
       "      <td>122.0</td>\n",
       "      <td>бензин</td>\n",
       "      <td>195000</td>\n",
       "      <td>2010.0</td>\n",
       "      <td>HOVERH3</td>\n",
       "      <td>5.0</td>\n",
       "      <td>2010</td>\n",
       "      <td>ALLROAD_5_DOORS MECHANICAL 2.0</td>\n",
       "      <td>mechanical</td>\n",
       "      <td>2</td>\n",
       "      <td>original</td>\n",
       "      <td>полный</td>\n",
       "      <td>left</td>\n",
       "      <td>378000.0</td>\n",
       "      <td>1</td>\n",
       "      <td>2</td>\n",
       "      <td>19500.0</td>\n",
       "    </tr>\n",
       "    <tr>\n",
       "      <th>102610</th>\n",
       "      <td>седан</td>\n",
       "      <td>TOYOTA</td>\n",
       "      <td>белый</td>\n",
       "      <td>Продаётся пушечка сотик, 1jz-ge на АКПП и на 1...</td>\n",
       "      <td>2.5</td>\n",
       "      <td>200.0</td>\n",
       "      <td>бензин</td>\n",
       "      <td>337538</td>\n",
       "      <td>1996.0</td>\n",
       "      <td>MARK_II</td>\n",
       "      <td>4.0</td>\n",
       "      <td>1997</td>\n",
       "      <td>SEDAN AUTOMATIC 2.5</td>\n",
       "      <td>automatic</td>\n",
       "      <td>3</td>\n",
       "      <td>duplicate</td>\n",
       "      <td>задний</td>\n",
       "      <td>right</td>\n",
       "      <td>350000.0</td>\n",
       "      <td>1</td>\n",
       "      <td>3</td>\n",
       "      <td>14676.0</td>\n",
       "    </tr>\n",
       "  </tbody>\n",
       "</table>\n",
       "</div>"
      ],
      "text/plain": [
       "          body_type       brand        color  \\\n",
       "76158   внедорожник       MAZDA  серебристый   \n",
       "74377         седан       MAZDA       чёрный   \n",
       "12861   внедорожник      NISSAN        серый   \n",
       "113474  внедорожник  GREAT_WALL        серый   \n",
       "102610        седан      TOYOTA        белый   \n",
       "\n",
       "                                              description  \\\n",
       "76158   Сборка Япония. Авто в отличном состоянии. Не т...   \n",
       "74377   Авто полностью в исправном состоянии, все что ...   \n",
       "12861   Ксеноновые фары, 4 WD, ABS, блютус телефон, EB...   \n",
       "113474  Автомобиль в хорошем состоянии. Комплект зимне...   \n",
       "102610  Продаётся пушечка сотик, 1jz-ge на АКПП и на 1...   \n",
       "\n",
       "        engine_displacement  engine_power fuel_type  mileage  model_date  \\\n",
       "76158                   2.3         238.0    бензин   155000      2006.0   \n",
       "74377                   1.6         105.0    бензин   220000      2011.0   \n",
       "12861                   2.0         141.0    бензин   126000      2006.0   \n",
       "113474                  2.0         122.0    бензин   195000      2010.0   \n",
       "102610                  2.5         200.0    бензин   337538      1996.0   \n",
       "\n",
       "       model_name  number_of_doors  production_date  \\\n",
       "76158        CX_7              5.0             2008   \n",
       "74377           3              4.0             2011   \n",
       "12861     QASHQAI              5.0             2007   \n",
       "113474    HOVERH3              5.0             2010   \n",
       "102610    MARK_II              4.0             1997   \n",
       "\n",
       "                 vehicle_configuration vehicle_transmission owners    licence  \\\n",
       "76158    ALLROAD_5_DOORS AUTOMATIC 2.3            automatic      2   original   \n",
       "74377              SEDAN AUTOMATIC 1.6            automatic      3  duplicate   \n",
       "12861     ALLROAD_5_DOORS VARIATOR 2.0             variator      2   original   \n",
       "113474  ALLROAD_5_DOORS MECHANICAL 2.0           mechanical      2   original   \n",
       "102610             SEDAN AUTOMATIC 2.5            automatic      3  duplicate   \n",
       "\n",
       "       type_of_drive  wheel     price  sample  tax_group  year_mileage  \n",
       "76158         полный   left  500000.0       1          4       12917.0  \n",
       "74377       передний   left  510000.0       1          2       24444.0  \n",
       "12861         полный   left       0.0       0          2        9692.0  \n",
       "113474        полный   left  378000.0       1          2       19500.0  \n",
       "102610        задний  right  350000.0       1          3       14676.0  "
      ]
     },
     "execution_count": 43,
     "metadata": {},
     "output_type": "execute_result"
    }
   ],
   "source": [
    "df.sample(5)"
   ]
  },
  {
   "cell_type": "code",
   "execution_count": 44,
   "metadata": {
    "execution": {
     "iopub.execute_input": "2021-12-15T18:59:18.108759Z",
     "iopub.status.busy": "2021-12-15T18:59:18.107684Z",
     "iopub.status.idle": "2021-12-15T18:59:22.527581Z",
     "shell.execute_reply": "2021-12-15T18:59:22.528362Z"
    },
    "papermill": {
     "duration": 4.509171,
     "end_time": "2021-12-15T18:59:22.528615",
     "exception": false,
     "start_time": "2021-12-15T18:59:18.019444",
     "status": "completed"
    },
    "tags": []
   },
   "outputs": [],
   "source": [
    "# создадим признак, показывающий количество символов в описании\n",
    "df['len_description'] = df.description.apply(lambda x:len(x))\n",
    "\n",
    "# попробуем определить по описанию, является продавец частным лицом или компанией\n",
    "dealer = 'официальный дилер|тест-драйв|автокредит|лот|выгода до|при обмене на ваш автомобиль|эксклюзивные предложения'\n",
    "df['dealer'] = df.description.str.contains(dealer)*1\n",
    "\n",
    "#удалим description\n",
    "df.drop('description', inplace=True, axis=1)"
   ]
  },
  {
   "cell_type": "code",
   "execution_count": 45,
   "metadata": {
    "execution": {
     "iopub.execute_input": "2021-12-15T18:59:22.715065Z",
     "iopub.status.busy": "2021-12-15T18:59:22.713854Z",
     "iopub.status.idle": "2021-12-15T18:59:22.743930Z",
     "shell.execute_reply": "2021-12-15T18:59:22.744524Z"
    },
    "papermill": {
     "duration": 0.120326,
     "end_time": "2021-12-15T18:59:22.744695",
     "exception": false,
     "start_time": "2021-12-15T18:59:22.624369",
     "status": "completed"
    },
    "tags": []
   },
   "outputs": [],
   "source": [
    "# удалим строки с пропусками в целевой переменной\n",
    "df.dropna(subset=['price'],inplace=True)"
   ]
  },
  {
   "cell_type": "code",
   "execution_count": 46,
   "metadata": {
    "execution": {
     "iopub.execute_input": "2021-12-15T18:59:22.919591Z",
     "iopub.status.busy": "2021-12-15T18:59:22.918518Z",
     "iopub.status.idle": "2021-12-15T18:59:22.926073Z",
     "shell.execute_reply": "2021-12-15T18:59:22.927097Z"
    },
    "papermill": {
     "duration": 0.09588,
     "end_time": "2021-12-15T18:59:22.927323",
     "exception": false,
     "start_time": "2021-12-15T18:59:22.831443",
     "status": "completed"
    },
    "tags": []
   },
   "outputs": [],
   "source": [
    "# заполним пропуски в признаке engine_power\n",
    "df['engine_power'] = fill_na_values('engine_power',df)"
   ]
  },
  {
   "cell_type": "code",
   "execution_count": 47,
   "metadata": {
    "execution": {
     "iopub.execute_input": "2021-12-15T18:59:23.118039Z",
     "iopub.status.busy": "2021-12-15T18:59:23.117113Z",
     "iopub.status.idle": "2021-12-15T18:59:26.552389Z",
     "shell.execute_reply": "2021-12-15T18:59:26.551621Z"
    },
    "papermill": {
     "duration": 3.532161,
     "end_time": "2021-12-15T18:59:26.552536",
     "exception": false,
     "start_time": "2021-12-15T18:59:23.020375",
     "status": "completed"
    },
    "tags": []
   },
   "outputs": [
    {
     "data": {
      "text/plain": [
       "<matplotlib.axes._subplots.AxesSubplot at 0x7f44bc507050>"
      ]
     },
     "execution_count": 47,
     "metadata": {},
     "output_type": "execute_result"
    },
    {
     "data": {
      "image/png": "[encoded data removed]",
      "text/plain": [
       "<Figure size 576x396 with 1 Axes>"
      ]
     },
     "metadata": {},
     "output_type": "display_data"
    }
   ],
   "source": [
    "# посмотрим, как влияют на целевую переменную числовые признаки\n",
    "num_cols = ['engine_displacement','engine_power','mileage','number_of_doors','production_date','year_mileage', 'len_description']\n",
    "\n",
    "imp_num = pd.Series(f_classif(df[num_cols], df['price'])[0], index = num_cols)\n",
    "imp_num.sort_values(inplace = True)\n",
    "imp_num.plot(kind = 'barh')"
   ]
  },
  {
   "cell_type": "code",
   "execution_count": 48,
   "metadata": {
    "execution": {
     "iopub.execute_input": "2021-12-15T18:59:26.731449Z",
     "iopub.status.busy": "2021-12-15T18:59:26.730705Z",
     "iopub.status.idle": "2021-12-15T18:59:26.832683Z",
     "shell.execute_reply": "2021-12-15T18:59:26.831948Z"
    },
    "papermill": {
     "duration": 0.19393,
     "end_time": "2021-12-15T18:59:26.832812",
     "exception": false,
     "start_time": "2021-12-15T18:59:26.638882",
     "status": "completed"
    },
    "tags": []
   },
   "outputs": [
    {
     "data": {
      "text/plain": [
       "(123654, 30)"
      ]
     },
     "execution_count": 48,
     "metadata": {},
     "output_type": "execute_result"
    }
   ],
   "source": [
    "# реализуем метод OneHotLabels для признаков fuel_type и type_of_drive\n",
    "cols = ['fuel_type', 'type_of_drive']\n",
    "df = pd.get_dummies(df, prefix=cols, columns=cols)\n",
    "df.shape"
   ]
  },
  {
   "cell_type": "markdown",
   "metadata": {
    "papermill": {
     "duration": 0.086952,
     "end_time": "2021-12-15T18:59:27.005141",
     "exception": false,
     "start_time": "2021-12-15T18:59:26.918189",
     "status": "completed"
    },
    "tags": []
   },
   "source": [
    "## Label Encoding"
   ]
  },
  {
   "cell_type": "code",
   "execution_count": 49,
   "metadata": {
    "execution": {
     "iopub.execute_input": "2021-12-15T18:59:27.185433Z",
     "iopub.status.busy": "2021-12-15T18:59:27.184393Z",
     "iopub.status.idle": "2021-12-15T18:59:27.438069Z",
     "shell.execute_reply": "2021-12-15T18:59:27.437399Z"
    },
    "papermill": {
     "duration": 0.344528,
     "end_time": "2021-12-15T18:59:27.438191",
     "exception": false,
     "start_time": "2021-12-15T18:59:27.093663",
     "status": "completed"
    },
    "tags": []
   },
   "outputs": [],
   "source": [
    "df_new = df.copy() \n",
    "\n",
    "# Кодируем категориальные признаки\n",
    "cat_cols = list(df.select_dtypes(exclude='number').columns)\n",
    "for column in cat_cols:\n",
    "    df_new[column] = df_new[column].astype('category').cat.codes"
   ]
  },
  {
   "cell_type": "code",
   "execution_count": 50,
   "metadata": {
    "execution": {
     "iopub.execute_input": "2021-12-15T18:59:27.620529Z",
     "iopub.status.busy": "2021-12-15T18:59:27.619703Z",
     "iopub.status.idle": "2021-12-15T18:59:31.317176Z",
     "shell.execute_reply": "2021-12-15T18:59:31.317724Z"
    },
    "papermill": {
     "duration": 3.793268,
     "end_time": "2021-12-15T18:59:31.317884",
     "exception": false,
     "start_time": "2021-12-15T18:59:27.524616",
     "status": "completed"
    },
    "tags": []
   },
   "outputs": [
    {
     "data": {
      "text/plain": [
       "<matplotlib.axes._subplots.AxesSubplot at 0x7f44bd454690>"
      ]
     },
     "execution_count": 50,
     "metadata": {},
     "output_type": "execute_result"
    },
    {
     "data": {
      "image/png": "[encoded data removed]",
      "text/plain": [
       "<Figure size 1944x1440 with 2 Axes>"
      ]
     },
     "metadata": {},
     "output_type": "display_data"
    }
   ],
   "source": [
    "# посмотрим корреляционные связи между признаками\n",
    "fig, ax = plt.subplots(figsize=(27, 20))\n",
    "sns.heatmap(df_new.corr(),\n",
    "            annot=True, fmt='.1g', center=0, ax=ax)"
   ]
  },
  {
   "cell_type": "markdown",
   "metadata": {
    "papermill": {
     "duration": 0.095591,
     "end_time": "2021-12-15T18:59:31.510818",
     "exception": false,
     "start_time": "2021-12-15T18:59:31.415227",
     "status": "completed"
    },
    "tags": []
   },
   "source": [
    "Видим высокую корреляцию между:\n",
    "- production_date и model_date (1) - удалим model_date\n",
    "- engine_displacement и engine_power (0,9) - удалим engine_displacement \n",
    "- body_type и vehicle_configuration (0,8)- удалим vehicle_configuration\n",
    "- mileage и production_date (-0,7)\n",
    "- mileage и model_date (-0,7)"
   ]
  },
  {
   "cell_type": "code",
   "execution_count": 51,
   "metadata": {
    "execution": {
     "iopub.execute_input": "2021-12-15T18:59:31.704574Z",
     "iopub.status.busy": "2021-12-15T18:59:31.703843Z",
     "iopub.status.idle": "2021-12-15T18:59:31.720587Z",
     "shell.execute_reply": "2021-12-15T18:59:31.721121Z"
    },
    "papermill": {
     "duration": 0.114419,
     "end_time": "2021-12-15T18:59:31.721294",
     "exception": false,
     "start_time": "2021-12-15T18:59:31.606875",
     "status": "completed"
    },
    "tags": []
   },
   "outputs": [],
   "source": [
    "df_new = df_new.drop(['model_date', 'engine_displacement',\n",
    "                        'vehicle_configuration'], axis=1)"
   ]
  },
  {
   "cell_type": "code",
   "execution_count": 52,
   "metadata": {
    "execution": {
     "iopub.execute_input": "2021-12-15T18:59:31.915241Z",
     "iopub.status.busy": "2021-12-15T18:59:31.914575Z",
     "iopub.status.idle": "2021-12-15T18:59:31.936005Z",
     "shell.execute_reply": "2021-12-15T18:59:31.936468Z"
    },
    "papermill": {
     "duration": 0.119572,
     "end_time": "2021-12-15T18:59:31.936619",
     "exception": false,
     "start_time": "2021-12-15T18:59:31.817047",
     "status": "completed"
    },
    "tags": []
   },
   "outputs": [
    {
     "data": {
      "text/html": [
       "<div>\n",
       "<style scoped>\n",
       "    .dataframe tbody tr th:only-of-type {\n",
       "        vertical-align: middle;\n",
       "    }\n",
       "\n",
       "    .dataframe tbody tr th {\n",
       "        vertical-align: top;\n",
       "    }\n",
       "\n",
       "    .dataframe thead th {\n",
       "        text-align: right;\n",
       "    }\n",
       "</style>\n",
       "<table border=\"1\" class=\"dataframe\">\n",
       "  <thead>\n",
       "    <tr style=\"text-align: right;\">\n",
       "      <th></th>\n",
       "      <th>body_type</th>\n",
       "      <th>brand</th>\n",
       "      <th>color</th>\n",
       "      <th>engine_power</th>\n",
       "      <th>mileage</th>\n",
       "      <th>model_name</th>\n",
       "      <th>number_of_doors</th>\n",
       "      <th>production_date</th>\n",
       "      <th>vehicle_transmission</th>\n",
       "      <th>owners</th>\n",
       "      <th>licence</th>\n",
       "      <th>wheel</th>\n",
       "      <th>price</th>\n",
       "      <th>sample</th>\n",
       "      <th>tax_group</th>\n",
       "      <th>year_mileage</th>\n",
       "      <th>len_description</th>\n",
       "      <th>dealer</th>\n",
       "      <th>fuel_type_бензин</th>\n",
       "      <th>fuel_type_газ</th>\n",
       "      <th>fuel_type_гибрид</th>\n",
       "      <th>fuel_type_дизель</th>\n",
       "      <th>fuel_type_универсал</th>\n",
       "      <th>fuel_type_электро</th>\n",
       "      <th>type_of_drive_задний</th>\n",
       "      <th>type_of_drive_передний</th>\n",
       "      <th>type_of_drive_полный</th>\n",
       "    </tr>\n",
       "  </thead>\n",
       "  <tbody>\n",
       "    <tr>\n",
       "      <th>0</th>\n",
       "      <td>7</td>\n",
       "      <td>29</td>\n",
       "      <td>16</td>\n",
       "      <td>105.0</td>\n",
       "      <td>74000</td>\n",
       "      <td>684</td>\n",
       "      <td>5.0</td>\n",
       "      <td>2014</td>\n",
       "      <td>2</td>\n",
       "      <td>2</td>\n",
       "      <td>1</td>\n",
       "      <td>0</td>\n",
       "      <td>0.0</td>\n",
       "      <td>0</td>\n",
       "      <td>2</td>\n",
       "      <td>12333.0</td>\n",
       "      <td>1001</td>\n",
       "      <td>1</td>\n",
       "      <td>1</td>\n",
       "      <td>0</td>\n",
       "      <td>0</td>\n",
       "      <td>0</td>\n",
       "      <td>0</td>\n",
       "      <td>0</td>\n",
       "      <td>0</td>\n",
       "      <td>1</td>\n",
       "      <td>0</td>\n",
       "    </tr>\n",
       "    <tr>\n",
       "      <th>1</th>\n",
       "      <td>7</td>\n",
       "      <td>29</td>\n",
       "      <td>18</td>\n",
       "      <td>110.0</td>\n",
       "      <td>60563</td>\n",
       "      <td>684</td>\n",
       "      <td>5.0</td>\n",
       "      <td>2017</td>\n",
       "      <td>1</td>\n",
       "      <td>0</td>\n",
       "      <td>1</td>\n",
       "      <td>0</td>\n",
       "      <td>0.0</td>\n",
       "      <td>0</td>\n",
       "      <td>2</td>\n",
       "      <td>20188.0</td>\n",
       "      <td>2609</td>\n",
       "      <td>1</td>\n",
       "      <td>1</td>\n",
       "      <td>0</td>\n",
       "      <td>0</td>\n",
       "      <td>0</td>\n",
       "      <td>0</td>\n",
       "      <td>0</td>\n",
       "      <td>0</td>\n",
       "      <td>1</td>\n",
       "      <td>0</td>\n",
       "    </tr>\n",
       "    <tr>\n",
       "      <th>2</th>\n",
       "      <td>7</td>\n",
       "      <td>29</td>\n",
       "      <td>15</td>\n",
       "      <td>152.0</td>\n",
       "      <td>88000</td>\n",
       "      <td>919</td>\n",
       "      <td>5.0</td>\n",
       "      <td>2014</td>\n",
       "      <td>2</td>\n",
       "      <td>0</td>\n",
       "      <td>1</td>\n",
       "      <td>0</td>\n",
       "      <td>0.0</td>\n",
       "      <td>0</td>\n",
       "      <td>3</td>\n",
       "      <td>14667.0</td>\n",
       "      <td>1001</td>\n",
       "      <td>1</td>\n",
       "      <td>1</td>\n",
       "      <td>0</td>\n",
       "      <td>0</td>\n",
       "      <td>0</td>\n",
       "      <td>0</td>\n",
       "      <td>0</td>\n",
       "      <td>0</td>\n",
       "      <td>1</td>\n",
       "      <td>0</td>\n",
       "    </tr>\n",
       "    <tr>\n",
       "      <th>3</th>\n",
       "      <td>7</td>\n",
       "      <td>29</td>\n",
       "      <td>9</td>\n",
       "      <td>110.0</td>\n",
       "      <td>95000</td>\n",
       "      <td>684</td>\n",
       "      <td>5.0</td>\n",
       "      <td>2014</td>\n",
       "      <td>0</td>\n",
       "      <td>0</td>\n",
       "      <td>1</td>\n",
       "      <td>0</td>\n",
       "      <td>0.0</td>\n",
       "      <td>0</td>\n",
       "      <td>2</td>\n",
       "      <td>15833.0</td>\n",
       "      <td>1676</td>\n",
       "      <td>1</td>\n",
       "      <td>1</td>\n",
       "      <td>0</td>\n",
       "      <td>0</td>\n",
       "      <td>0</td>\n",
       "      <td>0</td>\n",
       "      <td>0</td>\n",
       "      <td>0</td>\n",
       "      <td>1</td>\n",
       "      <td>0</td>\n",
       "    </tr>\n",
       "    <tr>\n",
       "      <th>4</th>\n",
       "      <td>7</td>\n",
       "      <td>29</td>\n",
       "      <td>1</td>\n",
       "      <td>152.0</td>\n",
       "      <td>58536</td>\n",
       "      <td>684</td>\n",
       "      <td>5.0</td>\n",
       "      <td>2012</td>\n",
       "      <td>0</td>\n",
       "      <td>0</td>\n",
       "      <td>1</td>\n",
       "      <td>0</td>\n",
       "      <td>0.0</td>\n",
       "      <td>0</td>\n",
       "      <td>3</td>\n",
       "      <td>7317.0</td>\n",
       "      <td>2365</td>\n",
       "      <td>1</td>\n",
       "      <td>1</td>\n",
       "      <td>0</td>\n",
       "      <td>0</td>\n",
       "      <td>0</td>\n",
       "      <td>0</td>\n",
       "      <td>0</td>\n",
       "      <td>0</td>\n",
       "      <td>1</td>\n",
       "      <td>0</td>\n",
       "    </tr>\n",
       "  </tbody>\n",
       "</table>\n",
       "</div>"
      ],
      "text/plain": [
       "   body_type  brand  color  engine_power  mileage  model_name  \\\n",
       "0          7     29     16         105.0    74000         684   \n",
       "1          7     29     18         110.0    60563         684   \n",
       "2          7     29     15         152.0    88000         919   \n",
       "3          7     29      9         110.0    95000         684   \n",
       "4          7     29      1         152.0    58536         684   \n",
       "\n",
       "   number_of_doors  production_date  vehicle_transmission  owners  licence  \\\n",
       "0              5.0             2014                     2       2        1   \n",
       "1              5.0             2017                     1       0        1   \n",
       "2              5.0             2014                     2       0        1   \n",
       "3              5.0             2014                     0       0        1   \n",
       "4              5.0             2012                     0       0        1   \n",
       "\n",
       "   wheel  price  sample  tax_group  year_mileage  len_description  dealer  \\\n",
       "0      0    0.0       0          2       12333.0             1001       1   \n",
       "1      0    0.0       0          2       20188.0             2609       1   \n",
       "2      0    0.0       0          3       14667.0             1001       1   \n",
       "3      0    0.0       0          2       15833.0             1676       1   \n",
       "4      0    0.0       0          3        7317.0             2365       1   \n",
       "\n",
       "   fuel_type_бензин  fuel_type_газ  fuel_type_гибрид  fuel_type_дизель  \\\n",
       "0                 1              0                 0                 0   \n",
       "1                 1              0                 0                 0   \n",
       "2                 1              0                 0                 0   \n",
       "3                 1              0                 0                 0   \n",
       "4                 1              0                 0                 0   \n",
       "\n",
       "   fuel_type_универсал  fuel_type_электро  type_of_drive_задний  \\\n",
       "0                    0                  0                     0   \n",
       "1                    0                  0                     0   \n",
       "2                    0                  0                     0   \n",
       "3                    0                  0                     0   \n",
       "4                    0                  0                     0   \n",
       "\n",
       "   type_of_drive_передний  type_of_drive_полный  \n",
       "0                       1                     0  \n",
       "1                       1                     0  \n",
       "2                       1                     0  \n",
       "3                       1                     0  \n",
       "4                       1                     0  "
      ]
     },
     "execution_count": 52,
     "metadata": {},
     "output_type": "execute_result"
    }
   ],
   "source": [
    "df_new.head()"
   ]
  },
  {
   "cell_type": "markdown",
   "metadata": {
    "papermill": {
     "duration": 0.095512,
     "end_time": "2021-12-15T18:59:32.128318",
     "exception": false,
     "start_time": "2021-12-15T18:59:32.032806",
     "status": "completed"
    },
    "tags": []
   },
   "source": [
    "Итак, датасет для обучения моделей готов. Он включает в себя следующие **признаки**:\n",
    "\n",
    "- price - цена автомобиля (целевая переменная)\n",
    "\n",
    "- body_type - тип кузова\n",
    "- brand - марка автомобиля\n",
    "- color - цвет автомобиля\n",
    "- engine_power - мощность двигателя\n",
    "- mileage - пробег\n",
    "- model_name - модель автомобиля\n",
    "- number_of_doors - количество дверей\n",
    "- production_date - дата производства автомобиля\n",
    "- vehicle_transmission - конфигурация трансмиссии транспортного средства\n",
    "- owners - количество владельцев\n",
    "- licence - паспорт ТС (оригинал или дубликат)\n",
    "- wheel - расположение руля\n",
    "- sample - индикатор принадлежности данных (test 0,train 1)\n",
    "- tax_group - группа налогообложения в соответствии с Налоговым кодексом РФ\n",
    "- year_mileage - средний пробег автомобиля в год (пробег, разделенный на количество лет эксплуатации)\n",
    "- len_description - количество символов в описании автомобиля\n",
    "- fuel_type - тип топлива\n",
    "- type_of_drive - тип привода"
   ]
  },
  {
   "cell_type": "markdown",
   "metadata": {
    "papermill": {
     "duration": 0.097692,
     "end_time": "2021-12-15T18:59:32.320828",
     "exception": false,
     "start_time": "2021-12-15T18:59:32.223136",
     "status": "completed"
    },
    "tags": []
   },
   "source": [
    "# Machine learning"
   ]
  },
  {
   "cell_type": "code",
   "execution_count": 53,
   "metadata": {
    "execution": {
     "iopub.execute_input": "2021-12-15T18:59:32.517949Z",
     "iopub.status.busy": "2021-12-15T18:59:32.516890Z",
     "iopub.status.idle": "2021-12-15T18:59:32.689027Z",
     "shell.execute_reply": "2021-12-15T18:59:32.688339Z"
    },
    "papermill": {
     "duration": 0.273337,
     "end_time": "2021-12-15T18:59:32.689161",
     "exception": false,
     "start_time": "2021-12-15T18:59:32.415824",
     "status": "completed"
    },
    "tags": []
   },
   "outputs": [],
   "source": [
    "X = df_new.query('sample == 1').drop(['sample','price'], axis=1)\n",
    "X_sub = df_new.query('sample == 0').drop(['sample','price'], axis=1)\n",
    "\n",
    "y = df_new.query('sample == 1').price"
   ]
  },
  {
   "cell_type": "markdown",
   "metadata": {
    "papermill": {
     "duration": 0.095228,
     "end_time": "2021-12-15T18:59:32.880782",
     "exception": false,
     "start_time": "2021-12-15T18:59:32.785554",
     "status": "completed"
    },
    "tags": []
   },
   "source": [
    "## Train Split"
   ]
  },
  {
   "cell_type": "code",
   "execution_count": 54,
   "metadata": {
    "execution": {
     "iopub.execute_input": "2021-12-15T18:59:33.086605Z",
     "iopub.status.busy": "2021-12-15T18:59:33.085803Z",
     "iopub.status.idle": "2021-12-15T18:59:33.102217Z",
     "shell.execute_reply": "2021-12-15T18:59:33.101292Z"
    },
    "papermill": {
     "duration": 0.125164,
     "end_time": "2021-12-15T18:59:33.102357",
     "exception": false,
     "start_time": "2021-12-15T18:59:32.977193",
     "status": "completed"
    },
    "tags": []
   },
   "outputs": [],
   "source": [
    "X_train, X_test, y_train, y_test = train_test_split(X, y, test_size=VAL_SIZE, shuffle=True, random_state=RANDOM_SEED)"
   ]
  },
  {
   "cell_type": "markdown",
   "metadata": {
    "papermill": {
     "duration": 0.104465,
     "end_time": "2021-12-15T18:59:33.310049",
     "exception": false,
     "start_time": "2021-12-15T18:59:33.205584",
     "status": "completed"
    },
    "tags": []
   },
   "source": [
    "# Model 1: \"Наивная\" модель \n",
    "Эта модель будет предсказывать среднюю цену по модели двигателя (mileage). \n",
    "C ней будем сравнивать другие модели.\n",
    "\n",
    "\n"
   ]
  },
  {
   "cell_type": "code",
   "execution_count": 55,
   "metadata": {
    "execution": {
     "iopub.execute_input": "2021-12-15T18:59:33.512023Z",
     "iopub.status.busy": "2021-12-15T18:59:33.510841Z",
     "iopub.status.idle": "2021-12-15T18:59:33.528349Z",
     "shell.execute_reply": "2021-12-15T18:59:33.528895Z"
    },
    "papermill": {
     "duration": 0.121476,
     "end_time": "2021-12-15T18:59:33.529077",
     "exception": false,
     "start_time": "2021-12-15T18:59:33.407601",
     "status": "completed"
    },
    "tags": []
   },
   "outputs": [
    {
     "name": "stdout",
     "output_type": "stream",
     "text": [
      "Точность наивной модели по метрике MAPE: 73.45%\n"
     ]
    }
   ],
   "source": [
    "tmp_train = X_train.copy()\n",
    "tmp_train['price'] = y_train\n",
    "\n",
    "predict = X_test['mileage'].map(tmp_train.groupby('mileage')['price'].median())\n",
    "\n",
    "print(f\"Точность наивной модели по метрике MAPE: {(mape(y_test, predict.values))*100:0.2f}%\")"
   ]
  },
  {
   "cell_type": "markdown",
   "metadata": {
    "papermill": {
     "duration": 0.095539,
     "end_time": "2021-12-15T18:59:33.722357",
     "exception": false,
     "start_time": "2021-12-15T18:59:33.626818",
     "status": "completed"
    },
    "tags": []
   },
   "source": [
    "# Model 2 : CatBoost\n",
    "![](https://pbs.twimg.com/media/DP-jUCyXcAArRTo.png:large)   \n",
    "\n",
    "\n",
    "У нас в данных практически все признаки категориальные. Специально для работы с такими данными была создана очень удобная библиотека CatBoost от Яндекса. [https://catboost.ai](http://)     \n",
    "На данный момент **CatBoost является одной из лучших библиотек для табличных данных!**\n",
    "\n",
    "#### Полезные видео о CatBoost (на русском):\n",
    "* [Доклад про CatBoost](https://youtu.be/9ZrfErvm97M)\n",
    "* [Свежий Туториал от команды CatBoost (практическая часть)](https://youtu.be/wQt4kgAOgV0) "
   ]
  },
  {
   "cell_type": "markdown",
   "metadata": {
    "papermill": {
     "duration": 0.095319,
     "end_time": "2021-12-15T18:59:33.914074",
     "exception": false,
     "start_time": "2021-12-15T18:59:33.818755",
     "status": "completed"
    },
    "tags": []
   },
   "source": [
    "## Log Traget"
   ]
  },
  {
   "cell_type": "code",
   "execution_count": 56,
   "metadata": {
    "execution": {
     "iopub.execute_input": "2021-12-15T18:59:34.112482Z",
     "iopub.status.busy": "2021-12-15T18:59:34.111751Z",
     "iopub.status.idle": "2021-12-15T18:59:34.114652Z",
     "shell.execute_reply": "2021-12-15T18:59:34.115195Z"
    },
    "papermill": {
     "duration": 0.105366,
     "end_time": "2021-12-15T18:59:34.115347",
     "exception": false,
     "start_time": "2021-12-15T18:59:34.009981",
     "status": "completed"
    },
    "tags": []
   },
   "outputs": [],
   "source": [
    "#start_time = time.time()\n",
    "# CatBoostLog = CatBoostRegressor(iterations=5000,\n",
    "#                             random_seed=RANDOM_SEED,\n",
    "#                             eval_metric='MAPE',\n",
    "#                             custom_metric=['R2', 'MAE'],\n",
    "#                             silent=True,\n",
    "#                             )\n",
    "#skf = StratifiedKFold(n_splits=4, random_state=RANDOM_SEED)\n",
    "#cat_boost_mape_values = []\n",
    "\n",
    "# for train_index, test_index in skf.split(X, y):\n",
    "#    print(\"TRAIN:\", train_index, \"TEST:\", test_index)\n",
    "#    X_train, X_test = X[X.index.isin(train_index)], X[X.index.isin(test_index)]\n",
    "#    y_train, y_test = y[y.index.isin(train_index)], y[y.index.isin(test_index)]\n",
    "\n",
    "#    CatBoostLog.fit(X_train, np.log(y_train),\n",
    "#                  eval_set=(X_test, np.log(y_test)),\n",
    "#                  verbose_eval=0,\n",
    "#                  use_best_model=True)\n",
    "\n",
    "#    y_pred = np.exp(CatBoostLog.predict(X_test))\n",
    "\n",
    "#    cat_boost_mape_value = mape(y_test, y_pred)\n",
    "#    cat_boost_mape_values.append(cat_boost_mape_value)\n",
    "#    print(cat_boost_mape_value)\n",
    "\n",
    "#score = round(np.mean(cat_boost_mape_values) * 100,2)\n",
    "# print(\n",
    "#    f\"The MAPE mertic for the default CatBoost model using 4-fold CV is: {score}%.\")\n",
    "\n",
    "##program_time = time.time() - start_time\n",
    "#output_submission(CatBoostLog, 'CatBoostLog_fold',score,program_time)"
   ]
  },
  {
   "cell_type": "code",
   "execution_count": 57,
   "metadata": {
    "execution": {
     "iopub.execute_input": "2021-12-15T18:59:34.313303Z",
     "iopub.status.busy": "2021-12-15T18:59:34.312600Z",
     "iopub.status.idle": "2021-12-15T18:59:34.316601Z",
     "shell.execute_reply": "2021-12-15T18:59:34.317174Z"
    },
    "papermill": {
     "duration": 0.104966,
     "end_time": "2021-12-15T18:59:34.317326",
     "exception": false,
     "start_time": "2021-12-15T18:59:34.212360",
     "status": "completed"
    },
    "tags": []
   },
   "outputs": [],
   "source": [
    "#start_time = time.time()\n",
    "#CatBoost = CatBoostRegressor(iterations=5000,\n",
    "#                             random_seed=RANDOM_SEED,\n",
    "#                             eval_metric='MAPE',\n",
    "#                             custom_metric=['R2', 'MAE'],\n",
    "#                             silent=True,\n",
    "#                             )\n",
    "\n",
    "#CatBoost.fit(X_train, np.log(y_train),\n",
    "#             eval_set=(X_test, np.log(y_test)),\n",
    "#             verbose_eval=0,\n",
    "#             use_best_model=True,)\n",
    "#y_pred = np.exp(CatBoost.predict(X_test))\n",
    "#score = round((mape(y_test, y_pred)) * 100, 2)\n",
    "#print(\n",
    "#    f\"The MAPE mertic for the default CatBoost model is: {score}%.\")\n",
    "\n",
    "#program_time = time.time() - start_time\n",
    "#output_submission(CatBoost, 'CatBoost_log', score,program_time)"
   ]
  },
  {
   "cell_type": "markdown",
   "metadata": {
    "papermill": {
     "duration": 0.098755,
     "end_time": "2021-12-15T18:59:34.517797",
     "exception": false,
     "start_time": "2021-12-15T18:59:34.419042",
     "status": "completed"
    },
    "tags": []
   },
   "source": [
    "### The MAPE mertic for the CatBoost_log model is: 12.57% with time 55.35583806037903. And on the leaderboard is: 13.42582%"
   ]
  },
  {
   "cell_type": "markdown",
   "metadata": {
    "papermill": {
     "duration": 0.100179,
     "end_time": "2021-12-15T18:59:34.718932",
     "exception": false,
     "start_time": "2021-12-15T18:59:34.618753",
     "status": "completed"
    },
    "tags": []
   },
   "source": [
    "# Model 3 : ExtraTreesRegressor\n"
   ]
  },
  {
   "cell_type": "code",
   "execution_count": 58,
   "metadata": {
    "execution": {
     "iopub.execute_input": "2021-12-15T18:59:34.917196Z",
     "iopub.status.busy": "2021-12-15T18:59:34.916522Z",
     "iopub.status.idle": "2021-12-15T18:59:34.920554Z",
     "shell.execute_reply": "2021-12-15T18:59:34.921129Z"
    },
    "papermill": {
     "duration": 0.106094,
     "end_time": "2021-12-15T18:59:34.921294",
     "exception": false,
     "start_time": "2021-12-15T18:59:34.815200",
     "status": "completed"
    },
    "tags": []
   },
   "outputs": [],
   "source": [
    "#start_time = time.time()\n",
    "#etr_log = ExtraTreesRegressor(random_state=RANDOM_SEED, n_jobs=-1, verbose=1)\n",
    "\n",
    "#skf = StratifiedKFold(n_splits=4, random_state=RANDOM_SEED)\n",
    "#etr_log_mape_values = []\n",
    "\n",
    "#for train_index, test_index in skf.split(X, y):\n",
    "#    print(\"TRAIN:\", train_index, \"TEST:\", test_index)\n",
    "#    X_train, X_test = X[X.index.isin(train_index)], X[X.index.isin(test_index)]\n",
    "#    y_train, y_test = y[y.index.isin(train_index)], y[y.index.isin(test_index)]\n",
    "\n",
    "#    etr_log.fit(X_train, np.log(y_train))\n",
    "\n",
    "#    y_pred = np.exp(etr_log.predict(X_test))\n",
    "\n",
    "#    etr_log_mape_value = mape(y_test, y_pred)\n",
    "#    etr_log_mape_values.append(etr_log_mape_value)\n",
    "#    print(etr_log_mape_value)\n",
    "\n",
    "#score = round(np.mean(etr_log_mape_values) * 100, 2)\n",
    "#print(\n",
    "#    f\"The MAPE mertic for the default ExtraTreesRegressor model using 4-fold CV is: {score}%.\")\n",
    "\n",
    "#program_time = time.time() - start_time\n",
    "#output_submission(etr_log, 'ExtraTreesRegressor_fold', score, program_time)"
   ]
  },
  {
   "cell_type": "code",
   "execution_count": 59,
   "metadata": {
    "execution": {
     "iopub.execute_input": "2021-12-15T18:59:35.119496Z",
     "iopub.status.busy": "2021-12-15T18:59:35.118826Z",
     "iopub.status.idle": "2021-12-15T18:59:48.893191Z",
     "shell.execute_reply": "2021-12-15T18:59:48.892586Z"
    },
    "papermill": {
     "duration": 13.873482,
     "end_time": "2021-12-15T18:59:48.893340",
     "exception": false,
     "start_time": "2021-12-15T18:59:35.019858",
     "status": "completed"
    },
    "tags": []
   },
   "outputs": [
    {
     "name": "stderr",
     "output_type": "stream",
     "text": [
      "[Parallel(n_jobs=-1)]: Using backend ThreadingBackend with 4 concurrent workers.\n",
      "[Parallel(n_jobs=-1)]: Done  42 tasks      | elapsed:    5.4s\n",
      "[Parallel(n_jobs=-1)]: Done 100 out of 100 | elapsed:   12.2s finished\n",
      "[Parallel(n_jobs=4)]: Using backend ThreadingBackend with 4 concurrent workers.\n",
      "[Parallel(n_jobs=4)]: Done  42 tasks      | elapsed:    0.2s\n",
      "[Parallel(n_jobs=4)]: Done 100 out of 100 | elapsed:    0.4s finished\n",
      "[Parallel(n_jobs=4)]: Using backend ThreadingBackend with 4 concurrent workers.\n"
     ]
    },
    {
     "name": "stdout",
     "output_type": "stream",
     "text": [
      "The MAPE mertic for the default ExtraTreesRegressor model is: 13.4%.\n"
     ]
    },
    {
     "name": "stderr",
     "output_type": "stream",
     "text": [
      "[Parallel(n_jobs=4)]: Done  42 tasks      | elapsed:    0.2s\n",
      "[Parallel(n_jobs=4)]: Done 100 out of 100 | elapsed:    0.5s finished\n"
     ]
    },
    {
     "name": "stdout",
     "output_type": "stream",
     "text": [
      "ExtraTreesRegressor - sample submission\n"
     ]
    },
    {
     "data": {
      "text/html": [
       "<div>\n",
       "<style scoped>\n",
       "    .dataframe tbody tr th:only-of-type {\n",
       "        vertical-align: middle;\n",
       "    }\n",
       "\n",
       "    .dataframe tbody tr th {\n",
       "        vertical-align: top;\n",
       "    }\n",
       "\n",
       "    .dataframe thead th {\n",
       "        text-align: right;\n",
       "    }\n",
       "</style>\n",
       "<table border=\"1\" class=\"dataframe\">\n",
       "  <thead>\n",
       "    <tr style=\"text-align: right;\">\n",
       "      <th></th>\n",
       "      <th>sell_id</th>\n",
       "      <th>price</th>\n",
       "    </tr>\n",
       "  </thead>\n",
       "  <tbody>\n",
       "    <tr>\n",
       "      <th>0</th>\n",
       "      <td>1100575026</td>\n",
       "      <td>5.490000e+05</td>\n",
       "    </tr>\n",
       "    <tr>\n",
       "      <th>1</th>\n",
       "      <td>1100549428</td>\n",
       "      <td>8.974776e+05</td>\n",
       "    </tr>\n",
       "    <tr>\n",
       "      <th>2</th>\n",
       "      <td>1100658222</td>\n",
       "      <td>8.518455e+05</td>\n",
       "    </tr>\n",
       "    <tr>\n",
       "      <th>3</th>\n",
       "      <td>1100937408</td>\n",
       "      <td>6.275791e+05</td>\n",
       "    </tr>\n",
       "    <tr>\n",
       "      <th>4</th>\n",
       "      <td>1101037972</td>\n",
       "      <td>7.051990e+05</td>\n",
       "    </tr>\n",
       "    <tr>\n",
       "      <th>5</th>\n",
       "      <td>1100912634</td>\n",
       "      <td>7.575371e+05</td>\n",
       "    </tr>\n",
       "    <tr>\n",
       "      <th>6</th>\n",
       "      <td>1101228730</td>\n",
       "      <td>5.852986e+05</td>\n",
       "    </tr>\n",
       "    <tr>\n",
       "      <th>7</th>\n",
       "      <td>1100165896</td>\n",
       "      <td>3.650000e+05</td>\n",
       "    </tr>\n",
       "    <tr>\n",
       "      <th>8</th>\n",
       "      <td>1100768262</td>\n",
       "      <td>1.536352e+06</td>\n",
       "    </tr>\n",
       "    <tr>\n",
       "      <th>9</th>\n",
       "      <td>1101218501</td>\n",
       "      <td>9.622560e+05</td>\n",
       "    </tr>\n",
       "  </tbody>\n",
       "</table>\n",
       "</div>"
      ],
      "text/plain": [
       "      sell_id         price\n",
       "0  1100575026  5.490000e+05\n",
       "1  1100549428  8.974776e+05\n",
       "2  1100658222  8.518455e+05\n",
       "3  1100937408  6.275791e+05\n",
       "4  1101037972  7.051990e+05\n",
       "5  1100912634  7.575371e+05\n",
       "6  1101228730  5.852986e+05\n",
       "7  1100165896  3.650000e+05\n",
       "8  1100768262  1.536352e+06\n",
       "9  1101218501  9.622560e+05"
      ]
     },
     "metadata": {},
     "output_type": "display_data"
    }
   ],
   "source": [
    "start_time = time.time()\n",
    "etr_log = ExtraTreesRegressor(random_state=RANDOM_SEED, n_jobs=-1, verbose=1)\n",
    "\n",
    "etr_log.fit(X_train, np.log(y_train))\n",
    "\n",
    "y_pred = np.exp(etr_log.predict(X_test))\n",
    "score = round(mape(y_test,y_pred) * 100,2) \n",
    "\n",
    "print(f\"The MAPE mertic for the default ExtraTreesRegressor model is: {score}%.\")\n",
    "\n",
    "program_time = time.time() - start_time\n",
    "output_submission(etr_log, 'ExtraTreesRegressor',score,program_time)"
   ]
  },
  {
   "cell_type": "markdown",
   "metadata": {
    "papermill": {
     "duration": 0.112765,
     "end_time": "2021-12-15T18:59:49.119951",
     "exception": false,
     "start_time": "2021-12-15T18:59:49.007186",
     "status": "completed"
    },
    "tags": []
   },
   "source": [
    "### The MAPE mertic for the ExtraTreesRegressor model is: 13.4% with time 13.048412561416626. And on the leaderboard is: 11.57359%"
   ]
  },
  {
   "cell_type": "markdown",
   "metadata": {
    "papermill": {
     "duration": 0.115003,
     "end_time": "2021-12-15T18:59:49.344921",
     "exception": false,
     "start_time": "2021-12-15T18:59:49.229918",
     "status": "completed"
    },
    "tags": []
   },
   "source": [
    "# Model 4 : XGBoostRegressor"
   ]
  },
  {
   "cell_type": "code",
   "execution_count": 60,
   "metadata": {
    "execution": {
     "iopub.execute_input": "2021-12-15T18:59:49.568331Z",
     "iopub.status.busy": "2021-12-15T18:59:49.567595Z",
     "iopub.status.idle": "2021-12-15T18:59:49.573392Z",
     "shell.execute_reply": "2021-12-15T18:59:49.574140Z"
    },
    "papermill": {
     "duration": 0.118747,
     "end_time": "2021-12-15T18:59:49.574376",
     "exception": false,
     "start_time": "2021-12-15T18:59:49.455629",
     "status": "completed"
    },
    "tags": []
   },
   "outputs": [],
   "source": [
    "#start_time = time.time()\n",
    "# xgb_log = xgb.XGBRegressor(\n",
    "#    objective='reg:squarederror',\n",
    "#    colsample_bytree=0.5,\n",
    "#    learning_rate=0.05,\n",
    "#    max_depth=12,\n",
    "#    alpha=1,\n",
    "#    n_estimators=1000,\n",
    "#    random_state=RANDOM_SEED,\n",
    "#    n_jobs=-1,\n",
    "# )\n",
    "\n",
    "#skf = StratifiedKFold(n_splits=4, random_state=RANDOM_SEED)\n",
    "#xgb_log_mape_values = []\n",
    "\n",
    "# for train_index, test_index in skf.split(X, y):\n",
    "#    print(\"TRAIN:\", train_index, \"TEST:\", test_index)\n",
    "#    X_train, X_test = X[X.index.isin(\n",
    "#        train_index)], X[X.index.isin(test_index)]\n",
    "#    y_train, y_test = y[y.index.isin(\n",
    "#        train_index)], y[y.index.isin(test_index)]\n",
    "\n",
    "#    xgb_log.fit(X_train, np.log(y_train))\n",
    "\n",
    "#    y_pred = np.exp(xgb_log.predict(X_test))\n",
    "\n",
    "#    xgb_log_mape_value = mape(y_test, y_pred)\n",
    "#    xgb_log_mape_values.append(xgb_log_mape_value)\n",
    "#    print(xgb_log_mape_value)\n",
    "\n",
    "#score = round(np.mean(xgb_log_mape_values) * 100,2)\n",
    "# print(\n",
    "#    f\"The MAPE mertic for the XGBRegressor model using 4-fold CV is: {score}%.\")\n",
    "\n",
    "#program_time = time.time() - start_time\n",
    "#output_submission(xgb_log, 'XGBRegressor_fold',score,program_time)"
   ]
  },
  {
   "cell_type": "code",
   "execution_count": 61,
   "metadata": {
    "execution": {
     "iopub.execute_input": "2021-12-15T18:59:49.801658Z",
     "iopub.status.busy": "2021-12-15T18:59:49.799988Z",
     "iopub.status.idle": "2021-12-15T18:59:49.804906Z",
     "shell.execute_reply": "2021-12-15T18:59:49.805640Z"
    },
    "papermill": {
     "duration": 0.121557,
     "end_time": "2021-12-15T18:59:49.805825",
     "exception": false,
     "start_time": "2021-12-15T18:59:49.684268",
     "status": "completed"
    },
    "tags": []
   },
   "outputs": [],
   "source": [
    "#start_time = time.time()\n",
    "#xgb_log = xgb.XGBRegressor(\n",
    "#    objective='reg:squarederror',\n",
    "#    colsample_bytree=0.5,\n",
    "#    learning_rate=0.05,\n",
    "#    max_depth=12,\n",
    "#    alpha=1,\n",
    "#    n_estimators=1000,\n",
    "#    random_state=RANDOM_SEED,\n",
    "#    n_jobs=-1,\n",
    "#)\n",
    "\n",
    "#xgb_log.fit(X_train, np.log(y_train))\n",
    "\n",
    "#y_pred = np.exp(xgb_log.predict(X_test))\n",
    "#score = round(mape(y_test, y_pred) * 100, 2)\n",
    "#print(\n",
    "#    f\"The MAPE mertic for the XGBRegressor model is: {score}%.\")\n",
    "\n",
    "#program_time = time.time() - start_time\n",
    "#output_submission(xgb_log, 'XGBRegressor', score, program_time)"
   ]
  },
  {
   "cell_type": "markdown",
   "metadata": {
    "papermill": {
     "duration": 0.104943,
     "end_time": "2021-12-15T18:59:50.023935",
     "exception": false,
     "start_time": "2021-12-15T18:59:49.918992",
     "status": "completed"
    },
    "tags": []
   },
   "source": [
    "### The MAPE mertic for the XGBRegressor model is: 12.05% with time 146.7485637664795. And on the leaderboard is: 11.71639%"
   ]
  },
  {
   "cell_type": "markdown",
   "metadata": {
    "papermill": {
     "duration": 0.111417,
     "end_time": "2021-12-15T18:59:50.250742",
     "exception": false,
     "start_time": "2021-12-15T18:59:50.139325",
     "status": "completed"
    },
    "tags": []
   },
   "source": [
    "# Model 5 : RandomForestRegressor"
   ]
  },
  {
   "cell_type": "code",
   "execution_count": 62,
   "metadata": {
    "execution": {
     "iopub.execute_input": "2021-12-15T18:59:50.473718Z",
     "iopub.status.busy": "2021-12-15T18:59:50.472998Z",
     "iopub.status.idle": "2021-12-15T18:59:50.477131Z",
     "shell.execute_reply": "2021-12-15T18:59:50.477710Z"
    },
    "papermill": {
     "duration": 0.114369,
     "end_time": "2021-12-15T18:59:50.477919",
     "exception": false,
     "start_time": "2021-12-15T18:59:50.363550",
     "status": "completed"
    },
    "tags": []
   },
   "outputs": [],
   "source": [
    "#start_time = time.time()\n",
    "\n",
    "#RFR = RandomForestRegressor(random_state=RANDOM_SEED, max_features=10,\n",
    "#                            n_estimators=400, max_depth=18,\n",
    "#                            min_samples_split=7)\n",
    "#RFR.fit(X_train, np.log(y_train))\n",
    "#y_pred = np.exp(RFR.predict(X_test))\n",
    "#score = round(mape(y_test, y_pred) * 100, 2)\n",
    "\n",
    "#print(f\"The MAPE mertic for the Random Forest model is : {score}%.\")\n",
    "\n",
    "#program_time = time.time() - start_time\n",
    "#output_submission(RFR, 'RandomForestRegressor', score, program_time)"
   ]
  },
  {
   "cell_type": "markdown",
   "metadata": {
    "papermill": {
     "duration": 0.10455,
     "end_time": "2021-12-15T18:59:50.695036",
     "exception": false,
     "start_time": "2021-12-15T18:59:50.590486",
     "status": "completed"
    },
    "tags": []
   },
   "source": [
    "### The MAPE mertic for the RandomForestRegressor model is: 13.07% with time 82.76050209999084. And on the leaderboard is: 13.65385%"
   ]
  },
  {
   "cell_type": "markdown",
   "metadata": {
    "papermill": {
     "duration": 0.11009,
     "end_time": "2021-12-15T18:59:50.912830",
     "exception": false,
     "start_time": "2021-12-15T18:59:50.802740",
     "status": "completed"
    },
    "tags": []
   },
   "source": [
    "# Model 6 : StackingRegressor"
   ]
  },
  {
   "cell_type": "code",
   "execution_count": 63,
   "metadata": {
    "execution": {
     "iopub.execute_input": "2021-12-15T18:59:51.129279Z",
     "iopub.status.busy": "2021-12-15T18:59:51.128413Z",
     "iopub.status.idle": "2021-12-15T18:59:51.133396Z",
     "shell.execute_reply": "2021-12-15T18:59:51.134017Z"
    },
    "papermill": {
     "duration": 0.113522,
     "end_time": "2021-12-15T18:59:51.134190",
     "exception": false,
     "start_time": "2021-12-15T18:59:51.020668",
     "status": "completed"
    },
    "tags": []
   },
   "outputs": [],
   "source": [
    "#start_time = time.time()\n",
    "#estimators = [\n",
    "#    ('etr', ExtraTreesRegressor(random_state=RANDOM_SEED, n_jobs=-1, verbose=1)),\n",
    "#    ('xgb', xgb.XGBRegressor(objective='reg:squarederror', colsample_bytree=0.5, learning_rate=0.05,\n",
    "#                             max_depth=12, alpha=1, n_jobs=-1, n_estimators=1000, random_state=RANDOM_SEED))\n",
    "#]\n",
    "\n",
    "#sr_log = StackingRegressor(\n",
    "#    estimators=estimators,\n",
    "#    final_estimator=LinearRegression()\n",
    "#)\n",
    "\n",
    "#sr_log.fit(X_train, np.log(y_train))\n",
    "#y_pred = np.exp(sr_log.predict(X_test))\n",
    "#score = round(mape(y_test, y_pred) * 100, 2)\n",
    "\n",
    "#print(\n",
    "#    f\"The MAPE mertic for the default StackingRegressor model: {score}%.\")\n",
    "\n",
    "#program_time = time.time() - start_time\n",
    "#output_submission(sr_log, 'StackingRegressor', score, program_time)"
   ]
  },
  {
   "cell_type": "markdown",
   "metadata": {
    "papermill": {
     "duration": 0.107507,
     "end_time": "2021-12-15T18:59:51.346717",
     "exception": false,
     "start_time": "2021-12-15T18:59:51.239210",
     "status": "completed"
    },
    "tags": []
   },
   "source": [
    "### The MAPE mertic for the StackingRegressor model is: 12.7% with time 358.9000823497772"
   ]
  },
  {
   "cell_type": "markdown",
   "metadata": {
    "papermill": {
     "duration": 0.104548,
     "end_time": "2021-12-15T18:59:51.556437",
     "exception": false,
     "start_time": "2021-12-15T18:59:51.451889",
     "status": "completed"
    },
    "tags": []
   },
   "source": [
    "# Model 7 : Bagging"
   ]
  },
  {
   "cell_type": "code",
   "execution_count": 64,
   "metadata": {
    "execution": {
     "iopub.execute_input": "2021-12-15T18:59:51.761946Z",
     "iopub.status.busy": "2021-12-15T18:59:51.761298Z",
     "iopub.status.idle": "2021-12-15T19:03:03.414095Z",
     "shell.execute_reply": "2021-12-15T19:03:03.413410Z"
    },
    "papermill": {
     "duration": 191.757295,
     "end_time": "2021-12-15T19:03:03.414242",
     "exception": false,
     "start_time": "2021-12-15T18:59:51.656947",
     "status": "completed"
    },
    "tags": []
   },
   "outputs": [
    {
     "name": "stderr",
     "output_type": "stream",
     "text": [
      "[Parallel(n_jobs=-1)]: Using backend LokyBackend with 4 concurrent workers.\n",
      "[Parallel(n_jobs=-1)]: Done  42 tasks      | elapsed:    5.3s\n",
      "[Parallel(n_jobs=-1)]: Done 100 out of 100 | elapsed:    9.5s finished\n",
      "[Parallel(n_jobs=-1)]: Using backend LokyBackend with 4 concurrent workers.\n",
      "[Parallel(n_jobs=-1)]: Done  42 tasks      | elapsed:    3.0s\n",
      "[Parallel(n_jobs=-1)]: Done 100 out of 100 | elapsed:    6.9s finished\n",
      "[Parallel(n_jobs=-1)]: Using backend LokyBackend with 4 concurrent workers.\n",
      "[Parallel(n_jobs=-1)]: Done  42 tasks      | elapsed:    3.1s\n",
      "[Parallel(n_jobs=-1)]: Done 100 out of 100 | elapsed:    6.9s finished\n",
      "[Parallel(n_jobs=-1)]: Using backend LokyBackend with 4 concurrent workers.\n",
      "[Parallel(n_jobs=-1)]: Done  42 tasks      | elapsed:    3.0s\n",
      "[Parallel(n_jobs=-1)]: Done 100 out of 100 | elapsed:    7.0s finished\n",
      "[Parallel(n_jobs=-1)]: Using backend LokyBackend with 4 concurrent workers.\n",
      "[Parallel(n_jobs=-1)]: Done  42 tasks      | elapsed:    3.1s\n",
      "[Parallel(n_jobs=-1)]: Done 100 out of 100 | elapsed:    7.3s finished\n",
      "[Parallel(n_jobs=-1)]: Using backend LokyBackend with 4 concurrent workers.\n",
      "[Parallel(n_jobs=-1)]: Done  42 tasks      | elapsed:    3.1s\n",
      "[Parallel(n_jobs=-1)]: Done 100 out of 100 | elapsed:    7.0s finished\n",
      "[Parallel(n_jobs=-1)]: Using backend LokyBackend with 4 concurrent workers.\n",
      "[Parallel(n_jobs=-1)]: Done  42 tasks      | elapsed:    3.0s\n",
      "[Parallel(n_jobs=-1)]: Done 100 out of 100 | elapsed:    7.0s finished\n",
      "[Parallel(n_jobs=-1)]: Using backend LokyBackend with 4 concurrent workers.\n",
      "[Parallel(n_jobs=-1)]: Done  42 tasks      | elapsed:    3.0s\n",
      "[Parallel(n_jobs=-1)]: Done 100 out of 100 | elapsed:    7.0s finished\n",
      "[Parallel(n_jobs=-1)]: Using backend LokyBackend with 4 concurrent workers.\n",
      "[Parallel(n_jobs=-1)]: Done  42 tasks      | elapsed:    3.1s\n",
      "[Parallel(n_jobs=-1)]: Done 100 out of 100 | elapsed:    7.0s finished\n",
      "[Parallel(n_jobs=-1)]: Using backend LokyBackend with 4 concurrent workers.\n",
      "[Parallel(n_jobs=-1)]: Done  42 tasks      | elapsed:    3.4s\n",
      "[Parallel(n_jobs=-1)]: Done 100 out of 100 | elapsed:    7.4s finished\n",
      "[Parallel(n_jobs=-1)]: Using backend LokyBackend with 4 concurrent workers.\n",
      "[Parallel(n_jobs=-1)]: Done  42 tasks      | elapsed:    3.0s\n",
      "[Parallel(n_jobs=-1)]: Done 100 out of 100 | elapsed:    6.9s finished\n",
      "[Parallel(n_jobs=-1)]: Using backend LokyBackend with 4 concurrent workers.\n",
      "[Parallel(n_jobs=-1)]: Done  42 tasks      | elapsed:    3.1s\n",
      "[Parallel(n_jobs=-1)]: Done 100 out of 100 | elapsed:    7.0s finished\n",
      "[Parallel(n_jobs=-1)]: Using backend LokyBackend with 4 concurrent workers.\n",
      "[Parallel(n_jobs=-1)]: Done  42 tasks      | elapsed:    3.1s\n",
      "[Parallel(n_jobs=-1)]: Done 100 out of 100 | elapsed:    6.9s finished\n",
      "[Parallel(n_jobs=-1)]: Using backend LokyBackend with 4 concurrent workers.\n",
      "[Parallel(n_jobs=-1)]: Done  42 tasks      | elapsed:    3.2s\n",
      "[Parallel(n_jobs=-1)]: Done 100 out of 100 | elapsed:    7.2s finished\n",
      "[Parallel(n_jobs=-1)]: Using backend LokyBackend with 4 concurrent workers.\n",
      "[Parallel(n_jobs=-1)]: Done  42 tasks      | elapsed:    3.3s\n",
      "[Parallel(n_jobs=-1)]: Done 100 out of 100 | elapsed:    7.2s finished\n",
      "[Parallel(n_jobs=-1)]: Using backend LokyBackend with 4 concurrent workers.\n",
      "[Parallel(n_jobs=-1)]: Done  42 tasks      | elapsed:    3.1s\n",
      "[Parallel(n_jobs=-1)]: Done 100 out of 100 | elapsed:    7.0s finished\n",
      "[Parallel(n_jobs=-1)]: Using backend LokyBackend with 4 concurrent workers.\n",
      "[Parallel(n_jobs=-1)]: Done  42 tasks      | elapsed:    3.0s\n",
      "[Parallel(n_jobs=-1)]: Done 100 out of 100 | elapsed:    6.8s finished\n",
      "[Parallel(n_jobs=-1)]: Using backend LokyBackend with 4 concurrent workers.\n",
      "[Parallel(n_jobs=-1)]: Done  42 tasks      | elapsed:    3.1s\n",
      "[Parallel(n_jobs=-1)]: Done 100 out of 100 | elapsed:    7.1s finished\n",
      "[Parallel(n_jobs=-1)]: Using backend LokyBackend with 4 concurrent workers.\n",
      "[Parallel(n_jobs=-1)]: Done  42 tasks      | elapsed:    3.1s\n",
      "[Parallel(n_jobs=-1)]: Done 100 out of 100 | elapsed:    7.2s finished\n",
      "[Parallel(n_jobs=-1)]: Using backend LokyBackend with 4 concurrent workers.\n",
      "[Parallel(n_jobs=-1)]: Done  42 tasks      | elapsed:    3.2s\n",
      "[Parallel(n_jobs=-1)]: Done 100 out of 100 | elapsed:    7.1s finished\n",
      "[Parallel(n_jobs=-1)]: Using backend LokyBackend with 4 concurrent workers.\n",
      "[Parallel(n_jobs=-1)]: Done  42 tasks      | elapsed:    3.1s\n",
      "[Parallel(n_jobs=-1)]: Done 100 out of 100 | elapsed:    7.1s finished\n",
      "[Parallel(n_jobs=-1)]: Using backend LokyBackend with 4 concurrent workers.\n",
      "[Parallel(n_jobs=-1)]: Done  42 tasks      | elapsed:    3.2s\n",
      "[Parallel(n_jobs=-1)]: Done 100 out of 100 | elapsed:    7.1s finished\n",
      "[Parallel(n_jobs=-1)]: Using backend LokyBackend with 4 concurrent workers.\n",
      "[Parallel(n_jobs=-1)]: Done  42 tasks      | elapsed:    3.2s\n",
      "[Parallel(n_jobs=-1)]: Done 100 out of 100 | elapsed:    7.3s finished\n",
      "[Parallel(n_jobs=-1)]: Using backend LokyBackend with 4 concurrent workers.\n",
      "[Parallel(n_jobs=-1)]: Done  42 tasks      | elapsed:    3.1s\n",
      "[Parallel(n_jobs=-1)]: Done 100 out of 100 | elapsed:    7.2s finished\n",
      "[Parallel(n_jobs=-1)]: Using backend LokyBackend with 4 concurrent workers.\n",
      "[Parallel(n_jobs=-1)]: Done  42 tasks      | elapsed:    3.1s\n",
      "[Parallel(n_jobs=-1)]: Done 100 out of 100 | elapsed:    7.0s finished\n",
      "[Parallel(n_jobs=4)]: Using backend ThreadingBackend with 4 concurrent workers.\n",
      "[Parallel(n_jobs=4)]: Done  42 tasks      | elapsed:    0.2s\n"
     ]
    },
    {
     "name": "stdout",
     "output_type": "stream",
     "text": [
      "The MAPE mertic for the BaggingRegressor model is: 13.4%.\n"
     ]
    },
    {
     "name": "stderr",
     "output_type": "stream",
     "text": [
      "[Parallel(n_jobs=4)]: Done 100 out of 100 | elapsed:    0.4s finished\n",
      "[Parallel(n_jobs=4)]: Using backend ThreadingBackend with 4 concurrent workers.\n",
      "[Parallel(n_jobs=4)]: Done  42 tasks      | elapsed:    0.2s\n",
      "[Parallel(n_jobs=4)]: Done 100 out of 100 | elapsed:    0.4s finished\n",
      "[Parallel(n_jobs=4)]: Using backend ThreadingBackend with 4 concurrent workers.\n",
      "[Parallel(n_jobs=4)]: Done  42 tasks      | elapsed:    0.2s\n",
      "[Parallel(n_jobs=4)]: Done 100 out of 100 | elapsed:    0.4s finished\n",
      "[Parallel(n_jobs=4)]: Using backend ThreadingBackend with 4 concurrent workers.\n",
      "[Parallel(n_jobs=4)]: Done  42 tasks      | elapsed:    0.2s\n",
      "[Parallel(n_jobs=4)]: Done 100 out of 100 | elapsed:    0.4s finished\n",
      "[Parallel(n_jobs=4)]: Using backend ThreadingBackend with 4 concurrent workers.\n",
      "[Parallel(n_jobs=4)]: Done  42 tasks      | elapsed:    0.2s\n",
      "[Parallel(n_jobs=4)]: Done 100 out of 100 | elapsed:    0.4s finished\n",
      "[Parallel(n_jobs=4)]: Using backend ThreadingBackend with 4 concurrent workers.\n",
      "[Parallel(n_jobs=4)]: Done  42 tasks      | elapsed:    0.2s\n",
      "[Parallel(n_jobs=4)]: Done 100 out of 100 | elapsed:    0.4s finished\n",
      "[Parallel(n_jobs=4)]: Using backend ThreadingBackend with 4 concurrent workers.\n",
      "[Parallel(n_jobs=4)]: Done  42 tasks      | elapsed:    0.2s\n",
      "[Parallel(n_jobs=4)]: Done 100 out of 100 | elapsed:    0.4s finished\n",
      "[Parallel(n_jobs=4)]: Using backend ThreadingBackend with 4 concurrent workers.\n",
      "[Parallel(n_jobs=4)]: Done  42 tasks      | elapsed:    0.2s\n",
      "[Parallel(n_jobs=4)]: Done 100 out of 100 | elapsed:    0.4s finished\n",
      "[Parallel(n_jobs=4)]: Using backend ThreadingBackend with 4 concurrent workers.\n",
      "[Parallel(n_jobs=4)]: Done  42 tasks      | elapsed:    0.2s\n",
      "[Parallel(n_jobs=4)]: Done 100 out of 100 | elapsed:    0.4s finished\n",
      "[Parallel(n_jobs=4)]: Using backend ThreadingBackend with 4 concurrent workers.\n",
      "[Parallel(n_jobs=4)]: Done  42 tasks      | elapsed:    0.2s\n",
      "[Parallel(n_jobs=4)]: Done 100 out of 100 | elapsed:    0.4s finished\n",
      "[Parallel(n_jobs=4)]: Using backend ThreadingBackend with 4 concurrent workers.\n",
      "[Parallel(n_jobs=4)]: Done  42 tasks      | elapsed:    0.2s\n",
      "[Parallel(n_jobs=4)]: Done 100 out of 100 | elapsed:    0.4s finished\n",
      "[Parallel(n_jobs=4)]: Using backend ThreadingBackend with 4 concurrent workers.\n",
      "[Parallel(n_jobs=4)]: Done  42 tasks      | elapsed:    0.2s\n",
      "[Parallel(n_jobs=4)]: Done 100 out of 100 | elapsed:    0.4s finished\n",
      "[Parallel(n_jobs=4)]: Using backend ThreadingBackend with 4 concurrent workers.\n",
      "[Parallel(n_jobs=4)]: Done  42 tasks      | elapsed:    0.2s\n",
      "[Parallel(n_jobs=4)]: Done 100 out of 100 | elapsed:    0.4s finished\n",
      "[Parallel(n_jobs=4)]: Using backend ThreadingBackend with 4 concurrent workers.\n",
      "[Parallel(n_jobs=4)]: Done  42 tasks      | elapsed:    0.2s\n",
      "[Parallel(n_jobs=4)]: Done 100 out of 100 | elapsed:    0.4s finished\n",
      "[Parallel(n_jobs=4)]: Using backend ThreadingBackend with 4 concurrent workers.\n",
      "[Parallel(n_jobs=4)]: Done  42 tasks      | elapsed:    0.2s\n",
      "[Parallel(n_jobs=4)]: Done 100 out of 100 | elapsed:    0.4s finished\n",
      "[Parallel(n_jobs=4)]: Using backend ThreadingBackend with 4 concurrent workers.\n",
      "[Parallel(n_jobs=4)]: Done  42 tasks      | elapsed:    0.2s\n",
      "[Parallel(n_jobs=4)]: Done 100 out of 100 | elapsed:    0.4s finished\n",
      "[Parallel(n_jobs=4)]: Using backend ThreadingBackend with 4 concurrent workers.\n",
      "[Parallel(n_jobs=4)]: Done  42 tasks      | elapsed:    0.2s\n",
      "[Parallel(n_jobs=4)]: Done 100 out of 100 | elapsed:    0.4s finished\n",
      "[Parallel(n_jobs=4)]: Using backend ThreadingBackend with 4 concurrent workers.\n",
      "[Parallel(n_jobs=4)]: Done  42 tasks      | elapsed:    0.2s\n",
      "[Parallel(n_jobs=4)]: Done 100 out of 100 | elapsed:    0.4s finished\n",
      "[Parallel(n_jobs=4)]: Using backend ThreadingBackend with 4 concurrent workers.\n",
      "[Parallel(n_jobs=4)]: Done  42 tasks      | elapsed:    0.2s\n",
      "[Parallel(n_jobs=4)]: Done 100 out of 100 | elapsed:    0.4s finished\n",
      "[Parallel(n_jobs=4)]: Using backend ThreadingBackend with 4 concurrent workers.\n",
      "[Parallel(n_jobs=4)]: Done  42 tasks      | elapsed:    0.2s\n",
      "[Parallel(n_jobs=4)]: Done 100 out of 100 | elapsed:    0.4s finished\n",
      "[Parallel(n_jobs=4)]: Using backend ThreadingBackend with 4 concurrent workers.\n",
      "[Parallel(n_jobs=4)]: Done  42 tasks      | elapsed:    0.2s\n",
      "[Parallel(n_jobs=4)]: Done 100 out of 100 | elapsed:    0.4s finished\n",
      "[Parallel(n_jobs=4)]: Using backend ThreadingBackend with 4 concurrent workers.\n",
      "[Parallel(n_jobs=4)]: Done  42 tasks      | elapsed:    0.2s\n",
      "[Parallel(n_jobs=4)]: Done 100 out of 100 | elapsed:    0.4s finished\n",
      "[Parallel(n_jobs=4)]: Using backend ThreadingBackend with 4 concurrent workers.\n",
      "[Parallel(n_jobs=4)]: Done  42 tasks      | elapsed:    0.2s\n",
      "[Parallel(n_jobs=4)]: Done 100 out of 100 | elapsed:    0.4s finished\n",
      "[Parallel(n_jobs=4)]: Using backend ThreadingBackend with 4 concurrent workers.\n",
      "[Parallel(n_jobs=4)]: Done  42 tasks      | elapsed:    0.2s\n",
      "[Parallel(n_jobs=4)]: Done 100 out of 100 | elapsed:    0.4s finished\n",
      "[Parallel(n_jobs=4)]: Using backend ThreadingBackend with 4 concurrent workers.\n",
      "[Parallel(n_jobs=4)]: Done  42 tasks      | elapsed:    0.2s\n"
     ]
    },
    {
     "name": "stdout",
     "output_type": "stream",
     "text": [
      "BaggingRegressor - sample submission\n"
     ]
    },
    {
     "name": "stderr",
     "output_type": "stream",
     "text": [
      "[Parallel(n_jobs=4)]: Done 100 out of 100 | elapsed:    0.4s finished\n"
     ]
    },
    {
     "data": {
      "text/html": [
       "<div>\n",
       "<style scoped>\n",
       "    .dataframe tbody tr th:only-of-type {\n",
       "        vertical-align: middle;\n",
       "    }\n",
       "\n",
       "    .dataframe tbody tr th {\n",
       "        vertical-align: top;\n",
       "    }\n",
       "\n",
       "    .dataframe thead th {\n",
       "        text-align: right;\n",
       "    }\n",
       "</style>\n",
       "<table border=\"1\" class=\"dataframe\">\n",
       "  <thead>\n",
       "    <tr style=\"text-align: right;\">\n",
       "      <th></th>\n",
       "      <th>sell_id</th>\n",
       "      <th>price</th>\n",
       "    </tr>\n",
       "  </thead>\n",
       "  <tbody>\n",
       "    <tr>\n",
       "      <th>0</th>\n",
       "      <td>1100575026</td>\n",
       "      <td>5.829308e+05</td>\n",
       "    </tr>\n",
       "    <tr>\n",
       "      <th>1</th>\n",
       "      <td>1100549428</td>\n",
       "      <td>9.385687e+05</td>\n",
       "    </tr>\n",
       "    <tr>\n",
       "      <th>2</th>\n",
       "      <td>1100658222</td>\n",
       "      <td>8.494125e+05</td>\n",
       "    </tr>\n",
       "    <tr>\n",
       "      <th>3</th>\n",
       "      <td>1100937408</td>\n",
       "      <td>6.308831e+05</td>\n",
       "    </tr>\n",
       "    <tr>\n",
       "      <th>4</th>\n",
       "      <td>1101037972</td>\n",
       "      <td>7.648754e+05</td>\n",
       "    </tr>\n",
       "    <tr>\n",
       "      <th>5</th>\n",
       "      <td>1100912634</td>\n",
       "      <td>7.354483e+05</td>\n",
       "    </tr>\n",
       "    <tr>\n",
       "      <th>6</th>\n",
       "      <td>1101228730</td>\n",
       "      <td>6.231182e+05</td>\n",
       "    </tr>\n",
       "    <tr>\n",
       "      <th>7</th>\n",
       "      <td>1100165896</td>\n",
       "      <td>3.771315e+05</td>\n",
       "    </tr>\n",
       "    <tr>\n",
       "      <th>8</th>\n",
       "      <td>1100768262</td>\n",
       "      <td>1.584713e+06</td>\n",
       "    </tr>\n",
       "    <tr>\n",
       "      <th>9</th>\n",
       "      <td>1101218501</td>\n",
       "      <td>1.000693e+06</td>\n",
       "    </tr>\n",
       "  </tbody>\n",
       "</table>\n",
       "</div>"
      ],
      "text/plain": [
       "      sell_id         price\n",
       "0  1100575026  5.829308e+05\n",
       "1  1100549428  9.385687e+05\n",
       "2  1100658222  8.494125e+05\n",
       "3  1100937408  6.308831e+05\n",
       "4  1101037972  7.648754e+05\n",
       "5  1100912634  7.354483e+05\n",
       "6  1101228730  6.231182e+05\n",
       "7  1100165896  3.771315e+05\n",
       "8  1100768262  1.584713e+06\n",
       "9  1101218501  1.000693e+06"
      ]
     },
     "metadata": {},
     "output_type": "display_data"
    }
   ],
   "source": [
    "start_time = time.time()\n",
    "bagging_model = BaggingRegressor(etr_log,  n_estimators = 25, max_samples = 0.6, \n",
    "                                 random_state=42).fit(X_train, np.log(y_train))\n",
    "\n",
    "score = round(mape(y_test, y_pred) * 100, 2)\n",
    "print(\n",
    "    f\"The MAPE mertic for the BaggingRegressor model is: {score}%.\")\n",
    "\n",
    "program_time = time.time() - start_time\n",
    "output_submission(bagging_model, 'BaggingRegressor', score, program_time)"
   ]
  },
  {
   "cell_type": "markdown",
   "metadata": {
    "papermill": {
     "duration": 0.134454,
     "end_time": "2021-12-15T19:03:03.681393",
     "exception": false,
     "start_time": "2021-12-15T19:03:03.546939",
     "status": "completed"
    },
    "tags": []
   },
   "source": [
    "### The MAPE mertic for the BaggingRegressor model is: 13.4% with time 180.6331648826599"
   ]
  },
  {
   "cell_type": "markdown",
   "metadata": {
    "papermill": {
     "duration": 0.131749,
     "end_time": "2021-12-15T19:03:03.945776",
     "exception": false,
     "start_time": "2021-12-15T19:03:03.814027",
     "status": "completed"
    },
    "tags": []
   },
   "source": [
    "# Submission"
   ]
  },
  {
   "cell_type": "code",
   "execution_count": 65,
   "metadata": {
    "execution": {
     "iopub.execute_input": "2021-12-15T19:03:04.218381Z",
     "iopub.status.busy": "2021-12-15T19:03:04.217735Z",
     "iopub.status.idle": "2021-12-15T19:03:04.224188Z",
     "shell.execute_reply": "2021-12-15T19:03:04.224682Z"
    },
    "papermill": {
     "duration": 0.1433,
     "end_time": "2021-12-15T19:03:04.224851",
     "exception": false,
     "start_time": "2021-12-15T19:03:04.081551",
     "status": "completed"
    },
    "tags": []
   },
   "outputs": [
    {
     "name": "stdout",
     "output_type": "stream",
     "text": [
      "The MAPE mertic for the ExtraTreesRegressor model is: 13.4% with time 12.710017681121826\n",
      "The MAPE mertic for the BaggingRegressor model is: 13.4% with time 180.5779001712799\n"
     ]
    }
   ],
   "source": [
    "for key, value in SUBMISSION_DICT.items():\n",
    "    print(f'The MAPE mertic for the {key} model is: {value}')"
   ]
  },
  {
   "cell_type": "markdown",
   "metadata": {
    "papermill": {
     "duration": 0.163157,
     "end_time": "2021-12-15T19:03:04.523249",
     "exception": false,
     "start_time": "2021-12-15T19:03:04.360092",
     "status": "completed"
    },
    "tags": []
   },
   "source": [
    "# ВЫВОДЫ\n",
    "\n",
    "Таким образом, мы обучили и протестировали 7 моделей:\n",
    "\n",
    "1. Наивная модель (МАРЕ - \n",
    "2. CatBoost Log Traget (MAPE - 13.42%, time 55.4)\n",
    "3. ExtraTreesRegressor (MAPE - 11.72%, time 13.04)\n",
    "4. XGBoostRegressor (MAPE - 12.05%, time 146.8)\n",
    "5. RandomForestRegressor (MAPE - 13.65%, time 82.8)\n",
    "6. StackingRegressor (MAPE - 12.7%, time 358.9)\n",
    "7. BaggingRegressor (MAPE - 13.4%, time - 180.6)\n",
    "\n",
    "Как видим, лучшей моделью стала модель на основе регрессии с экстра-деревьями. Она показала лучшее значение, как метрики МАРЕ, так и времени работы.\n",
    "Таким образом, мы создали модель, предсказывающую стоимость автомобиля по его характеристикам, которая имеет MAPE 11.7%\n"
   ]
  },
  {
   "cell_type": "code",
   "execution_count": null,
   "metadata": {
    "papermill": {
     "duration": 0.133521,
     "end_time": "2021-12-15T19:03:04.791753",
     "exception": false,
     "start_time": "2021-12-15T19:03:04.658232",
     "status": "completed"
    },
    "tags": []
   },
   "outputs": [],
   "source": []
  }
 ],
 "metadata": {
  "kernelspec": {
   "display_name": "Python 3",
   "language": "python",
   "name": "python3"
  },
  "language_info": {
   "codemirror_mode": {
    "name": "ipython",
    "version": 3
   },
   "file_extension": ".py",
   "mimetype": "text/x-python",
   "name": "python",
   "nbconvert_exporter": "python",
   "pygments_lexer": "ipython3",
   "version": "3.7.6"
  },
  "papermill": {
   "duration": 274.24058,
   "end_time": "2021-12-15T19:03:06.396954",
   "environment_variables": {},
   "exception": null,
   "input_path": "__notebook__.ipynb",
   "output_path": "__notebook__.ipynb",
   "parameters": {},
   "start_time": "2021-12-15T18:58:32.156374",
   "version": "2.1.0"
  }
 },
 "nbformat": 4,
 "nbformat_minor": 4
}
